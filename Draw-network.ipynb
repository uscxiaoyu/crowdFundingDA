{
 "cells": [
  {
   "cell_type": "code",
   "execution_count": null,
   "metadata": {},
   "outputs": [],
   "source": [
    "from pymongo import MongoClient\n",
    "import networkx as nx\n",
    "import plotly.plotly as py\n",
    "import plotly.graph_objs as go\n",
    "import plotly\n",
    "plotly.offline.init_notebook_mode()"
   ]
  },
  {
   "cell_type": "code",
   "execution_count": null,
   "metadata": {},
   "outputs": [],
   "source": [
    "client = MongoClient('localhost', 27017)\n",
    "db = client.moniter_crowdfunding\n",
    "project = db.projects\n",
    "f_project = db.failure_projects\n",
    "p_founder = db.founders"
   ]
  },
  {
   "cell_type": "markdown",
   "metadata": {},
   "source": [
    "支持项目网络"
   ]
  },
  {
   "cell_type": "code",
   "execution_count": null,
   "metadata": {},
   "outputs": [],
   "source": [
    "dg1 = nx.DiGraph(discription=\"支持项目网络\")"
   ]
  },
  {
   "cell_type": "code",
   "execution_count": null,
   "metadata": {},
   "outputs": [],
   "source": [
    "for x in p_founder.find({}):\n",
    "    node = x['_id']\n",
    "    dg1.add_node(node)\n",
    "    for neighbor in x['支持项目'].keys():\n",
    "        dg1.add_edge(node, neighbor)"
   ]
  },
  {
   "cell_type": "markdown",
   "metadata": {},
   "source": [
    "关注关系网络"
   ]
  },
  {
   "cell_type": "code",
   "execution_count": null,
   "metadata": {},
   "outputs": [],
   "source": [
    "dg2 = nx.DiGraph(discription=\"关注项目网络\")"
   ]
  },
  {
   "cell_type": "code",
   "execution_count": null,
   "metadata": {},
   "outputs": [],
   "source": [
    "for x in p_founder.find({}):\n",
    "    node = x['_id']\n",
    "    dg2.add_node(node, numPrjs=len(x['发起项目']))\n",
    "    for neighbor in x['关注项目'].keys():\n",
    "        if neighbor not in x['发起项目'].keys():\n",
    "            dg2.add_edge(node, neighbor)"
   ]
  },
  {
   "cell_type": "code",
   "execution_count": null,
   "metadata": {},
   "outputs": [],
   "source": [
    "for u, v in nx.selfloop_edges(dg2):\n",
    "    dg2.remove_edge(u, v)"
   ]
  },
  {
   "cell_type": "code",
   "execution_count": null,
   "metadata": {},
   "outputs": [],
   "source": [
    "out_degr = list(dict(dg2.out_degree()).items())"
   ]
  },
  {
   "cell_type": "code",
   "execution_count": null,
   "metadata": {},
   "outputs": [],
   "source": [
    "out_degr.sort(key=lambda x:x[1], reverse=True)"
   ]
  },
  {
   "cell_type": "markdown",
   "metadata": {},
   "source": [
    "绘图"
   ]
  },
  {
   "cell_type": "code",
   "execution_count": null,
   "metadata": {},
   "outputs": [],
   "source": [
    "sub_dg2 = dg2.subgraph(list(dg2)[:1000])"
   ]
  },
  {
   "cell_type": "code",
   "execution_count": null,
   "metadata": {},
   "outputs": [],
   "source": [
    "pos = nx.fruchterman_reingold_layout(sub_dg2)   # 各个节点的位置"
   ]
  },
  {
   "cell_type": "code",
   "execution_count": null,
   "metadata": {},
   "outputs": [],
   "source": [
    "go.layout.Margin(l=40, r=40, b=85, t=100, )"
   ]
  },
  {
   "cell_type": "code",
   "execution_count": null,
   "metadata": {},
   "outputs": [],
   "source": [
    "# hide axis line, grid, ticklabels and title\n",
    "axis = dict(showline=False, zeroline=False, showgrid=False, showticklabels=False, title='')\n",
    "width = 800\n",
    "height = 800\n",
    "layout = go.Layout(title= \"Network of sponsors of crowd funding projects\",  \n",
    "            font=dict(size=12),\n",
    "            showlegend=False,\n",
    "            autosize=False,\n",
    "            width=width,\n",
    "            height=height,\n",
    "            xaxis=go.layout.XAxis(axis),\n",
    "            yaxis=go.layout.YAxis(axis),          \n",
    "            margin=go.layout.Margin(l=40, r=40, b=85, t=100, ),\n",
    "            hovermode='closest',\n",
    "            annotations=[\n",
    "                       dict(\n",
    "                            showarrow=False, \n",
    "                            text='This',  \n",
    "                            xref='paper',     \n",
    "                            yref='paper',     \n",
    "                            x=0,  \n",
    "                            y=-0.1,  \n",
    "                            xanchor='left',   \n",
    "                            yanchor='bottom',  \n",
    "                            font=dict(size=14)     \n",
    "                            )\n",
    "                        ]          \n",
    "                    )"
   ]
  },
  {
   "cell_type": "code",
   "execution_count": null,
   "metadata": {},
   "outputs": [],
   "source": [
    "Xv = [pos[k][0] for k in sub_dg2.nodes]\n",
    "Yv = [pos[k][1] for k in sub_dg2.nodes]\n",
    "Xed = []\n",
    "Yed = []\n",
    "for u, v in sub_dg2.edges:  # 边的位置\n",
    "    Xed += [pos[u][0], pos[v][0]]\n",
    "    Yed += [pos[u][1], pos[v][1]]\n",
    "    \n",
    "trace1 = go.Scatter(x=Xed,\n",
    "                    y=Yed,\n",
    "                    mode='lines',\n",
    "                    line=dict(color='#698B69', width=0.3),\n",
    "                    hoverinfo='none',\n",
    "                    opacity=0.5\n",
    "                   )\n",
    "\n",
    "# 节点标签\n",
    "labels = list(dg2.nodes)\n",
    "\n",
    "trace2 = go.Scatter(x=Xv,\n",
    "                   y=Yv,\n",
    "                   mode='markers',\n",
    "                   name='net',\n",
    "                   marker=dict(symbol='circle-dot',\n",
    "                               size=5, \n",
    "                               color='#00868B',\n",
    "                               line=dict(color='#8B0A50', \n",
    "                                         width=0.5),\n",
    "                               opacity=0.5\n",
    "                                 ),\n",
    "                   text=labels,\n",
    "                   hoverinfo='text'\n",
    "                   )\n",
    "\n",
    "annot=\"项目发起人子网络(选取1000个节点)\"\n",
    "data1 = [trace1, trace2]\n",
    "fig1 = go.Figure(data=data1, layout=layout)\n",
    "fig1['layout']['annotations'][0]['text']=annot\n",
    "py.iplot(fig1, filename='Network for sponsors of crowdfunding')"
   ]
  },
  {
   "cell_type": "code",
   "execution_count": null,
   "metadata": {},
   "outputs": [],
   "source": [
    "trace2"
   ]
  },
  {
   "cell_type": "code",
   "execution_count": null,
   "metadata": {},
   "outputs": [],
   "source": [
    "trace1"
   ]
  },
  {
   "cell_type": "code",
   "execution_count": null,
   "metadata": {},
   "outputs": [],
   "source": []
  }
 ],
 "metadata": {
  "kernelspec": {
   "display_name": "python37",
   "language": "python",
   "name": "python37"
  },
  "language_info": {
   "codemirror_mode": {
    "name": "ipython",
    "version": 3
   },
   "file_extension": ".py",
   "mimetype": "text/x-python",
   "name": "python",
   "nbconvert_exporter": "python",
   "pygments_lexer": "ipython3",
   "version": "3.7.0"
  }
 },
 "nbformat": 4,
 "nbformat_minor": 2
}
