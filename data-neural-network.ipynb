{
 "cells": [
  {
   "cell_type": "code",
   "execution_count": 2,
   "metadata": {},
   "outputs": [
    {
     "name": "stderr",
     "output_type": "stream",
     "text": [
      "/Users/xiaoyu/miniforge3/lib/python3.9/site-packages/statsmodels/compat/pandas.py:65: FutureWarning: pandas.Int64Index is deprecated and will be removed from pandas in a future version. Use pandas.Index with the appropriate dtype instead.\n",
      "  from pandas import Int64Index as NumericIndex\n"
     ]
    }
   ],
   "source": [
    "%matplotlib inline\n",
    "import matplotlib.pyplot as plt\n",
    "import matplotlib as mpl\n",
    "import numpy as np\n",
    "import pandas as pd\n",
    "import datetime\n",
    "import statsmodels.formula.api as smf\n",
    "from bson import ObjectId\n",
    "from pymongo import MongoClient\n",
    "import matplotlib as mpl"
   ]
  },
  {
   "cell_type": "code",
   "execution_count": 3,
   "metadata": {},
   "outputs": [],
   "source": [
    "client = MongoClient('127.0.0.1', 27017)\n",
    "db = client.moniter_crowdfunding"
   ]
  },
  {
   "cell_type": "code",
   "execution_count": 4,
   "metadata": {},
   "outputs": [],
   "source": [
    "project = db.projects\n",
    "s_project = db.success_projects\n",
    "f_project = db.failure_projects\n",
    "front_page = db.front_page\n",
    "company = db.companies"
   ]
  },
  {
   "cell_type": "code",
   "execution_count": 5,
   "metadata": {},
   "outputs": [
    {
     "data": {
      "text/plain": [
       "dict_keys(['_id', '众筹期限', '公司地址', '状态变换时间1-2', '各档基础信息', '爬取次数', '项目名称', '所属类别', '状态', '公司电话', '状态变换时间0-1', '目标金额', '发起人链接', '公司工作时间', '公司名称', '发起人名称', '状态变换时间2-3', '状态变换时间3-4'])"
      ]
     },
     "execution_count": 5,
     "metadata": {},
     "output_type": "execute_result"
    }
   ],
   "source": [
    "x = s_project.find_one({}, projection={'项目动态信息': False, '各档动态信息': False, '评论': False})\n",
    "x.keys()"
   ]
  },
  {
   "cell_type": "code",
   "execution_count": 6,
   "metadata": {},
   "outputs": [],
   "source": [
    "def get_front_demo_data(a_dict, t_dict, pid):\n",
    "    \"\"\"\n",
    "    递归获取时间序列t_dict。t_dict与a_dict键相对应，查看对应时期各监测时间点的各展区是否包含目标pid\n",
    "    \"\"\"\n",
    "    for key in a_dict:\n",
    "        if isinstance(a_dict[key], list):\n",
    "            if pid in a_dict[key]:\n",
    "                t_dict[key] = t_dict.get(key, []) + [1]\n",
    "            else:\n",
    "                t_dict[key] = t_dict.get(key, []) + [0]\n",
    "        elif isinstance(a_dict[key], dict):\n",
    "            t_dict[key] = get_front_demo_data(a_dict[key], {}, pid)\n",
    "        elif key == \"监测时间\":\n",
    "            t_dict[key] = t_dict.get(key, []) + [a_dict[key]]\n",
    "        else:\n",
    "            pass\n",
    "    return t_dict"
   ]
  },
  {
   "cell_type": "code",
   "execution_count": 14,
   "metadata": {},
   "outputs": [],
   "source": [
    "def get_eff_data(t_dict, prev_keys=[], dataset={}):\n",
    "    \"\"\"\n",
    "    递归获取t_dict对应压缩形式\n",
    "    \"\"\"\n",
    "    for key in t_dict:\n",
    "        if isinstance(t_dict[key], list):\n",
    "            c_key = \">\".join(prev_keys + [key]) if prev_keys else key\n",
    "            dataset[c_key] = t_dict[key]\n",
    "        else:\n",
    "            dataset = get_eff_data(\n",
    "                t_dict[key], prev_keys + [key], dataset)\n",
    "            \n",
    "    return dataset"
   ]
  },
  {
   "cell_type": "code",
   "execution_count": 18,
   "metadata": {},
   "outputs": [],
   "source": [
    "def get_front_position(proj):\n",
    "    \"\"\"\n",
    "    获取众筹生命周期内在首页各位置出现时间的判断\n",
    "    \"\"\"\n",
    "    # 项目扩散数据最早与最晚时间点\n",
    "    t_start = proj['项目动态信息'][0]['爬取时间']\n",
    "    t_end = proj['项目动态信息'][-1]['爬取时间'] + \\\n",
    "        datetime.timedelta(hours=8)\n",
    "    # 取出这个时间段的主页观察数据\n",
    "    f_page = front_page.find(\n",
    "        {\"监测时间\": {\"$gte\": t_start, \"$lte\": t_end}}, sort=[(\"监测时间\", 1)]\n",
    "    )\n",
    "    # 迭代查看_id是否存在各时间点的各展区\n",
    "    t_dict = {}\n",
    "    for a in f_page:\n",
    "        t_dict = get_front_demo_data(a, t_dict, id)\n",
    "        \n",
    "    # 转换为DataFrame\n",
    "    dataset = get_eff_data(t_dict)\n",
    "    col_names = list(dataset)\n",
    "    col_names.remove(\"监测时间\")\n",
    "    front_df = pd.DataFrame(\n",
    "        dataset, index=dataset[\"监测时间\"], columns=col_names)\n",
    "    \n",
    "    return front_df"
   ]
  },
  {
   "cell_type": "code",
   "execution_count": 20,
   "metadata": {},
   "outputs": [],
   "source": [
    "x = s_project.find_one()"
   ]
  },
  {
   "cell_type": "code",
   "execution_count": 21,
   "metadata": {},
   "outputs": [],
   "source": [
    "front_df = get_front_position(x)"
   ]
  },
  {
   "cell_type": "code",
   "execution_count": 12,
   "metadata": {},
   "outputs": [],
   "source": [
    "pid = '98553'\n",
    "t_dict = {}\n",
    "f_item = front_page.find_one({})\n",
    "t_dict = get_front_demo_data(f_item, t_dict=t_dict, pid=pid)"
   ]
  },
  {
   "cell_type": "code",
   "execution_count": 13,
   "metadata": {},
   "outputs": [
    {
     "data": {
      "text/plain": [
       "{'轮播': {'r-t': [0], 'left': [0], 'r-b-r': [0], 'r-b-l': [0]},\n",
       " '即将上架': [1],\n",
       " 'demostr_proj': {'健康出行': {'左上大图': [0], '其它图': [0]},\n",
       "  '生活美学': {'左上大图': [0], '其它图': [0]},\n",
       "  '文化艺术': {'左上大图': [0], '其它图': [0]},\n",
       "  '惠民扶贫': {'左上大图': [0], '其它图': [0]},\n",
       "  '美食市集': {'左上大图': [0], '其它图': [0]},\n",
       "  '新奇酷玩': {'左上大图': [0], '其它图': [0]}},\n",
       " '监测时间': [datetime.datetime(2018, 4, 28, 10, 10, 55, 130000)],\n",
       " '即将结束': [0],\n",
       " '热门推荐': [0],\n",
       " '最新上架': [0]}"
      ]
     },
     "execution_count": 13,
     "metadata": {},
     "output_type": "execute_result"
    }
   ],
   "source": [
    "t_dict"
   ]
  },
  {
   "cell_type": "code",
   "execution_count": null,
   "metadata": {},
   "outputs": [
    {
     "data": {
      "text/plain": [
       "{'轮播>r-t': [0],\n",
       " '轮播>left': [0],\n",
       " '轮播>r-b-r': [0],\n",
       " '轮播>r-b-l': [0],\n",
       " '即将上架': [1],\n",
       " 'demostr_proj>健康出行>左上大图': [0],\n",
       " 'demostr_proj>健康出行>其它图': [0],\n",
       " 'demostr_proj>生活美学>左上大图': [0],\n",
       " 'demostr_proj>生活美学>其它图': [0],\n",
       " 'demostr_proj>文化艺术>左上大图': [0],\n",
       " 'demostr_proj>文化艺术>其它图': [0],\n",
       " 'demostr_proj>惠民扶贫>左上大图': [0],\n",
       " 'demostr_proj>惠民扶贫>其它图': [0],\n",
       " 'demostr_proj>美食市集>左上大图': [0],\n",
       " 'demostr_proj>美食市集>其它图': [0],\n",
       " 'demostr_proj>新奇酷玩>左上大图': [0],\n",
       " 'demostr_proj>新奇酷玩>其它图': [0],\n",
       " '监测时间': [datetime.datetime(2018, 4, 28, 10, 10, 55, 130000)],\n",
       " '即将结束': [0],\n",
       " '热门推荐': [0],\n",
       " '最新上架': [0]}"
      ]
     },
     "metadata": {},
     "output_type": "display_data"
    }
   ],
   "source": [
    "get_eff_data(t_dict=t_dict)"
   ]
  },
  {
   "cell_type": "code",
   "execution_count": null,
   "metadata": {},
   "outputs": [],
   "source": []
  }
 ],
 "metadata": {
  "kernelspec": {
   "display_name": "base",
   "language": "python",
   "name": "python3"
  },
  "language_info": {
   "codemirror_mode": {
    "name": "ipython",
    "version": 3
   },
   "file_extension": ".py",
   "mimetype": "text/x-python",
   "name": "python",
   "nbconvert_exporter": "python",
   "pygments_lexer": "ipython3",
   "version": "3.9.12"
  },
  "orig_nbformat": 4
 },
 "nbformat": 4,
 "nbformat_minor": 2
}
