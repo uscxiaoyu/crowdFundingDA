{
 "cells": [
  {
   "cell_type": "code",
   "execution_count": 1,
   "metadata": {},
   "outputs": [],
   "source": [
    "%matplotlib inline\n",
    "import matplotlib.pyplot as plt\n",
    "import matplotlib as mpl\n",
    "import numpy as np\n",
    "import pandas as pd\n",
    "import datetime\n",
    "from bson import ObjectId\n",
    "from pymongo import MongoClient\n",
    "from scipy.optimize import minimize"
   ]
  },
  {
   "cell_type": "code",
   "execution_count": 2,
   "metadata": {},
   "outputs": [],
   "source": [
    "client = MongoClient('127.0.0.1', 27017)\n",
    "db = client.moniter_crowdfunding\n",
    "# db.authenticate(name=\"craw\", password=\"craw\")"
   ]
  },
  {
   "cell_type": "code",
   "execution_count": 3,
   "metadata": {},
   "outputs": [],
   "source": [
    "project = db.projects\n",
    "s_project = db.sucess_projects\n",
    "f_project = db.failure_projects\n",
    "front_page = db.front_page"
   ]
  },
  {
   "cell_type": "code",
   "execution_count": 5,
   "metadata": {},
   "outputs": [
    {
     "data": {
      "text/plain": [
       "'100010'"
      ]
     },
     "execution_count": 5,
     "metadata": {},
     "output_type": "execute_result"
    }
   ],
   "source": [
    "s_project.find_one()['_id']"
   ]
  },
  {
   "cell_type": "code",
   "execution_count": 10,
   "metadata": {},
   "outputs": [],
   "source": [
    "import sys"
   ]
  },
  {
   "cell_type": "code",
   "execution_count": 11,
   "metadata": {},
   "outputs": [],
   "source": [
    "def iterd(n):\n",
    "    try:\n",
    "        for i in range(n):\n",
    "            yield i\n",
    "    except StopIteration:\n",
    "        sys.exit()"
   ]
  },
  {
   "cell_type": "code",
   "execution_count": null,
   "metadata": {},
   "outputs": [],
   "source": [
    "class IterProj(object):\n",
    "    def __init__(self, pids, projects, front_page):\n",
    "        self.index = 0\n",
    "        self.pids = pids\n",
    "        self.proj = projects.find_one({'_id': self.pids[self.index]})\n",
    "    \n",
    "    def __iter__(self):\n",
    "        return self\n",
    "    \n",
    "    def __next__(self):\n",
    "        if self.index < len(self.pids):\n",
    "            proj = ProjData()\n",
    "        \n",
    "        "
   ]
  },
  {
   "cell_type": "code",
   "execution_count": 13,
   "metadata": {},
   "outputs": [
    {
     "name": "stdout",
     "output_type": "stream",
     "text": [
      "0\n",
      "1\n",
      "2\n",
      "3\n",
      "4\n",
      "5\n",
      "6\n",
      "7\n",
      "8\n",
      "9\n"
     ]
    }
   ],
   "source": [
    "a = iterd(10)\n",
    "for i in range(10):\n",
    "    print(next(a))"
   ]
  },
  {
   "cell_type": "markdown",
   "metadata": {},
   "source": [
    "# 处理评论数据"
   ]
  },
  {
   "cell_type": "code",
   "execution_count": null,
   "metadata": {},
   "outputs": [],
   "source": [
    "proj = s_project.find_one({\"项目动态信息.0.爬取时间\": {'$gte': datetime.datetime(2019, 1, 1), \n",
    "                                       '$lte': datetime.datetime(2019, 1, 30)}})"
   ]
  },
  {
   "cell_type": "code",
   "execution_count": null,
   "metadata": {},
   "outputs": [],
   "source": [
    "proj.keys()"
   ]
  },
  {
   "cell_type": "code",
   "execution_count": null,
   "metadata": {},
   "outputs": [],
   "source": [
    "review = proj['评论']"
   ]
  },
  {
   "cell_type": "code",
   "execution_count": null,
   "metadata": {},
   "outputs": [],
   "source": [
    "review.keys()"
   ]
  },
  {
   "cell_type": "code",
   "execution_count": null,
   "metadata": {},
   "outputs": [],
   "source": [
    "review['爬取时间'], review['总页数'], review['总评论数']"
   ]
  },
  {
   "cell_type": "code",
   "execution_count": null,
   "metadata": {},
   "outputs": [],
   "source": [
    "review_spe = review['评论详细']"
   ]
  },
  {
   "cell_type": "code",
   "execution_count": null,
   "metadata": {},
   "outputs": [],
   "source": [
    "review_spe.keys()"
   ]
  },
  {
   "cell_type": "code",
   "execution_count": null,
   "metadata": {},
   "outputs": [],
   "source": [
    "keys = ['createTime', 'topicId', 'nicknameShow', 'topicContent', 'likeCount', 'replys']"
   ]
  },
  {
   "cell_type": "code",
   "execution_count": null,
   "metadata": {},
   "outputs": [],
   "source": [
    "for t_id in review_spe:\n",
    "    print(t_id)\n",
    "    for key in keys:\n",
    "        print('    ', key, review_spe[t_id][key])\n",
    "    print('\\n')"
   ]
  },
  {
   "cell_type": "code",
   "execution_count": null,
   "metadata": {},
   "outputs": [],
   "source": [
    "class ProjData:\n",
    "    def __init__(self, proj, diffu_col_names, review_col_names, front_page):\n",
    "        self.proj = proj\n",
    "        self.front_page = front_page\n",
    "        self.diffu_col_names = diffu_col_names\n",
    "        self.review_col_names = review_col_names\n",
    "        try:\n",
    "            self.id = self.proj[\"_id\"]\n",
    "            self.name = self.proj[\"项目名称\"]\n",
    "            self.state = self.proj[\"状态\"]\n",
    "            self.duration = self.proj[\"众筹期限\"]\n",
    "            self.aim_fund = self.proj[\"目标金额\"]\n",
    "            self.final_fund = self.proj[\"项目动态信息\"][-1][\"筹集金额\"]\n",
    "            self.company_name = self.proj[\"公司名称\"]\n",
    "            self.company_phone = self.proj[\"公司电话\"]\n",
    "            self.link = self.proj[\"发起人链接\"]\n",
    "            self.category = self.proj[\"所属类别\"]\n",
    "            self.review = self.proj['评论']\n",
    "            self.num_review = self.proj['评论']['总评论数']\n",
    "            \n",
    "            self.review_df = self.get_review_data()\n",
    "\n",
    "#             self.pure_diffu_df = self.get_pure_diffu()  # 未处理的扩散数据\n",
    "#             self.front_df = self.get_front_position()  # 首页数据\n",
    "#             self.diffu_df = self.merge_diffu_position()\n",
    "#             self.diffu_day_df = self.to_diffu_day_df()  # 每天最晚时间点的扩散数据\n",
    "#             self.cum_diffu_df = self.prepare_data()  # 索引为相对众筹开始时间点的间隔\n",
    "        except Exception as e:\n",
    "            print(e)\n",
    "    \n",
    "    def get_review_data(self):\n",
    "        raw_review = self.review['评论详细']\n",
    "        indices = []\n",
    "        values = []\n",
    "        for t_id in raw_review:\n",
    "            value = []\n",
    "            for key in self.review_col_names:\n",
    "                if key == 'createTime':\n",
    "                    indices.append(raw_review[t_id][key])\n",
    "                else:\n",
    "                    value.append(raw_review[t_id][key])\n",
    "                \n",
    "            values.append(value)\n",
    "        columns = self.review_col_names[1:]\n",
    "        return pd.DataFrame(values, index=indices, columns=columns)\n",
    "            "
   ]
  },
  {
   "cell_type": "code",
   "execution_count": null,
   "metadata": {},
   "outputs": [],
   "source": [
    "diffu_col_names = [\"星期\", \"关注数\", \"支持者数\", \"点赞数\", \"完成百分比\", \"筹集金额\"]\n",
    "review_col_names = ['createTime', 'topicId', 'nicknameShow', 'topicContent', 'likeCount', 'replys']\n",
    "proj = s_project.find_one({'项目动态信息.0.爬取时间': {'$gte': datetime.datetime(2019, 1, 1),\n",
    "                                         '$lte': datetime.datetime(2019, 1, 10)}})"
   ]
  },
  {
   "cell_type": "code",
   "execution_count": null,
   "metadata": {},
   "outputs": [],
   "source": [
    "p = ProjData(proj, diffu_col_names, review_col_names, front_page)"
   ]
  },
  {
   "cell_type": "code",
   "execution_count": null,
   "metadata": {},
   "outputs": [],
   "source": [
    "p.review_df"
   ]
  },
  {
   "cell_type": "code",
   "execution_count": null,
   "metadata": {},
   "outputs": [],
   "source": []
  }
 ],
 "metadata": {
  "kernelspec": {
   "display_name": "Python 3",
   "language": "python",
   "name": "python3"
  },
  "language_info": {
   "codemirror_mode": {
    "name": "ipython",
    "version": 3
   },
   "file_extension": ".py",
   "mimetype": "text/x-python",
   "name": "python",
   "nbconvert_exporter": "python",
   "pygments_lexer": "ipython3",
   "version": "3.7.3"
  }
 },
 "nbformat": 4,
 "nbformat_minor": 4
}
