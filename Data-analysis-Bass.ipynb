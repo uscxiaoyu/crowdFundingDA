{
 "cells": [
  {
   "cell_type": "code",
   "execution_count": 1,
   "metadata": {},
   "outputs": [],
   "source": [
    "%matplotlib inline\n",
    "import matplotlib.pyplot as plt\n",
    "import matplotlib as mpl\n",
    "import numpy as np\n",
    "import pandas as pd\n",
    "import datetime\n",
    "from bson import ObjectId\n",
    "from pymongo import MongoClient\n",
    "from scipy.optimize import minimize"
   ]
  },
  {
   "cell_type": "code",
   "execution_count": 2,
   "metadata": {},
   "outputs": [],
   "source": [
    "client = MongoClient('127.0.0.1', 27017)\n",
    "db = client.moniter_crowdfunding\n",
    "# db.authenticate(name=\"craw\", password=\"craw\")"
   ]
  },
  {
   "cell_type": "code",
   "execution_count": 3,
   "metadata": {},
   "outputs": [
    {
     "data": {
      "text/plain": [
       "['system.views',\n",
       " 'sucess_projects',\n",
       " 'front_page',\n",
       " 'projects',\n",
       " 'founders',\n",
       " 'failure_projects',\n",
       " 'viewCateSucc',\n",
       " 'viewCateFail']"
      ]
     },
     "execution_count": 3,
     "metadata": {},
     "output_type": "execute_result"
    }
   ],
   "source": [
    "db.list_collection_names()"
   ]
  },
  {
   "cell_type": "code",
   "execution_count": 4,
   "metadata": {},
   "outputs": [],
   "source": [
    "project = db.projects\n",
    "s_project = db.sucess_projects\n",
    "f_project = db.failure_projects\n",
    "front_page = db.front_page"
   ]
  },
  {
   "cell_type": "markdown",
   "metadata": {},
   "source": [
    "- array查询"
   ]
  },
  {
   "cell_type": "code",
   "execution_count": null,
   "metadata": {},
   "outputs": [],
   "source": []
  },
  {
   "cell_type": "code",
   "execution_count": 36,
   "metadata": {},
   "outputs": [
    {
     "data": {
      "text/plain": [
       "{'_id': '104000',\n",
       " '项目动态信息': [{'爬取时间': datetime.datetime(2019, 1, 19, 0, 0, 14, 320000),\n",
       "   '支持者数': 0},\n",
       "  {'爬取时间': datetime.datetime(2019, 1, 19, 12, 0, 12, 630000), '支持者数': 0},\n",
       "  {'爬取时间': datetime.datetime(2019, 1, 19, 18, 0, 14, 129000), '支持者数': 0},\n",
       "  {'爬取时间': datetime.datetime(2019, 1, 20, 0, 0, 14, 78000), '支持者数': 0},\n",
       "  {'爬取时间': datetime.datetime(2019, 1, 20, 6, 0, 14, 352000), '支持者数': 0}],\n",
       " '项目名称': '东方美学茶礼.边缘海干泡茶盘'}"
      ]
     },
     "execution_count": 36,
     "metadata": {},
     "output_type": "execute_result"
    }
   ],
   "source": [
    "s_project.find_one({\"项目动态信息.0.爬取时间\": {'$gte': datetime.datetime(2019, 1, 1), \n",
    "                                       '$lte': datetime.datetime(2019, 1, 30)}},\n",
    "                   projection={\"_id\":1, \n",
    "                               \"项目名称\": 1, \n",
    "                               \"项目动态信息.爬取时间\": 1,\n",
    "                               \"项目动态信息.支持者数\": 1,\n",
    "                               \"项目动态信息\": {\"$slice\": [10, 5]}})"
   ]
  },
  {
   "cell_type": "code",
   "execution_count": 33,
   "metadata": {},
   "outputs": [
    {
     "data": {
      "text/plain": [
       "{'_id': '102720',\n",
       " '项目动态信息': [{'爬取时间': datetime.datetime(2019, 1, 1, 0, 5, 36, 555000),\n",
       "   '筹集金额': 4564,\n",
       "   '完成百分比': 91.0,\n",
       "   '支持者数': 12,\n",
       "   '点赞数': 1,\n",
       "   '关注数': 31,\n",
       "   '创建时间': datetime.datetime(2018, 12, 19, 13, 55, 20),\n",
       "   '更新时间': datetime.datetime(2018, 12, 31, 13, 55, 19)}],\n",
       " '项目名称': '新年茶礼 釉下五彩茶具首发'}"
      ]
     },
     "execution_count": 33,
     "metadata": {},
     "output_type": "execute_result"
    }
   ],
   "source": [
    "s_project.find_one({\"项目动态信息\": {'$elemMatch': { '爬取时间': {'$gte': datetime.datetime(2019, 1, 1), \n",
    "                                       '$lte': datetime.datetime(2019, 1, 30)}}\n",
    "                              }},\n",
    "                   projection={\"_id\":1, \"项目名称\": 1, \"项目动态信息.$\": 1})"
   ]
  },
  {
   "cell_type": "code",
   "execution_count": 29,
   "metadata": {},
   "outputs": [
    {
     "data": {
      "text/plain": [
       "{'_id': '102720',\n",
       " '项目动态信息': [{'爬取时间': datetime.datetime(2019, 1, 1, 0, 5, 36, 555000),\n",
       "   '筹集金额': 4564,\n",
       "   '完成百分比': 91.0,\n",
       "   '支持者数': 12,\n",
       "   '点赞数': 1,\n",
       "   '关注数': 31,\n",
       "   '创建时间': datetime.datetime(2018, 12, 19, 13, 55, 20),\n",
       "   '更新时间': datetime.datetime(2018, 12, 31, 13, 55, 19)}],\n",
       " '项目名称': '新年茶礼 釉下五彩茶具首发'}"
      ]
     },
     "execution_count": 29,
     "metadata": {},
     "output_type": "execute_result"
    }
   ],
   "source": [
    "s_project.find_one({\"项目动态信息.爬取时间\": {'$gte': datetime.datetime(2019, 1, 1), \n",
    "                                       '$lte': datetime.datetime(2019, 1, 30)}\n",
    "                                          },\n",
    "                   projection={\"_id\":1, \"项目名称\": 1, \"项目动态信息.$\": 1})"
   ]
  },
  {
   "cell_type": "code",
   "execution_count": 5,
   "metadata": {},
   "outputs": [
    {
     "name": "stdout",
     "output_type": "stream",
     "text": [
      "项目成功:2987\t众筹成功:162\t众筹中:744\t预热中:24\t项目失败:1850\n"
     ]
    }
   ],
   "source": [
    "num_Psucc = s_project.count_documents({'状态': '项目成功'})\n",
    "num_Csucc = project.count_documents({'状态': '众筹成功'})\n",
    "num_Cing = project.count_documents({'状态': '众筹中'})\n",
    "num_Pheat = project.count_documents({'状态': '预热中'})\n",
    "num_Fproj = f_project.count_documents({})\n",
    "print(f'项目成功:{num_Psucc}', f'众筹成功:{num_Csucc}', \n",
    "      f'众筹中:{num_Cing}', f'预热中:{num_Pheat}', f'项目失败:{num_Fproj}', sep='\\t')"
   ]
  },
  {
   "cell_type": "markdown",
   "metadata": {},
   "source": [
    "# 一、获取众筹项目扩散指标时间序列"
   ]
  },
  {
   "cell_type": "markdown",
   "metadata": {},
   "source": [
    "- 1. 将原始数据库中的`item`转化为`df`数据格式"
   ]
  },
  {
   "cell_type": "code",
   "execution_count": 6,
   "metadata": {},
   "outputs": [],
   "source": [
    "def to_df(item, col_names = ['星期', '关注数', '支持者数', '点赞数', '完成百分比', '筹集金额']):\n",
    "    dyn_info = item['项目动态信息']\n",
    "    t_fund = item['目标金额']\n",
    "    \n",
    "    # 剔除更新时间相同的记录\n",
    "    a1 = dyn_info[0]\n",
    "    records = {'更新时间':[], '星期':[], '支持者数':[], '关注数':[], '点赞数':[], '完成百分比':[], '筹集金额':[]}\n",
    "    for i, a2 in enumerate(dyn_info):\n",
    "        if a2[\"更新时间\"] != a1['更新时间']:\n",
    "            records['更新时间'].append(a2['更新时间'])\n",
    "            records['星期'].append(a2['更新时间'].weekday())  # 0 -> monday, 1 -> tuesday, ..., y -> sunday\n",
    "            records['支持者数'].append(a2['支持者数'])\n",
    "            records['关注数'].append(a2['关注数'])\n",
    "            records['完成百分比'].append(a2['完成百分比'])\n",
    "            records['筹集金额'].append(a2['筹集金额'])\n",
    "            records['点赞数'].append(a2['点赞数'])\n",
    "            \n",
    "            a1 = a2\n",
    "            \n",
    "    df = pd.DataFrame(records, index=records['更新时间'], columns=col_names)\n",
    "    return df"
   ]
  },
  {
   "cell_type": "markdown",
   "metadata": {},
   "source": [
    "- 2. 按每天最晚时间保留1个数据\n",
    "> 对比相邻两个数据索引的时间(年-月-日)是否一致，从而获取是否是同一天的数据。"
   ]
  },
  {
   "cell_type": "code",
   "execution_count": 7,
   "metadata": {},
   "outputs": [],
   "source": [
    "def retain_data(df):\n",
    "    new_index = []\n",
    "    for i, index in enumerate(df.index):\n",
    "        if i == 0:\n",
    "            a = df.index[i]\n",
    "        else:\n",
    "            b = df.index[i]\n",
    "            a = df.index[i - 1]\n",
    "            if (b.year, b.month, b.day) != (a.year, a.month, a.day):\n",
    "                new_index.append(i-1)\n",
    "    \n",
    "    return df.iloc[new_index]"
   ]
  },
  {
   "cell_type": "markdown",
   "metadata": {},
   "source": [
    "- 3. 保留众筹开始之后的数据，并将时间转换为相对众筹开始的绝对时长"
   ]
  },
  {
   "cell_type": "code",
   "execution_count": 8,
   "metadata": {},
   "outputs": [],
   "source": [
    "def prepare_data(item):\n",
    "    df = to_df(item)\n",
    "    day_data = retain_data(df)\n",
    "    data = day_data[day_data.index >= pd.Timestamp(item['状态变换时间1-2'])]  # 众筹开始后的数据\n",
    "    \n",
    "    interv_list = [t - pd.Timestamp(item['状态变换时间1-2']) for t in data.index]      \n",
    "    t_list = list(map(lambda x : round(x.to_pytimedelta().total_seconds()/3600, 1), \n",
    "                      interv_list))  # 转换为相对众筹开始时间的绝对时长(小时)\n",
    "    \n",
    "    data.index = t_list\n",
    "    return data"
   ]
  },
  {
   "cell_type": "markdown",
   "metadata": {},
   "source": [
    "- 4. 非累积采纳数量"
   ]
  },
  {
   "cell_type": "code",
   "execution_count": 9,
   "metadata": {},
   "outputs": [],
   "source": [
    "def increment(x):\n",
    "    return [(x[i] - x[i-1]) if i >= 1 else x[0] \n",
    "            for i in range(len(x))]"
   ]
  },
  {
   "cell_type": "markdown",
   "metadata": {},
   "source": [
    "# 二、获取众筹期间项目在主页各位置的展示时间"
   ]
  },
  {
   "cell_type": "markdown",
   "metadata": {},
   "source": [
    "- 首先，获取时间序列`t_dict`。`t_dict`与`a_dict`键相对应，查看对应时期各监测时间点的各展区是否包含目标pid\n",
    "> `get_demo_data`针对每个时间点的`front_page`进行处理"
   ]
  },
  {
   "cell_type": "code",
   "execution_count": 11,
   "metadata": {},
   "outputs": [],
   "source": [
    "def get_demo_data(a_dict, t_dict, pid):\n",
    "    for key in a_dict:\n",
    "        if isinstance(a_dict[key], list):    \n",
    "            if pid in a_dict[key]:\n",
    "                t_dict[key] = t_dict.get(key, []) + [1]\n",
    "            else:\n",
    "                t_dict[key] = t_dict.get(key, []) + [0]\n",
    "        elif isinstance(a_dict[key], dict):\n",
    "            t_dict[key] = get_demo_data(a_dict[key], {}, pid)\n",
    "        elif key == \"监测时间\":\n",
    "            t_dict[key] = t_dict.get(key, []) + [a_dict[key]]\n",
    "        else:\n",
    "            pass\n",
    "            \n",
    "    return t_dict"
   ]
  },
  {
   "cell_type": "markdown",
   "metadata": {},
   "source": [
    "- 然后，获取`t_dict`对应的`pd.DataFrame()`"
   ]
  },
  {
   "cell_type": "code",
   "execution_count": 12,
   "metadata": {},
   "outputs": [],
   "source": [
    "def get_eff_data(t_dict, prev_keys=[], dataset={}):\n",
    "    for key in t_dict:\n",
    "        if isinstance(t_dict[key], list):\n",
    "            c_key = '>'.join(prev_keys + [key]) if prev_keys else key\n",
    "            dataset[c_key] = t_dict[key]\n",
    "        else:\n",
    "            dataset = get_eff_data(t_dict[key], prev_keys + [key], dataset)\n",
    "    return dataset"
   ]
  },
  {
   "cell_type": "markdown",
   "metadata": {},
   "source": [
    "- 最后，将主页展示时间数据与项目扩散数据融合"
   ]
  },
  {
   "cell_type": "code",
   "execution_count": null,
   "metadata": {},
   "outputs": [],
   "source": [
    "def merge_df(item, )"
   ]
  },
  {
   "cell_type": "markdown",
   "metadata": {},
   "source": [
    "- 示例"
   ]
  },
  {
   "cell_type": "code",
   "execution_count": 13,
   "metadata": {
    "collapsed": true,
    "jupyter": {
     "outputs_hidden": true
    }
   },
   "outputs": [
    {
     "data": {
      "text/plain": [
       "[{'_id': '115609'},\n",
       " {'_id': '117186'},\n",
       " {'_id': '117399'},\n",
       " {'_id': '117511'},\n",
       " {'_id': '117643'},\n",
       " {'_id': '118161'},\n",
       " {'_id': '118764'},\n",
       " {'_id': '119081'},\n",
       " {'_id': '119189'},\n",
       " {'_id': '119240'},\n",
       " {'_id': '119359'},\n",
       " {'_id': '119417'},\n",
       " {'_id': '119446'},\n",
       " {'_id': '119597'},\n",
       " {'_id': '119608'},\n",
       " {'_id': '119629'},\n",
       " {'_id': '119909'},\n",
       " {'_id': '119961'},\n",
       " {'_id': '119962'},\n",
       " {'_id': '119997'},\n",
       " {'_id': '120000'},\n",
       " {'_id': '120017'},\n",
       " {'_id': '120030'},\n",
       " {'_id': '120049'},\n",
       " {'_id': '120057'},\n",
       " {'_id': '120080'},\n",
       " {'_id': '120087'},\n",
       " {'_id': '120101'},\n",
       " {'_id': '120102'},\n",
       " {'_id': '120104'},\n",
       " {'_id': '120112'},\n",
       " {'_id': '120123'},\n",
       " {'_id': '120127'},\n",
       " {'_id': '120132'},\n",
       " {'_id': '120145'},\n",
       " {'_id': '120149'},\n",
       " {'_id': '120169'},\n",
       " {'_id': '120191'},\n",
       " {'_id': '120194'},\n",
       " {'_id': '120202'},\n",
       " {'_id': '120203'},\n",
       " {'_id': '120215'},\n",
       " {'_id': '120228'},\n",
       " {'_id': '120239'},\n",
       " {'_id': '120244'},\n",
       " {'_id': '120256'},\n",
       " {'_id': '120258'},\n",
       " {'_id': '120270'},\n",
       " {'_id': '120271'},\n",
       " {'_id': '120274'},\n",
       " {'_id': '120278'},\n",
       " {'_id': '120299'},\n",
       " {'_id': '120304'},\n",
       " {'_id': '120311'},\n",
       " {'_id': '120319'},\n",
       " {'_id': '120322'},\n",
       " {'_id': '120341'},\n",
       " {'_id': '120348'},\n",
       " {'_id': '120363'},\n",
       " {'_id': '120364'},\n",
       " {'_id': '120375'},\n",
       " {'_id': '120390'},\n",
       " {'_id': '120400'},\n",
       " {'_id': '120412'},\n",
       " {'_id': '120415'},\n",
       " {'_id': '120418'},\n",
       " {'_id': '120428'},\n",
       " {'_id': '120435'},\n",
       " {'_id': '120470'},\n",
       " {'_id': '120473'},\n",
       " {'_id': '120479'},\n",
       " {'_id': '120481'},\n",
       " {'_id': '120488'},\n",
       " {'_id': '120507'},\n",
       " {'_id': '120511'},\n",
       " {'_id': '120514'},\n",
       " {'_id': '120516'},\n",
       " {'_id': '120517'},\n",
       " {'_id': '120519'},\n",
       " {'_id': '120520'},\n",
       " {'_id': '120528'},\n",
       " {'_id': '120555'},\n",
       " {'_id': '120558'},\n",
       " {'_id': '120568'},\n",
       " {'_id': '120577'},\n",
       " {'_id': '120585'},\n",
       " {'_id': '120595'},\n",
       " {'_id': '120604'},\n",
       " {'_id': '120605'},\n",
       " {'_id': '120607'},\n",
       " {'_id': '120611'},\n",
       " {'_id': '120616'},\n",
       " {'_id': '120619'},\n",
       " {'_id': '120621'},\n",
       " {'_id': '120622'},\n",
       " {'_id': '120671'},\n",
       " {'_id': '120672'},\n",
       " {'_id': '120680'},\n",
       " {'_id': '120689'},\n",
       " {'_id': '120723'},\n",
       " {'_id': '120736'},\n",
       " {'_id': '120738'},\n",
       " {'_id': '120748'},\n",
       " {'_id': '120757'},\n",
       " {'_id': '120791'},\n",
       " {'_id': '120810'},\n",
       " {'_id': '120822'},\n",
       " {'_id': '120835'},\n",
       " {'_id': '120842'},\n",
       " {'_id': '120888'},\n",
       " {'_id': '120893'},\n",
       " {'_id': '120900'},\n",
       " {'_id': '120921'},\n",
       " {'_id': '120936'},\n",
       " {'_id': '120941'},\n",
       " {'_id': '120951'},\n",
       " {'_id': '120964'},\n",
       " {'_id': '120975'},\n",
       " {'_id': '120984'},\n",
       " {'_id': '121060'},\n",
       " {'_id': '121064'},\n",
       " {'_id': '121090'},\n",
       " {'_id': '121103'},\n",
       " {'_id': '121176'},\n",
       " {'_id': '121224'},\n",
       " {'_id': '121274'},\n",
       " {'_id': '121298'},\n",
       " {'_id': '121309'},\n",
       " {'_id': '121315'},\n",
       " {'_id': '121322'},\n",
       " {'_id': '121356'},\n",
       " {'_id': '121380'},\n",
       " {'_id': '121419'},\n",
       " {'_id': '121437'},\n",
       " {'_id': '121443'},\n",
       " {'_id': '121461'},\n",
       " {'_id': '1816332055'},\n",
       " {'_id': '1816332284'},\n",
       " {'_id': '1816541368'},\n",
       " {'_id': '1816541969'},\n",
       " {'_id': '1817758517'}]"
      ]
     },
     "execution_count": 13,
     "metadata": {},
     "output_type": "execute_result"
    }
   ],
   "source": [
    "list(project.find({\"状态变换时间0-1\": {\"$gt\": datetime.datetime(2019, 9, 1)}, \n",
    "                   '状态': {'$in': ['众筹成功', '项目成功']}}, projection={\"_id\": True}))"
   ]
  },
  {
   "cell_type": "code",
   "execution_count": 13,
   "metadata": {},
   "outputs": [
    {
     "data": {
      "text/html": [
       "<div>\n",
       "<style scoped>\n",
       "    .dataframe tbody tr th:only-of-type {\n",
       "        vertical-align: middle;\n",
       "    }\n",
       "\n",
       "    .dataframe tbody tr th {\n",
       "        vertical-align: top;\n",
       "    }\n",
       "\n",
       "    .dataframe thead th {\n",
       "        text-align: right;\n",
       "    }\n",
       "</style>\n",
       "<table border=\"1\" class=\"dataframe\">\n",
       "  <thead>\n",
       "    <tr style=\"text-align: right;\">\n",
       "      <th></th>\n",
       "      <th>星期</th>\n",
       "      <th>关注数</th>\n",
       "      <th>支持者数</th>\n",
       "      <th>点赞数</th>\n",
       "      <th>完成百分比</th>\n",
       "      <th>筹集金额</th>\n",
       "    </tr>\n",
       "  </thead>\n",
       "  <tbody>\n",
       "    <tr>\n",
       "      <td>2019-10-11 00:01:22.532</td>\n",
       "      <td>4</td>\n",
       "      <td>1</td>\n",
       "      <td>0</td>\n",
       "      <td>0</td>\n",
       "      <td>0.0</td>\n",
       "      <td>0</td>\n",
       "    </tr>\n",
       "    <tr>\n",
       "      <td>2019-10-11 06:01:19.379</td>\n",
       "      <td>4</td>\n",
       "      <td>1</td>\n",
       "      <td>0</td>\n",
       "      <td>0</td>\n",
       "      <td>0.0</td>\n",
       "      <td>0</td>\n",
       "    </tr>\n",
       "    <tr>\n",
       "      <td>2019-10-11 12:02:20.089</td>\n",
       "      <td>4</td>\n",
       "      <td>1</td>\n",
       "      <td>0</td>\n",
       "      <td>0</td>\n",
       "      <td>0.0</td>\n",
       "      <td>0</td>\n",
       "    </tr>\n",
       "    <tr>\n",
       "      <td>2019-10-11 18:00:53.580</td>\n",
       "      <td>4</td>\n",
       "      <td>1</td>\n",
       "      <td>0</td>\n",
       "      <td>0</td>\n",
       "      <td>0.0</td>\n",
       "      <td>0</td>\n",
       "    </tr>\n",
       "    <tr>\n",
       "      <td>2019-10-12 00:01:19.852</td>\n",
       "      <td>5</td>\n",
       "      <td>1</td>\n",
       "      <td>0</td>\n",
       "      <td>0</td>\n",
       "      <td>0.0</td>\n",
       "      <td>0</td>\n",
       "    </tr>\n",
       "  </tbody>\n",
       "</table>\n",
       "</div>"
      ],
      "text/plain": [
       "                         星期  关注数  支持者数  点赞数  完成百分比  筹集金额\n",
       "2019-10-11 00:01:22.532   4    1     0    0    0.0     0\n",
       "2019-10-11 06:01:19.379   4    1     0    0    0.0     0\n",
       "2019-10-11 12:02:20.089   4    1     0    0    0.0     0\n",
       "2019-10-11 18:00:53.580   4    1     0    0    0.0     0\n",
       "2019-10-12 00:01:19.852   5    1     0    0    0.0     0"
      ]
     },
     "execution_count": 13,
     "metadata": {},
     "output_type": "execute_result"
    }
   ],
   "source": [
    "p_df.head()"
   ]
  },
  {
   "cell_type": "code",
   "execution_count": 16,
   "metadata": {
    "collapsed": true,
    "jupyter": {
     "outputs_hidden": true
    }
   },
   "outputs": [
    {
     "data": {
      "text/plain": [
       "轮播>left                   0\n",
       "轮播>r-t                    0\n",
       "轮播>r-b-l                  0\n",
       "轮播>r-b-r                  0\n",
       "热门推荐                      0\n",
       "最新上架                      0\n",
       "即将结束                      0\n",
       "demostr_proj>新奇酷玩>左上大图    0\n",
       "demostr_proj>新奇酷玩>其它图     0\n",
       "demostr_proj>健康出行>左上大图    0\n",
       "demostr_proj>健康出行>其它图     0\n",
       "demostr_proj>生活美学>左上大图    0\n",
       "demostr_proj>生活美学>其它图     0\n",
       "demostr_proj>美食市集>左上大图    0\n",
       "demostr_proj>美食市集>其它图     0\n",
       "demostr_proj>文化艺术>左上大图    0\n",
       "demostr_proj>文化艺术>其它图     0\n",
       "demostr_proj>惠民扶贫>左上大图    0\n",
       "demostr_proj>惠民扶贫>其它图     0\n",
       "即将上架                      1\n",
       "Name: 2019-10-11 06:00:04.452000, dtype: int64"
      ]
     },
     "execution_count": 16,
     "metadata": {},
     "output_type": "execute_result"
    }
   ],
   "source": [
    "front_df.iloc[0]"
   ]
  },
  {
   "cell_type": "code",
   "execution_count": 15,
   "metadata": {},
   "outputs": [],
   "source": [
    "try:\n",
    "    item = project.find_one({\"_id\": '121291'})  # 项目历史信息\n",
    "    p_df = to_df(item)  # 转换扩散数据\n",
    "    t_start, t_end = p_df.index[0], p_df.index[-1]  # 项目扩散数据最早与最晚时间点\n",
    "    f_page = front_page.find({\"监测时间\": {\"$gte\":t_start, \"$lte\":t_end}},\n",
    "                             sort=[('监测时间', 1)])  # 取出这个时间段的主页观察数据\n",
    "    t_dict = {}  # 初始时刻无数据\n",
    "    for a in f_page:\n",
    "        t_dict = get_demo_data(a, t_dict, item[\"_id\"])  # 迭代查看_id是否在各展区\n",
    "    \n",
    "    dataset = get_eff_data(t_dict)\n",
    "    col_names = list(dataset)\n",
    "    col_names.remove(\"监测时间\")\n",
    "    front_df = pd.DataFrame(dataset, index=dataset[\"监测时间\"], columns=col_names)\n",
    "\n",
    "    # eff_col_names = []  # 剔除全为False的列\n",
    "    # sum_f_df = front_df.sum()\n",
    "    # for x in sum_f_df.index:\n",
    "    #     if sum_f_df[x] > 0:\n",
    "    #         eff_col_names.append(x)\n",
    "\n",
    "    # eff_front_df = front_df[eff_col_names]\n",
    "    # clean_eff_front_df = eff_front_df[eff_front_df.sum(axis=1) > 0]  # 剔除全为False的时间点\n",
    "except Exception as e:\n",
    "    print(e)"
   ]
  },
  {
   "cell_type": "code",
   "execution_count": 25,
   "metadata": {},
   "outputs": [
    {
     "data": {
      "text/html": [
       "<div>\n",
       "<style scoped>\n",
       "    .dataframe tbody tr th:only-of-type {\n",
       "        vertical-align: middle;\n",
       "    }\n",
       "\n",
       "    .dataframe tbody tr th {\n",
       "        vertical-align: top;\n",
       "    }\n",
       "\n",
       "    .dataframe thead th {\n",
       "        text-align: right;\n",
       "    }\n",
       "</style>\n",
       "<table border=\"1\" class=\"dataframe\">\n",
       "  <thead>\n",
       "    <tr style=\"text-align: right;\">\n",
       "      <th></th>\n",
       "      <th>最新上架</th>\n",
       "      <th>即将结束</th>\n",
       "      <th>即将上架</th>\n",
       "    </tr>\n",
       "  </thead>\n",
       "  <tbody>\n",
       "    <tr>\n",
       "      <td>2019-10-11 06:00:04.452</td>\n",
       "      <td>False</td>\n",
       "      <td>False</td>\n",
       "      <td>True</td>\n",
       "    </tr>\n",
       "    <tr>\n",
       "      <td>2019-10-11 12:00:04.946</td>\n",
       "      <td>False</td>\n",
       "      <td>False</td>\n",
       "      <td>True</td>\n",
       "    </tr>\n",
       "    <tr>\n",
       "      <td>2019-10-11 18:00:05.530</td>\n",
       "      <td>False</td>\n",
       "      <td>False</td>\n",
       "      <td>True</td>\n",
       "    </tr>\n",
       "    <tr>\n",
       "      <td>2019-10-12 00:00:04.011</td>\n",
       "      <td>False</td>\n",
       "      <td>False</td>\n",
       "      <td>True</td>\n",
       "    </tr>\n",
       "    <tr>\n",
       "      <td>2019-10-12 06:00:04.782</td>\n",
       "      <td>False</td>\n",
       "      <td>False</td>\n",
       "      <td>True</td>\n",
       "    </tr>\n",
       "    <tr>\n",
       "      <td>2019-10-12 12:00:04.855</td>\n",
       "      <td>False</td>\n",
       "      <td>False</td>\n",
       "      <td>True</td>\n",
       "    </tr>\n",
       "    <tr>\n",
       "      <td>2019-10-12 18:00:05.727</td>\n",
       "      <td>False</td>\n",
       "      <td>False</td>\n",
       "      <td>True</td>\n",
       "    </tr>\n",
       "    <tr>\n",
       "      <td>2019-10-13 12:00:05.662</td>\n",
       "      <td>True</td>\n",
       "      <td>False</td>\n",
       "      <td>False</td>\n",
       "    </tr>\n",
       "    <tr>\n",
       "      <td>2019-10-13 18:00:05.744</td>\n",
       "      <td>True</td>\n",
       "      <td>False</td>\n",
       "      <td>False</td>\n",
       "    </tr>\n",
       "    <tr>\n",
       "      <td>2019-10-14 00:00:04.999</td>\n",
       "      <td>True</td>\n",
       "      <td>False</td>\n",
       "      <td>False</td>\n",
       "    </tr>\n",
       "    <tr>\n",
       "      <td>2019-10-17 06:00:04.077</td>\n",
       "      <td>True</td>\n",
       "      <td>False</td>\n",
       "      <td>False</td>\n",
       "    </tr>\n",
       "    <tr>\n",
       "      <td>2019-11-09 06:00:08.385</td>\n",
       "      <td>False</td>\n",
       "      <td>True</td>\n",
       "      <td>False</td>\n",
       "    </tr>\n",
       "    <tr>\n",
       "      <td>2019-11-09 12:00:05.324</td>\n",
       "      <td>False</td>\n",
       "      <td>True</td>\n",
       "      <td>False</td>\n",
       "    </tr>\n",
       "    <tr>\n",
       "      <td>2019-11-10 00:00:04.065</td>\n",
       "      <td>False</td>\n",
       "      <td>True</td>\n",
       "      <td>False</td>\n",
       "    </tr>\n",
       "    <tr>\n",
       "      <td>2019-11-10 06:00:07.891</td>\n",
       "      <td>False</td>\n",
       "      <td>True</td>\n",
       "      <td>False</td>\n",
       "    </tr>\n",
       "    <tr>\n",
       "      <td>2019-11-10 12:00:33.050</td>\n",
       "      <td>False</td>\n",
       "      <td>True</td>\n",
       "      <td>False</td>\n",
       "    </tr>\n",
       "    <tr>\n",
       "      <td>2019-11-10 18:00:04.589</td>\n",
       "      <td>False</td>\n",
       "      <td>True</td>\n",
       "      <td>False</td>\n",
       "    </tr>\n",
       "    <tr>\n",
       "      <td>2019-11-11 00:00:03.652</td>\n",
       "      <td>False</td>\n",
       "      <td>True</td>\n",
       "      <td>False</td>\n",
       "    </tr>\n",
       "    <tr>\n",
       "      <td>2019-11-11 06:00:04.376</td>\n",
       "      <td>False</td>\n",
       "      <td>True</td>\n",
       "      <td>False</td>\n",
       "    </tr>\n",
       "    <tr>\n",
       "      <td>2019-11-11 12:00:04.763</td>\n",
       "      <td>False</td>\n",
       "      <td>True</td>\n",
       "      <td>False</td>\n",
       "    </tr>\n",
       "    <tr>\n",
       "      <td>2019-11-11 18:00:04.942</td>\n",
       "      <td>False</td>\n",
       "      <td>True</td>\n",
       "      <td>False</td>\n",
       "    </tr>\n",
       "  </tbody>\n",
       "</table>\n",
       "</div>"
      ],
      "text/plain": [
       "                          最新上架   即将结束   即将上架\n",
       "2019-10-11 06:00:04.452  False  False   True\n",
       "2019-10-11 12:00:04.946  False  False   True\n",
       "2019-10-11 18:00:05.530  False  False   True\n",
       "2019-10-12 00:00:04.011  False  False   True\n",
       "2019-10-12 06:00:04.782  False  False   True\n",
       "2019-10-12 12:00:04.855  False  False   True\n",
       "2019-10-12 18:00:05.727  False  False   True\n",
       "2019-10-13 12:00:05.662   True  False  False\n",
       "2019-10-13 18:00:05.744   True  False  False\n",
       "2019-10-14 00:00:04.999   True  False  False\n",
       "2019-10-17 06:00:04.077   True  False  False\n",
       "2019-11-09 06:00:08.385  False   True  False\n",
       "2019-11-09 12:00:05.324  False   True  False\n",
       "2019-11-10 00:00:04.065  False   True  False\n",
       "2019-11-10 06:00:07.891  False   True  False\n",
       "2019-11-10 12:00:33.050  False   True  False\n",
       "2019-11-10 18:00:04.589  False   True  False\n",
       "2019-11-11 00:00:03.652  False   True  False\n",
       "2019-11-11 06:00:04.376  False   True  False\n",
       "2019-11-11 12:00:04.763  False   True  False\n",
       "2019-11-11 18:00:04.942  False   True  False"
      ]
     },
     "execution_count": 25,
     "metadata": {},
     "output_type": "execute_result"
    }
   ],
   "source": [
    "clean_eff_front_df"
   ]
  },
  {
   "cell_type": "code",
   "execution_count": 45,
   "metadata": {},
   "outputs": [],
   "source": [
    "a_dict = {}  # 初始化\n",
    "for i, idx in enumerate(clean_eff_front_df.index):\n",
    "    if i == 0:\n",
    "        for col in eff_col_names:\n",
    "            if clean_eff_front_df.loc[idx, col]:\n",
    "                a_dict[col] = [6]\n",
    "            else:\n",
    "                a_dict[col] = [0]\n",
    "    else:\n",
    "        for col in eff_col_names:\n",
    "            if clean_eff_front_df.loc[idx, col]:\n",
    "                if a_dict[col][-1] == 0:\n",
    "                    a_dict[col] = a_dict[col] + [6]\n",
    "                else:\n",
    "                    a_dict[col] = a_dict.get(col, []) + [round((clean_eff_front_df.index[i] - \\\n",
    "                                                      clean_eff_front_df.index[i-1]).\n",
    "                                                     to_pytimedelta().total_seconds()\\\n",
    "                                                     /3600, 0)]\n",
    "            else:\n",
    "                a_dict[col] = a_dict.get(col, []) + [0]\n",
    "\n",
    "a_dict_2 = {col: np.cumsum(a_dict[col]) for col in a_dict}\n",
    "clean_df = pd.DataFrame(a_dict_2, index=clean_eff_front_df.index)"
   ]
  },
  {
   "cell_type": "code",
   "execution_count": 46,
   "metadata": {},
   "outputs": [
    {
     "data": {
      "text/html": [
       "<div>\n",
       "<style scoped>\n",
       "    .dataframe tbody tr th:only-of-type {\n",
       "        vertical-align: middle;\n",
       "    }\n",
       "\n",
       "    .dataframe tbody tr th {\n",
       "        vertical-align: top;\n",
       "    }\n",
       "\n",
       "    .dataframe thead th {\n",
       "        text-align: right;\n",
       "    }\n",
       "</style>\n",
       "<table border=\"1\" class=\"dataframe\">\n",
       "  <thead>\n",
       "    <tr style=\"text-align: right;\">\n",
       "      <th></th>\n",
       "      <th>最新上架</th>\n",
       "      <th>即将结束</th>\n",
       "      <th>即将上架</th>\n",
       "    </tr>\n",
       "  </thead>\n",
       "  <tbody>\n",
       "    <tr>\n",
       "      <td>2019-10-11 06:00:04.452</td>\n",
       "      <td>0.0</td>\n",
       "      <td>0.0</td>\n",
       "      <td>6.0</td>\n",
       "    </tr>\n",
       "    <tr>\n",
       "      <td>2019-10-11 12:00:04.946</td>\n",
       "      <td>0.0</td>\n",
       "      <td>0.0</td>\n",
       "      <td>12.0</td>\n",
       "    </tr>\n",
       "    <tr>\n",
       "      <td>2019-10-11 18:00:05.530</td>\n",
       "      <td>0.0</td>\n",
       "      <td>0.0</td>\n",
       "      <td>18.0</td>\n",
       "    </tr>\n",
       "    <tr>\n",
       "      <td>2019-10-12 00:00:04.011</td>\n",
       "      <td>0.0</td>\n",
       "      <td>0.0</td>\n",
       "      <td>24.0</td>\n",
       "    </tr>\n",
       "    <tr>\n",
       "      <td>2019-10-12 06:00:04.782</td>\n",
       "      <td>0.0</td>\n",
       "      <td>0.0</td>\n",
       "      <td>30.0</td>\n",
       "    </tr>\n",
       "    <tr>\n",
       "      <td>2019-10-12 12:00:04.855</td>\n",
       "      <td>0.0</td>\n",
       "      <td>0.0</td>\n",
       "      <td>36.0</td>\n",
       "    </tr>\n",
       "    <tr>\n",
       "      <td>2019-10-12 18:00:05.727</td>\n",
       "      <td>0.0</td>\n",
       "      <td>0.0</td>\n",
       "      <td>42.0</td>\n",
       "    </tr>\n",
       "    <tr>\n",
       "      <td>2019-10-13 12:00:05.662</td>\n",
       "      <td>6.0</td>\n",
       "      <td>0.0</td>\n",
       "      <td>42.0</td>\n",
       "    </tr>\n",
       "    <tr>\n",
       "      <td>2019-10-13 18:00:05.744</td>\n",
       "      <td>12.0</td>\n",
       "      <td>0.0</td>\n",
       "      <td>42.0</td>\n",
       "    </tr>\n",
       "    <tr>\n",
       "      <td>2019-10-14 00:00:04.999</td>\n",
       "      <td>18.0</td>\n",
       "      <td>0.0</td>\n",
       "      <td>42.0</td>\n",
       "    </tr>\n",
       "    <tr>\n",
       "      <td>2019-10-17 06:00:04.077</td>\n",
       "      <td>96.0</td>\n",
       "      <td>0.0</td>\n",
       "      <td>42.0</td>\n",
       "    </tr>\n",
       "    <tr>\n",
       "      <td>2019-11-09 06:00:08.385</td>\n",
       "      <td>96.0</td>\n",
       "      <td>6.0</td>\n",
       "      <td>42.0</td>\n",
       "    </tr>\n",
       "    <tr>\n",
       "      <td>2019-11-09 12:00:05.324</td>\n",
       "      <td>96.0</td>\n",
       "      <td>12.0</td>\n",
       "      <td>42.0</td>\n",
       "    </tr>\n",
       "    <tr>\n",
       "      <td>2019-11-10 00:00:04.065</td>\n",
       "      <td>96.0</td>\n",
       "      <td>24.0</td>\n",
       "      <td>42.0</td>\n",
       "    </tr>\n",
       "    <tr>\n",
       "      <td>2019-11-10 06:00:07.891</td>\n",
       "      <td>96.0</td>\n",
       "      <td>30.0</td>\n",
       "      <td>42.0</td>\n",
       "    </tr>\n",
       "    <tr>\n",
       "      <td>2019-11-10 12:00:33.050</td>\n",
       "      <td>96.0</td>\n",
       "      <td>36.0</td>\n",
       "      <td>42.0</td>\n",
       "    </tr>\n",
       "    <tr>\n",
       "      <td>2019-11-10 18:00:04.589</td>\n",
       "      <td>96.0</td>\n",
       "      <td>42.0</td>\n",
       "      <td>42.0</td>\n",
       "    </tr>\n",
       "    <tr>\n",
       "      <td>2019-11-11 00:00:03.652</td>\n",
       "      <td>96.0</td>\n",
       "      <td>48.0</td>\n",
       "      <td>42.0</td>\n",
       "    </tr>\n",
       "    <tr>\n",
       "      <td>2019-11-11 06:00:04.376</td>\n",
       "      <td>96.0</td>\n",
       "      <td>54.0</td>\n",
       "      <td>42.0</td>\n",
       "    </tr>\n",
       "    <tr>\n",
       "      <td>2019-11-11 12:00:04.763</td>\n",
       "      <td>96.0</td>\n",
       "      <td>60.0</td>\n",
       "      <td>42.0</td>\n",
       "    </tr>\n",
       "    <tr>\n",
       "      <td>2019-11-11 18:00:04.942</td>\n",
       "      <td>96.0</td>\n",
       "      <td>66.0</td>\n",
       "      <td>42.0</td>\n",
       "    </tr>\n",
       "  </tbody>\n",
       "</table>\n",
       "</div>"
      ],
      "text/plain": [
       "                         最新上架  即将结束  即将上架\n",
       "2019-10-11 06:00:04.452   0.0   0.0   6.0\n",
       "2019-10-11 12:00:04.946   0.0   0.0  12.0\n",
       "2019-10-11 18:00:05.530   0.0   0.0  18.0\n",
       "2019-10-12 00:00:04.011   0.0   0.0  24.0\n",
       "2019-10-12 06:00:04.782   0.0   0.0  30.0\n",
       "2019-10-12 12:00:04.855   0.0   0.0  36.0\n",
       "2019-10-12 18:00:05.727   0.0   0.0  42.0\n",
       "2019-10-13 12:00:05.662   6.0   0.0  42.0\n",
       "2019-10-13 18:00:05.744  12.0   0.0  42.0\n",
       "2019-10-14 00:00:04.999  18.0   0.0  42.0\n",
       "2019-10-17 06:00:04.077  96.0   0.0  42.0\n",
       "2019-11-09 06:00:08.385  96.0   6.0  42.0\n",
       "2019-11-09 12:00:05.324  96.0  12.0  42.0\n",
       "2019-11-10 00:00:04.065  96.0  24.0  42.0\n",
       "2019-11-10 06:00:07.891  96.0  30.0  42.0\n",
       "2019-11-10 12:00:33.050  96.0  36.0  42.0\n",
       "2019-11-10 18:00:04.589  96.0  42.0  42.0\n",
       "2019-11-11 00:00:03.652  96.0  48.0  42.0\n",
       "2019-11-11 06:00:04.376  96.0  54.0  42.0\n",
       "2019-11-11 12:00:04.763  96.0  60.0  42.0\n",
       "2019-11-11 18:00:04.942  96.0  66.0  42.0"
      ]
     },
     "execution_count": 46,
     "metadata": {},
     "output_type": "execute_result"
    }
   ],
   "source": [
    "clean_df"
   ]
  },
  {
   "cell_type": "code",
   "execution_count": 32,
   "metadata": {},
   "outputs": [],
   "source": [
    "b_dict = {}\n",
    "for index in p_df.index:\n",
    "    d = np.sum(index > clean_df.index)  # 当前项目扩散时间与主页呈现时间的比较\n",
    "    for col in eff_col_names:\n",
    "        if not d:\n",
    "            b_dict[col] = b_dict.get(col, []) + [0]\n",
    "        else:\n",
    "            b_dict[col] = b_dict.get(col, []) + [clean_df.iloc[d-1][col]]\n",
    "            \n",
    "f_df = pd.DataFrame(b_dict, index=p_df.index)         "
   ]
  },
  {
   "cell_type": "code",
   "execution_count": 33,
   "metadata": {},
   "outputs": [],
   "source": [
    "m_df = pd.concat([p_df, f_df], axis=1)\n",
    "interv_list = [t - m_df.index[0] if i > 0 else pd.Timedelta(0, unit=\"hour\") for i, t in enumerate(m_df.index)]      \n",
    "t_list = list(map(lambda x : round(x.to_pytimedelta().total_seconds()/3600, 1), \n",
    "                  interv_list))  # 转换为相对众筹开始时间的绝对时长(小时)\n",
    "\n",
    "m_df.index = t_list"
   ]
  },
  {
   "cell_type": "code",
   "execution_count": 34,
   "metadata": {},
   "outputs": [
    {
     "data": {
      "text/html": [
       "<div>\n",
       "<style scoped>\n",
       "    .dataframe tbody tr th:only-of-type {\n",
       "        vertical-align: middle;\n",
       "    }\n",
       "\n",
       "    .dataframe tbody tr th {\n",
       "        vertical-align: top;\n",
       "    }\n",
       "\n",
       "    .dataframe thead th {\n",
       "        text-align: right;\n",
       "    }\n",
       "</style>\n",
       "<table border=\"1\" class=\"dataframe\">\n",
       "  <thead>\n",
       "    <tr style=\"text-align: right;\">\n",
       "      <th></th>\n",
       "      <th>星期</th>\n",
       "      <th>关注数</th>\n",
       "      <th>支持者数</th>\n",
       "      <th>点赞数</th>\n",
       "      <th>完成百分比</th>\n",
       "      <th>筹集金额</th>\n",
       "      <th>最新上架</th>\n",
       "      <th>即将结束</th>\n",
       "      <th>即将上架</th>\n",
       "    </tr>\n",
       "  </thead>\n",
       "  <tbody>\n",
       "    <tr>\n",
       "      <td>0.0</td>\n",
       "      <td>4</td>\n",
       "      <td>1</td>\n",
       "      <td>0</td>\n",
       "      <td>0</td>\n",
       "      <td>0.0</td>\n",
       "      <td>0</td>\n",
       "      <td>0.0</td>\n",
       "      <td>0.0</td>\n",
       "      <td>0.0</td>\n",
       "    </tr>\n",
       "    <tr>\n",
       "      <td>6.0</td>\n",
       "      <td>4</td>\n",
       "      <td>1</td>\n",
       "      <td>0</td>\n",
       "      <td>0</td>\n",
       "      <td>0.0</td>\n",
       "      <td>0</td>\n",
       "      <td>0.0</td>\n",
       "      <td>0.0</td>\n",
       "      <td>6.0</td>\n",
       "    </tr>\n",
       "    <tr>\n",
       "      <td>12.0</td>\n",
       "      <td>4</td>\n",
       "      <td>1</td>\n",
       "      <td>0</td>\n",
       "      <td>0</td>\n",
       "      <td>0.0</td>\n",
       "      <td>0</td>\n",
       "      <td>0.0</td>\n",
       "      <td>0.0</td>\n",
       "      <td>10.0</td>\n",
       "    </tr>\n",
       "    <tr>\n",
       "      <td>18.0</td>\n",
       "      <td>4</td>\n",
       "      <td>1</td>\n",
       "      <td>0</td>\n",
       "      <td>0</td>\n",
       "      <td>0.0</td>\n",
       "      <td>0</td>\n",
       "      <td>0.0</td>\n",
       "      <td>0.0</td>\n",
       "      <td>14.0</td>\n",
       "    </tr>\n",
       "    <tr>\n",
       "      <td>24.0</td>\n",
       "      <td>5</td>\n",
       "      <td>1</td>\n",
       "      <td>0</td>\n",
       "      <td>0</td>\n",
       "      <td>0.0</td>\n",
       "      <td>0</td>\n",
       "      <td>0.0</td>\n",
       "      <td>0.0</td>\n",
       "      <td>18.0</td>\n",
       "    </tr>\n",
       "    <tr>\n",
       "      <td>...</td>\n",
       "      <td>...</td>\n",
       "      <td>...</td>\n",
       "      <td>...</td>\n",
       "      <td>...</td>\n",
       "      <td>...</td>\n",
       "      <td>...</td>\n",
       "      <td>...</td>\n",
       "      <td>...</td>\n",
       "      <td>...</td>\n",
       "    </tr>\n",
       "    <tr>\n",
       "      <td>738.1</td>\n",
       "      <td>6</td>\n",
       "      <td>30</td>\n",
       "      <td>20</td>\n",
       "      <td>0</td>\n",
       "      <td>165.0</td>\n",
       "      <td>32957</td>\n",
       "      <td>16.0</td>\n",
       "      <td>24.0</td>\n",
       "      <td>30.0</td>\n",
       "    </tr>\n",
       "    <tr>\n",
       "      <td>744.2</td>\n",
       "      <td>0</td>\n",
       "      <td>30</td>\n",
       "      <td>20</td>\n",
       "      <td>0</td>\n",
       "      <td>165.0</td>\n",
       "      <td>32957</td>\n",
       "      <td>16.0</td>\n",
       "      <td>28.0</td>\n",
       "      <td>30.0</td>\n",
       "    </tr>\n",
       "    <tr>\n",
       "      <td>750.1</td>\n",
       "      <td>0</td>\n",
       "      <td>30</td>\n",
       "      <td>20</td>\n",
       "      <td>0</td>\n",
       "      <td>165.0</td>\n",
       "      <td>32957</td>\n",
       "      <td>16.0</td>\n",
       "      <td>32.0</td>\n",
       "      <td>30.0</td>\n",
       "    </tr>\n",
       "    <tr>\n",
       "      <td>756.1</td>\n",
       "      <td>0</td>\n",
       "      <td>30</td>\n",
       "      <td>20</td>\n",
       "      <td>0</td>\n",
       "      <td>165.0</td>\n",
       "      <td>32957</td>\n",
       "      <td>16.0</td>\n",
       "      <td>36.0</td>\n",
       "      <td>30.0</td>\n",
       "    </tr>\n",
       "    <tr>\n",
       "      <td>762.1</td>\n",
       "      <td>0</td>\n",
       "      <td>30</td>\n",
       "      <td>20</td>\n",
       "      <td>0</td>\n",
       "      <td>165.0</td>\n",
       "      <td>32957</td>\n",
       "      <td>16.0</td>\n",
       "      <td>40.0</td>\n",
       "      <td>30.0</td>\n",
       "    </tr>\n",
       "  </tbody>\n",
       "</table>\n",
       "<p>124 rows × 9 columns</p>\n",
       "</div>"
      ],
      "text/plain": [
       "       星期  关注数  支持者数  点赞数  完成百分比   筹集金额  最新上架  即将结束  即将上架\n",
       "0.0     4    1     0    0    0.0      0   0.0   0.0   0.0\n",
       "6.0     4    1     0    0    0.0      0   0.0   0.0   6.0\n",
       "12.0    4    1     0    0    0.0      0   0.0   0.0  10.0\n",
       "18.0    4    1     0    0    0.0      0   0.0   0.0  14.0\n",
       "24.0    5    1     0    0    0.0      0   0.0   0.0  18.0\n",
       "...    ..  ...   ...  ...    ...    ...   ...   ...   ...\n",
       "738.1   6   30    20    0  165.0  32957  16.0  24.0  30.0\n",
       "744.2   0   30    20    0  165.0  32957  16.0  28.0  30.0\n",
       "750.1   0   30    20    0  165.0  32957  16.0  32.0  30.0\n",
       "756.1   0   30    20    0  165.0  32957  16.0  36.0  30.0\n",
       "762.1   0   30    20    0  165.0  32957  16.0  40.0  30.0\n",
       "\n",
       "[124 rows x 9 columns]"
      ]
     },
     "execution_count": 34,
     "metadata": {},
     "output_type": "execute_result"
    }
   ],
   "source": [
    "m_df"
   ]
  },
  {
   "cell_type": "code",
   "execution_count": 26,
   "metadata": {},
   "outputs": [],
   "source": [
    "import matplotlib\n",
    "myfont = matplotlib.font_manager.FontProperties(fname='/System/Library/Fonts/STHeiti Light.ttc')\n",
    "mpl.rcParams['axes.unicode_minus'] = False"
   ]
  },
  {
   "cell_type": "code",
   "execution_count": 27,
   "metadata": {},
   "outputs": [
    {
     "ename": "IndexError",
     "evalue": "tuple index out of range",
     "output_type": "error",
     "traceback": [
      "\u001b[0;31m---------------------------------------------------------------------------\u001b[0m",
      "\u001b[0;31mIndexError\u001b[0m                                Traceback (most recent call last)",
      "\u001b[0;32m<ipython-input-27-ee5c8f946490>\u001b[0m in \u001b[0;36m<module>\u001b[0;34m\u001b[0m\n\u001b[1;32m      3\u001b[0m \u001b[0;32mfor\u001b[0m \u001b[0mi\u001b[0m\u001b[0;34m,\u001b[0m \u001b[0mcol\u001b[0m \u001b[0;32min\u001b[0m \u001b[0menumerate\u001b[0m\u001b[0;34m(\u001b[0m\u001b[0mm_df\u001b[0m\u001b[0;34m.\u001b[0m\u001b[0mcolumns\u001b[0m\u001b[0;34m,\u001b[0m \u001b[0mstart\u001b[0m\u001b[0;34m=\u001b[0m\u001b[0;36m1\u001b[0m\u001b[0;34m)\u001b[0m\u001b[0;34m:\u001b[0m\u001b[0;34m\u001b[0m\u001b[0m\n\u001b[1;32m      4\u001b[0m     \u001b[0max\u001b[0m \u001b[0;34m=\u001b[0m \u001b[0mfig\u001b[0m\u001b[0;34m.\u001b[0m\u001b[0madd_subplot\u001b[0m\u001b[0;34m(\u001b[0m\u001b[0;36m5\u001b[0m\u001b[0;34m,\u001b[0m \u001b[0;36m2\u001b[0m\u001b[0;34m,\u001b[0m \u001b[0mi\u001b[0m\u001b[0;34m)\u001b[0m\u001b[0;34m\u001b[0m\u001b[0m\n\u001b[0;32m----> 5\u001b[0;31m     \u001b[0max\u001b[0m\u001b[0;34m.\u001b[0m\u001b[0mplot\u001b[0m\u001b[0;34m(\u001b[0m\u001b[0mm_df\u001b[0m\u001b[0;34m.\u001b[0m\u001b[0mindex\u001b[0m\u001b[0;34m,\u001b[0m \u001b[0mm_df\u001b[0m\u001b[0;34m[\u001b[0m\u001b[0mcol\u001b[0m\u001b[0;34m]\u001b[0m\u001b[0;34m,\u001b[0m \u001b[0mlabel\u001b[0m\u001b[0;34m=\u001b[0m\u001b[0mcol\u001b[0m\u001b[0;34m)\u001b[0m\u001b[0;34m\u001b[0m\u001b[0m\n\u001b[0m\u001b[1;32m      6\u001b[0m     \u001b[0max\u001b[0m\u001b[0;34m.\u001b[0m\u001b[0mset_xlabel\u001b[0m\u001b[0;34m(\u001b[0m\u001b[0;34m'时间'\u001b[0m\u001b[0;34m,\u001b[0m \u001b[0mfontproperties\u001b[0m\u001b[0;34m=\u001b[0m\u001b[0mmyfont\u001b[0m\u001b[0;34m,\u001b[0m \u001b[0mfontsize\u001b[0m\u001b[0;34m=\u001b[0m\u001b[0;36m12\u001b[0m\u001b[0;34m)\u001b[0m\u001b[0;34m\u001b[0m\u001b[0m\n\u001b[1;32m      7\u001b[0m     \u001b[0max\u001b[0m\u001b[0;34m.\u001b[0m\u001b[0mlegend\u001b[0m\u001b[0;34m(\u001b[0m\u001b[0mprop\u001b[0m\u001b[0;34m=\u001b[0m\u001b[0mmyfont\u001b[0m\u001b[0;34m)\u001b[0m\u001b[0;34m\u001b[0m\u001b[0m\n",
      "\u001b[0;32m/Library/Frameworks/Python.framework/Versions/3.7/lib/python3.7/site-packages/matplotlib/axes/_axes.py\u001b[0m in \u001b[0;36mplot\u001b[0;34m(self, scalex, scaley, data, *args, **kwargs)\u001b[0m\n\u001b[1;32m   1664\u001b[0m         \"\"\"\n\u001b[1;32m   1665\u001b[0m         \u001b[0mkwargs\u001b[0m \u001b[0;34m=\u001b[0m \u001b[0mcbook\u001b[0m\u001b[0;34m.\u001b[0m\u001b[0mnormalize_kwargs\u001b[0m\u001b[0;34m(\u001b[0m\u001b[0mkwargs\u001b[0m\u001b[0;34m,\u001b[0m \u001b[0mmlines\u001b[0m\u001b[0;34m.\u001b[0m\u001b[0mLine2D\u001b[0m\u001b[0;34m.\u001b[0m\u001b[0m_alias_map\u001b[0m\u001b[0;34m)\u001b[0m\u001b[0;34m\u001b[0m\u001b[0m\n\u001b[0;32m-> 1666\u001b[0;31m         \u001b[0mlines\u001b[0m \u001b[0;34m=\u001b[0m \u001b[0;34m[\u001b[0m\u001b[0;34m*\u001b[0m\u001b[0mself\u001b[0m\u001b[0;34m.\u001b[0m\u001b[0m_get_lines\u001b[0m\u001b[0;34m(\u001b[0m\u001b[0;34m*\u001b[0m\u001b[0margs\u001b[0m\u001b[0;34m,\u001b[0m \u001b[0mdata\u001b[0m\u001b[0;34m=\u001b[0m\u001b[0mdata\u001b[0m\u001b[0;34m,\u001b[0m \u001b[0;34m**\u001b[0m\u001b[0mkwargs\u001b[0m\u001b[0;34m)\u001b[0m\u001b[0;34m]\u001b[0m\u001b[0;34m\u001b[0m\u001b[0m\n\u001b[0m\u001b[1;32m   1667\u001b[0m         \u001b[0;32mfor\u001b[0m \u001b[0mline\u001b[0m \u001b[0;32min\u001b[0m \u001b[0mlines\u001b[0m\u001b[0;34m:\u001b[0m\u001b[0;34m\u001b[0m\u001b[0m\n\u001b[1;32m   1668\u001b[0m             \u001b[0mself\u001b[0m\u001b[0;34m.\u001b[0m\u001b[0madd_line\u001b[0m\u001b[0;34m(\u001b[0m\u001b[0mline\u001b[0m\u001b[0;34m)\u001b[0m\u001b[0;34m\u001b[0m\u001b[0m\n",
      "\u001b[0;32m/Library/Frameworks/Python.framework/Versions/3.7/lib/python3.7/site-packages/matplotlib/axes/_base.py\u001b[0m in \u001b[0;36m__call__\u001b[0;34m(self, *args, **kwargs)\u001b[0m\n\u001b[1;32m    223\u001b[0m                 \u001b[0mthis\u001b[0m \u001b[0;34m+=\u001b[0m \u001b[0margs\u001b[0m\u001b[0;34m[\u001b[0m\u001b[0;36m0\u001b[0m\u001b[0;34m]\u001b[0m\u001b[0;34m,\u001b[0m\u001b[0;34m\u001b[0m\u001b[0m\n\u001b[1;32m    224\u001b[0m                 \u001b[0margs\u001b[0m \u001b[0;34m=\u001b[0m \u001b[0margs\u001b[0m\u001b[0;34m[\u001b[0m\u001b[0;36m1\u001b[0m\u001b[0;34m:\u001b[0m\u001b[0;34m]\u001b[0m\u001b[0;34m\u001b[0m\u001b[0m\n\u001b[0;32m--> 225\u001b[0;31m             \u001b[0;32myield\u001b[0m \u001b[0;32mfrom\u001b[0m \u001b[0mself\u001b[0m\u001b[0;34m.\u001b[0m\u001b[0m_plot_args\u001b[0m\u001b[0;34m(\u001b[0m\u001b[0mthis\u001b[0m\u001b[0;34m,\u001b[0m \u001b[0mkwargs\u001b[0m\u001b[0;34m)\u001b[0m\u001b[0;34m\u001b[0m\u001b[0m\n\u001b[0m\u001b[1;32m    226\u001b[0m \u001b[0;34m\u001b[0m\u001b[0m\n\u001b[1;32m    227\u001b[0m     \u001b[0;32mdef\u001b[0m \u001b[0mget_next_color\u001b[0m\u001b[0;34m(\u001b[0m\u001b[0mself\u001b[0m\u001b[0;34m)\u001b[0m\u001b[0;34m:\u001b[0m\u001b[0;34m\u001b[0m\u001b[0m\n",
      "\u001b[0;32m/Library/Frameworks/Python.framework/Versions/3.7/lib/python3.7/site-packages/matplotlib/axes/_base.py\u001b[0m in \u001b[0;36m_plot_args\u001b[0;34m(self, tup, kwargs)\u001b[0m\n\u001b[1;32m    397\u001b[0m             \u001b[0mfunc\u001b[0m \u001b[0;34m=\u001b[0m \u001b[0mself\u001b[0m\u001b[0;34m.\u001b[0m\u001b[0m_makefill\u001b[0m\u001b[0;34m\u001b[0m\u001b[0m\n\u001b[1;32m    398\u001b[0m \u001b[0;34m\u001b[0m\u001b[0m\n\u001b[0;32m--> 399\u001b[0;31m         \u001b[0mncx\u001b[0m\u001b[0;34m,\u001b[0m \u001b[0mncy\u001b[0m \u001b[0;34m=\u001b[0m \u001b[0mx\u001b[0m\u001b[0;34m.\u001b[0m\u001b[0mshape\u001b[0m\u001b[0;34m[\u001b[0m\u001b[0;36m1\u001b[0m\u001b[0;34m]\u001b[0m\u001b[0;34m,\u001b[0m \u001b[0my\u001b[0m\u001b[0;34m.\u001b[0m\u001b[0mshape\u001b[0m\u001b[0;34m[\u001b[0m\u001b[0;36m1\u001b[0m\u001b[0;34m]\u001b[0m\u001b[0;34m\u001b[0m\u001b[0m\n\u001b[0m\u001b[1;32m    400\u001b[0m         \u001b[0;32mif\u001b[0m \u001b[0mncx\u001b[0m \u001b[0;34m>\u001b[0m \u001b[0;36m1\u001b[0m \u001b[0;32mand\u001b[0m \u001b[0mncy\u001b[0m \u001b[0;34m>\u001b[0m \u001b[0;36m1\u001b[0m \u001b[0;32mand\u001b[0m \u001b[0mncx\u001b[0m \u001b[0;34m!=\u001b[0m \u001b[0mncy\u001b[0m\u001b[0;34m:\u001b[0m\u001b[0;34m\u001b[0m\u001b[0m\n\u001b[1;32m    401\u001b[0m             cbook.warn_deprecated(\n",
      "\u001b[0;31mIndexError\u001b[0m: tuple index out of range"
     ]
    },
    {
     "data": {
      "image/png": "[encoded data removed]",
      "text/plain": [
       "<Figure size 864x1440 with 1 Axes>"
      ]
     },
     "metadata": {
      "needs_background": "light"
     },
     "output_type": "display_data"
    }
   ],
   "source": [
    "%matplotlib inline\n",
    "fig = plt.figure(figsize=(12, 20))\n",
    "for i, col in enumerate(m_df.columns, start=1):\n",
    "    ax = fig.add_subplot(5, 2, i)\n",
    "    ax.plot(m_df.index, m_df[col], label=col)\n",
    "    ax.set_xlabel('时间', fontproperties=myfont, fontsize=12)\n",
    "    ax.legend(prop=myfont)\n",
    "\n",
    "fig.tight_layout()"
   ]
  },
  {
   "cell_type": "markdown",
   "metadata": {},
   "source": [
    "## Bass\n",
    "\n",
    "### 扩散分为两个阶段:\n",
    "- 信息扩散\n",
    "- 采纳行为扩散"
   ]
  },
  {
   "cell_type": "code",
   "execution_count": null,
   "metadata": {},
   "outputs": [],
   "source": [
    "class estim_bass:\n",
    "    def __init__(self, data):\n",
    "        self.s = increment(data.支持者数.values)\n",
    "        self.p_s = increment(data.完成百分比.values)\n",
    "        self.t_list = data.index\n",
    "        self.s_len= len(self.s)\n",
    "        self.bounds = [(-0.5, 0.5), (-1, 1), (np.sum(self.s), 10 * np.sum(self.s))]\n",
    "        self.ini_values = [0.05, 0.1,  1.5 * np.sum(self.s)]\n",
    "    \n",
    "    def non_cumm(self, x):\n",
    "        return [(x[i] - x[i-1]) if i >= 1 else x[0] for i in range(len(x))]\n",
    "    \n",
    "    def bass(self, params):  # 如果要使用其它模型，可以重新定义\n",
    "        p, q, m = params\n",
    "        a = np.array([1 - np.exp(-(p + q) * t) for t in self.t_list])\n",
    "        b = np.array([1 + q / p * np.exp(-(p + q) * t) for t in self.t_list])\n",
    "        diffu_cont = m * a / b\n",
    "\n",
    "#         adopt_cont = np.zeros_like(diffu_cont)  # 创建一个self.s_len长度的array\n",
    "#         adopt_cont[0] = diffu_cont[0]  # 初始采纳数\n",
    "#         for t in range(1, self.s_len):  # 非累积采纳数\n",
    "#             adopt_cont[t] = diffu_cont[t] - diffu_cont[t - 1]\n",
    "        adopt_cont = self.non_cumm(diffu_cont)\n",
    "        return pd.Series(adopt_cont, index=self.t_list)\n",
    "    \n",
    "    def mse(self, params):  # 定义适应度函数（mse）\n",
    "        a = self.bass(params)\n",
    "        sse = np.sum(np.square(self.s - a))\n",
    "        return np.sqrt(sse) / self.s_len  # 均方误\n",
    "\n",
    "    def r2(self, params):  # 求R2\n",
    "        f_act = self.bass(params)\n",
    "        tse = np.sum(np.square(self.s - f_act))\n",
    "        mean_y = np.mean(self.s)\n",
    "        ssl = np.sum(np.square(self.s - mean_y))\n",
    "        R_2 = (ssl - tse) / ssl\n",
    "        return R_2\n",
    "    \n",
    "    def solve(self):\n",
    "        try:\n",
    "            sol = minimize(self.mse, self.ini_values, bounds=self.bounds, method='SLSQP')\n",
    "            return {'mse': sol.fun, 'r2': self.r2(sol.x), 'p': sol.x[0], 'q': sol.x[1], 'm': int(sol.x[2])}\n",
    "        except Exception as E:\n",
    "            print(\"寻优失败\")\n",
    "            print(E)"
   ]
  },
  {
   "cell_type": "markdown",
   "metadata": {},
   "source": [
    "### 对单条众筹成功项目的数据处理"
   ]
  },
  {
   "cell_type": "code",
   "execution_count": null,
   "metadata": {},
   "outputs": [],
   "source": [
    "res_list = []\n",
    "for i, item in enumerate(project.find({\"状态\": '项目成功'})):\n",
    "    try:\n",
    "        data = prepare_data(item)\n",
    "#         s1 = increment(data.支持者数.values)\n",
    "#         s2 = increment(data.完成百分比.values)\n",
    "#         t_list = data.index\n",
    "        \n",
    "        eb = estim_bass(data)\n",
    "        a = eb.solve()\n",
    "        res_list.append([i, a])\n",
    "    except Exception as e:\n",
    "        print(i, e)"
   ]
  },
  {
   "cell_type": "code",
   "execution_count": null,
   "metadata": {},
   "outputs": [],
   "source": [
    "for i, a in res_list:\n",
    "    if a['r2'] > 0.8 and a['q'] > 0:\n",
    "        print(f\"{i}, {a['r2']:.4f}, {a['p']:.4f}, {a['q']:.4f}, {a['m']:.0f}\")"
   ]
  },
  {
   "cell_type": "code",
   "execution_count": null,
   "metadata": {},
   "outputs": [],
   "source": [
    "succ_projs = project.find({\"状态\": \"项目成功\"})\n",
    "item = succ_projs[1977]\n",
    "\n",
    "data = prepare_data(item)\n",
    "# s1 = increment(data.支持者数.values)\n",
    "# s2 = increment(data.完成百分比.values)\n",
    "# t_list = data.index\n",
    "\n",
    "eb = estim_bass(data)\n",
    "a = eb.solve()\n",
    "estimates = [a['p'], a['q'], a['m']]\n",
    "print(a)\n",
    "plt.scatter(t_list, s2, color=\"grey\", alpha=0.3)\n",
    "plt.plot(t_list, s2, lw=0.5, color=\"grey\", linestyle=\"--\")\n",
    "plt.plot(t_list, eb.bass(estimates), 'r-', lw=2)"
   ]
  },
  {
   "cell_type": "code",
   "execution_count": null,
   "metadata": {},
   "outputs": [],
   "source": [
    "eb.t_list = np.arange(1, 25)\n",
    "x = eb.bass([0.005, 0.2, 200])\n",
    "plt.plot(eb.t_list, x, 'ro--')"
   ]
  },
  {
   "cell_type": "code",
   "execution_count": null,
   "metadata": {},
   "outputs": [],
   "source": [
    "len(x)"
   ]
  },
  {
   "cell_type": "code",
   "execution_count": null,
   "metadata": {},
   "outputs": [],
   "source": [
    "def describe_plot(item):\n",
    "    start_time = item['状态变换时间1-2']\n",
    "    end_time = item['状态变换时间2-3']\n",
    "\n",
    "    print(f\"项目编号: {item['_id']}\\n项目名称: {item['项目名称']}\\n所属类别: {item['所属类别']}\\n公司名称: {item['公司名称']}\")\n",
    "    print(f\"\\n众筹期限: {item['众筹期限']}天\\n项目状态: {item['状态']}\")\n",
    "    print()\n",
    "    print(\"发起人页面:\", f\"http://z.jd.com/project/details/{item['_id']}.html\") \n",
    "    print(\"项目页面:\", f\"http://z.jd.com{item['发起人链接']}\")\n",
    "    print()\n",
    "    print('预热中:', item['状态变换时间0-1'].strftime('%Y{y}%m{m}%d{d} %H:%M:%S').format(y='年',m='月',d='日'), sep='\\t') \n",
    "    print('预热中->众筹中:', start_time.strftime('%Y{y}%m{m}%d{d} %H:%M:%S').format(y='年',m='月',d='日'), sep='\\t')\n",
    "    print('众筹中->众筹成功:', end_time.strftime('%Y{y}%m{m}%d{d} %H:%M:%S').format(y='年',m='月',d='日'), sep='\\t')\n",
    "    print('众筹中->项目成功:', item['状态变换时间3-4'].strftime('%Y{y}%m{m}%d{d} %H:%M:%S').format(y='年',m='月',d='日'), sep='\\t')\n",
    "\n",
    "    data = to_df(item)\n",
    "    day_data = transfer_to_day(data)\n",
    "    t_fund = day_data['筹集金额'][-1]\n",
    "    print()\n",
    "    print(\"众筹前的关注者数增长:\")\n",
    "    print(day_data[['关注数','点赞数']].loc[:start_time])\n",
    "\n",
    "    fig = plt.figure(figsize=(12, 9))\n",
    "    myfont = mpl.font_manager.FontProperties(fname=\"/Library/Fonts/Songti.ttc\")\n",
    "    mpl.rcParams['axes.unicode_minus'] = False\n",
    "    for i, col in enumerate(col_names, start=1):\n",
    "        ax = fig.add_subplot(3, 2, i)\n",
    "        ax.plot(day_data.index, increment(day_data[col]), 'r-', lw=0.5)\n",
    "        ax.scatter(day_data.index.values, increment(day_data[col].values), color='grey', alpha=0.5)\n",
    "        ax.set_ylabel(col, fontproperties=myfont, fontsize=16)\n",
    "        ax.set_xlim([day_data.index.values[0], day_data.index.values[-1]])\n",
    "        ax.axvline(start_time, color='green', linestyle='--', linewidth=0.5)\n",
    "        ax.axvline(end_time, color='red', linestyle='--', linewidth=0.5)\n",
    "        for tick in ax.get_xticklabels():\n",
    "            tick.set_rotation(30)\n",
    "\n",
    "        if i == 4:\n",
    "            ax.axhline(100, color='blue', linestyle='--', linewidth=0.5)\n",
    "\n",
    "        if i == 5:\n",
    "            ax.axhline(t_fund, color='blue', linestyle='--', linewidth=0.5)\n",
    "            ax.text(day_data.index.values[0], t_fund*0.8, f\"{t_fund}元\", fontproperties=myfont, fontsize=13, color='green')\n",
    "\n",
    "    fig.tight_layout()\n",
    "    return day_data"
   ]
  },
  {
   "cell_type": "code",
   "execution_count": null,
   "metadata": {},
   "outputs": [],
   "source": [
    "item = succ_projs[174]\n",
    "day_data = describe_plot(item)"
   ]
  },
  {
   "cell_type": "markdown",
   "metadata": {},
   "source": [
    "- 累积扩散图"
   ]
  },
  {
   "cell_type": "code",
   "execution_count": null,
   "metadata": {},
   "outputs": [],
   "source": [
    "fig = plt.figure(figsize=(12, 9))\n",
    "myfont = mpl.font_manager.FontProperties(fname=\"/Library/Fonts/Songti.ttc\")\n",
    "mpl.rcParams['axes.unicode_minus'] = False\n",
    "for i, col in enumerate(col_names, start=1):\n",
    "    ax = fig.add_subplot(3, 2, i)\n",
    "    ax.plot(day_data.index, day_data[col], 'r-')\n",
    "    ax.scatter(day_data.index.values, day_data[col].values, color='grey', alpha=0.5)\n",
    "    ax.set_ylabel(col, fontproperties=myfont, fontsize=16)\n",
    "    ax.set_xlim([day_data.index.values[0], day_data.index.values[-1]])\n",
    "    ax.axvline(start_time, color='green', linestyle='--', linewidth=0.5)\n",
    "    ax.axvline(end_time, color='red', linestyle='--', linewidth=0.5)\n",
    "    for tick in ax.get_xticklabels():\n",
    "        tick.set_rotation(45)\n",
    "    \n",
    "    if i == 4:\n",
    "        ax.axhline(100, color='blue', linestyle='--', linewidth=0.5)\n",
    "    \n",
    "    if i == 5:\n",
    "        ax.axhline(t_fund, color='blue', linestyle='--', linewidth=0.5)\n",
    "        ax.text(day_data.index.values[0], t_fund*0.8, f\"{t_fund}元\", fontproperties=myfont, fontsize=13, color='blue')\n",
    "        \n",
    "fig.tight_layout()"
   ]
  },
  {
   "cell_type": "markdown",
   "metadata": {},
   "source": [
    "- 评论数据处理：分别选取出众筹开始前后的评论"
   ]
  },
  {
   "cell_type": "code",
   "execution_count": null,
   "metadata": {},
   "outputs": [],
   "source": [
    "review = x['评论']['评论详细']\n",
    "list_review = sorted(review.items())\n",
    "\n",
    "strpTime = datetime.datetime.strptime  # 日期字符串转换为datetime对象\n",
    "before_items = [(strpTime(item[1]['创建时间'], \"%Y-%m-%d %H:%M:%S\"), item[1]['评论内容']) for item in list_review \n",
    "                if strpTime(item[1]['创建时间'], \"%Y-%m-%d %H:%M:%S\") <= start_time]\n",
    "after_items = [(strpTime(item[1]['创建时间'], \"%Y-%m-%d %H:%M:%S\"), item[1]['评论内容']) for item in list_review \n",
    "               if strpTime(item[1]['创建时间'], \"%Y-%m-%d %H:%M:%S\") > start_time]\n",
    "\n",
    "print(f'众筹开始前评论数量: {len(before_items)}\\n众筹开始后评论数量: {len(after_items)}')"
   ]
  },
  {
   "cell_type": "code",
   "execution_count": null,
   "metadata": {},
   "outputs": [],
   "source": [
    "for dt, item in after_items:\n",
    "    print(dt.date(), item)"
   ]
  },
  {
   "cell_type": "markdown",
   "metadata": {},
   "source": [
    "### 分析众筹成功项目"
   ]
  },
  {
   "cell_type": "code",
   "execution_count": null,
   "metadata": {},
   "outputs": [],
   "source": [
    "succ_project = project.find({'状态': '项目成功'})"
   ]
  },
  {
   "cell_type": "code",
   "execution_count": null,
   "metadata": {},
   "outputs": [],
   "source": [
    "print('预热中:', succ_project[1]['状态变换时间0-1'].strftime('%Y年%m月%d日 %H:%M:%S'), sep='\\t') \n",
    "print('预热中->众筹中:', succ_project[1]['状态变换时间1-2'].strftime('%Y年%m月%d日 %H:%M:%S'), sep='\\t')\n",
    "print('众筹中->众筹成功:', succ_project[1]['状态变换时间2-3'].strftime('%Y年%m月%d日 %H:%M:%S'), sep='\\t')\n",
    "print('众筹中->项目成功:', succ_project[1]['状态变换时间3-4'].strftime('%Y年%m月%d日 %H:%M:%S'), sep='\\t')"
   ]
  },
  {
   "cell_type": "markdown",
   "metadata": {
    "slideshow": {
     "slide_type": "-"
    }
   },
   "source": [
    "- 项目成功时间\n",
    "> 查看从众筹开始到众筹成功的时间分布。"
   ]
  },
  {
   "cell_type": "code",
   "execution_count": null,
   "metadata": {},
   "outputs": [],
   "source": [
    "def get_status():\n",
    "    \n",
    "    return"
   ]
  },
  {
   "cell_type": "code",
   "execution_count": null,
   "metadata": {},
   "outputs": [],
   "source": [
    "x = project.find_one({}).keys()"
   ]
  },
  {
   "cell_type": "code",
   "execution_count": null,
   "metadata": {},
   "outputs": [],
   "source": [
    "for d in sorted(list(x)):\n",
    "    print(d)"
   ]
  },
  {
   "cell_type": "code",
   "execution_count": null,
   "metadata": {},
   "outputs": [],
   "source": [
    "project.find_one({'状态': \"项目成功\"}, projection={\"项目动态信息\":0, \"各档基础信息\":0, \"各档动态信息\":0, \"评论\":0})"
   ]
  },
  {
   "cell_type": "code",
   "execution_count": null,
   "metadata": {},
   "outputs": [],
   "source": [
    "def to_df(item):\n",
    "    dyn_info = item['项目动态信息']\n",
    "    t_fund = item['目标金额']\n",
    "    start_t = item['状态变换时间1-2']  # 众筹开始时间\n",
    "    end_t = item['状态变换时间2-3']  # 众筹成功时间\n",
    "\n",
    "    # 去除重复\n",
    "    a1 = dyn_info[0]\n",
    "    records = {'更新时间':[], '支持者数':[], '关注数':[], '点赞数':[], '完成百分比':[], '筹集金额':[]}\n",
    "    for i, a2 in enumerate(dyn_info):\n",
    "        if a2[\"更新时间\"] != a1['更新时间']:\n",
    "            records['更新时间'].append(a2['更新时间'])\n",
    "            records['支持者数'].append(a2['支持者数'])\n",
    "            records['关注数'].append(a2['关注数'])\n",
    "            records['完成百分比'].append(a2['完成百分比'])\n",
    "            records['筹集金额'].append(a2['筹集金额'])\n",
    "            records['点赞数'].append(a2['点赞数'])\n",
    "            a1 = a2\n",
    "\n",
    "    # 绘图\n",
    "    col_names = ['关注数', '支持者数', '点赞数', '完成百分比', '筹集金额']\n",
    "    df = pd.DataFrame(records, index=records['更新时间'], columns=col_names)\n",
    "    return df"
   ]
  },
  {
   "cell_type": "code",
   "execution_count": null,
   "metadata": {
    "scrolled": true
   },
   "outputs": [],
   "source": [
    "def getTimeRange(df)\n",
    "    x = df[df.index > start_t]\n",
    "    y = x[x.完成百分比.values > 100]\n",
    "    d = x[:y.index[0]]\n",
    "    return d"
   ]
  },
  {
   "cell_type": "code",
   "execution_count": 151,
   "metadata": {},
   "outputs": [
    {
     "data": {
      "text/plain": [
       "13"
      ]
     },
     "execution_count": 151,
     "metadata": {},
     "output_type": "execute_result"
    }
   ],
   "source": [
    "from functools import partial\n",
    "\n",
    "def f(x, y, z):\n",
    "    return x + y + z\n",
    "\n",
    "g = partial(f, z=10)\n",
    "g(1,2)"
   ]
  },
  {
   "cell_type": "code",
   "execution_count": 158,
   "metadata": {},
   "outputs": [
    {
     "data": {
      "text/plain": [
       "6"
      ]
     },
     "execution_count": 158,
     "metadata": {},
     "output_type": "execute_result"
    }
   ],
   "source": [
    "g(x=1,y=2, z=3)"
   ]
  },
  {
   "cell_type": "code",
   "execution_count": 159,
   "metadata": {},
   "outputs": [
    {
     "data": {
      "text/plain": [
       "functools.partial(<function f at 0x1334a47b8>, z=10)"
      ]
     },
     "execution_count": 159,
     "metadata": {},
     "output_type": "execute_result"
    }
   ],
   "source": [
    "g"
   ]
  },
  {
   "cell_type": "code",
   "execution_count": null,
   "metadata": {},
   "outputs": [],
   "source": []
  }
 ],
 "metadata": {
  "kernelspec": {
   "display_name": "Python 3",
   "language": "python",
   "name": "python3"
  },
  "language_info": {
   "codemirror_mode": {
    "name": "ipython",
    "version": 3
   },
   "file_extension": ".py",
   "mimetype": "text/x-python",
   "name": "python",
   "nbconvert_exporter": "python",
   "pygments_lexer": "ipython3",
   "version": "3.7.0"
  }
 },
 "nbformat": 4,
 "nbformat_minor": 4
}
