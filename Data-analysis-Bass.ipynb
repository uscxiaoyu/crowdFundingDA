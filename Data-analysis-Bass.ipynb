{
 "cells": [
  {
   "cell_type": "code",
   "execution_count": null,
   "metadata": {},
   "outputs": [],
   "source": [
    "%matplotlib inline\n",
    "import matplotlib.pyplot as plt\n",
    "import matplotlib as mpl\n",
    "import numpy as np\n",
    "import pandas as pd\n",
    "import datetime\n",
    "from bson import ObjectId\n",
    "from pymongo import MongoClient\n",
    "from scipy.optimize import minimize"
   ]
  },
  {
   "cell_type": "code",
   "execution_count": null,
   "metadata": {},
   "outputs": [],
   "source": [
    "client = MongoClient('127.0.0.1', 27017)\n",
    "db = client.moniter_crowdfunding\n",
    "# db.authenticate(name=\"craw\", password=\"craw\")"
   ]
  },
  {
   "cell_type": "code",
   "execution_count": null,
   "metadata": {},
   "outputs": [],
   "source": [
    "db.list_collection_names()"
   ]
  },
  {
   "cell_type": "code",
   "execution_count": null,
   "metadata": {},
   "outputs": [],
   "source": [
    "project = db.projects\n",
    "s_project = db.sucess_projects\n",
    "f_project = db.failure_projects\n",
    "front_page = db.front_page"
   ]
  },
  {
   "cell_type": "markdown",
   "metadata": {},
   "source": [
    "- array查询"
   ]
  },
  {
   "cell_type": "code",
   "execution_count": null,
   "metadata": {},
   "outputs": [],
   "source": [
    "s_project.find_one({\"项目动态信息.0.爬取时间\": {'$gte': datetime.datetime(2019, 1, 1), \n",
    "                                       '$lte': datetime.datetime(2019, 1, 30)}},\n",
    "                   projection={\"_id\":1, \n",
    "                               \"项目名称\": 1, \n",
    "                               \"项目动态信息.爬取时间\": 1,\n",
    "                               \"项目动态信息.支持者数\": 1,\n",
    "                               \"项目动态信息\": {\"$slice\": [10, 5]}})"
   ]
  },
  {
   "cell_type": "code",
   "execution_count": null,
   "metadata": {},
   "outputs": [],
   "source": [
    "s_project.find_one({\"项目动态信息\": {'$elemMatch': { '爬取时间': {'$gte': datetime.datetime(2019, 1, 1), \n",
    "                                       '$lte': datetime.datetime(2019, 1, 30)}}\n",
    "                              }},\n",
    "                   projection={\"_id\":1, \"项目名称\": 1, \"项目动态信息.$\": 1})"
   ]
  },
  {
   "cell_type": "code",
   "execution_count": null,
   "metadata": {},
   "outputs": [],
   "source": [
    "s_project.find_one({\"项目动态信息.爬取时间\": {'$gte': datetime.datetime(2019, 1, 1), \n",
    "                                       '$lte': datetime.datetime(2019, 1, 30)}\n",
    "                                          },\n",
    "                   projection={\"_id\":1, \"项目名称\": 1, \"项目动态信息.$\": 1})"
   ]
  },
  {
   "cell_type": "code",
   "execution_count": null,
   "metadata": {},
   "outputs": [],
   "source": [
    "num_Psucc = s_project.count_documents({'状态': '项目成功'})\n",
    "num_Csucc = project.count_documents({'状态': '众筹成功'})\n",
    "num_Cing = project.count_documents({'状态': '众筹中'})\n",
    "num_Pheat = project.count_documents({'状态': '预热中'})\n",
    "num_Fproj = f_project.count_documents({})\n",
    "print(f'项目成功:{num_Psucc}', f'众筹成功:{num_Csucc}', \n",
    "      f'众筹中:{num_Cing}', f'预热中:{num_Pheat}', f'项目失败:{num_Fproj}', sep='\\t')"
   ]
  },
  {
   "cell_type": "markdown",
   "metadata": {},
   "source": [
    "# 一、获取众筹项目扩散指标时间序列"
   ]
  },
  {
   "cell_type": "markdown",
   "metadata": {},
   "source": [
    "- 1. 将原始数据库中的`item`转化为`df`数据格式"
   ]
  },
  {
   "cell_type": "code",
   "execution_count": null,
   "metadata": {},
   "outputs": [],
   "source": [
    "def to_df(item, col_names = ['星期', '关注数', '支持者数', '点赞数', '完成百分比', '筹集金额']):\n",
    "    dyn_info = item['项目动态信息']\n",
    "    t_fund = item['目标金额']\n",
    "    \n",
    "    # 剔除更新时间相同的记录\n",
    "    a1 = dyn_info[0]\n",
    "    records = {'更新时间':[], '星期':[], '支持者数':[], '关注数':[], '点赞数':[], '完成百分比':[], '筹集金额':[]}\n",
    "    for i, a2 in enumerate(dyn_info):\n",
    "        if a2[\"更新时间\"] != a1['更新时间']:\n",
    "            records['更新时间'].append(a2['更新时间'])\n",
    "            records['星期'].append(a2['更新时间'].weekday())  # 0 -> monday, 1 -> tuesday, ..., y -> sunday\n",
    "            records['支持者数'].append(a2['支持者数'])\n",
    "            records['关注数'].append(a2['关注数'])\n",
    "            records['完成百分比'].append(a2['完成百分比'])\n",
    "            records['筹集金额'].append(a2['筹集金额'])\n",
    "            records['点赞数'].append(a2['点赞数'])\n",
    "            \n",
    "            a1 = a2\n",
    "            \n",
    "    df = pd.DataFrame(records, index=records['更新时间'], columns=col_names)\n",
    "    return df"
   ]
  },
  {
   "cell_type": "markdown",
   "metadata": {},
   "source": [
    "- 2. 按每天最晚时间保留1个数据\n",
    "> 对比相邻两个数据索引的时间(年-月-日)是否一致，从而获取是否是同一天的数据。"
   ]
  },
  {
   "cell_type": "code",
   "execution_count": null,
   "metadata": {},
   "outputs": [],
   "source": [
    "def retain_data(df):\n",
    "    new_index = []\n",
    "    for i, index in enumerate(df.index):\n",
    "        if i == 0:\n",
    "            a = df.index[i]\n",
    "        else:\n",
    "            b = df.index[i]\n",
    "            a = df.index[i - 1]\n",
    "            if (b.year, b.month, b.day) != (a.year, a.month, a.day):\n",
    "                new_index.append(i-1)\n",
    "    \n",
    "    return df.iloc[new_index]"
   ]
  },
  {
   "cell_type": "markdown",
   "metadata": {},
   "source": [
    "- 3. 保留众筹开始之后的数据，并将时间转换为相对众筹开始的绝对时长"
   ]
  },
  {
   "cell_type": "code",
   "execution_count": null,
   "metadata": {},
   "outputs": [],
   "source": [
    "def prepare_data(item):\n",
    "    df = to_df(item)\n",
    "    day_data = retain_data(df)\n",
    "    data = day_data[day_data.index >= pd.Timestamp(item['状态变换时间1-2'])]  # 众筹开始后的数据\n",
    "    \n",
    "    interv_list = [t - pd.Timestamp(item['状态变换时间1-2']) for t in data.index]      \n",
    "    t_list = list(map(lambda x : round(x.to_pytimedelta().total_seconds()/3600, 1), \n",
    "                      interv_list))  # 转换为相对众筹开始时间的绝对时长(小时)\n",
    "    \n",
    "    data.index = t_list\n",
    "    return data"
   ]
  },
  {
   "cell_type": "markdown",
   "metadata": {},
   "source": [
    "- 4. 非累积采纳数量"
   ]
  },
  {
   "cell_type": "code",
   "execution_count": null,
   "metadata": {},
   "outputs": [],
   "source": [
    "def increment(x):\n",
    "    return [(x[i] - x[i-1]) if i >= 1 else x[0] \n",
    "            for i in range(len(x))]"
   ]
  },
  {
   "cell_type": "markdown",
   "metadata": {},
   "source": [
    "# 二、获取众筹期间项目在主页各位置的展示时间"
   ]
  },
  {
   "cell_type": "markdown",
   "metadata": {},
   "source": [
    "- 首先，获取时间序列`t_dict`。`t_dict`与`a_dict`键相对应，查看对应时期各监测时间点的各展区是否包含目标pid\n",
    "> `get_demo_data`针对每个时间点的`front_page`进行处理"
   ]
  },
  {
   "cell_type": "code",
   "execution_count": null,
   "metadata": {},
   "outputs": [],
   "source": [
    "def get_demo_data(a_dict, t_dict, pid):\n",
    "    for key in a_dict:\n",
    "        if isinstance(a_dict[key], list):    \n",
    "            if pid in a_dict[key]:\n",
    "                t_dict[key] = t_dict.get(key, []) + [1]\n",
    "            else:\n",
    "                t_dict[key] = t_dict.get(key, []) + [0]\n",
    "        elif isinstance(a_dict[key], dict):\n",
    "            t_dict[key] = get_demo_data(a_dict[key], {}, pid)\n",
    "        elif key == \"监测时间\":\n",
    "            t_dict[key] = t_dict.get(key, []) + [a_dict[key]]\n",
    "        else:\n",
    "            pass\n",
    "            \n",
    "    return t_dict"
   ]
  },
  {
   "cell_type": "markdown",
   "metadata": {},
   "source": [
    "- 然后，获取`t_dict`对应的`pd.DataFrame()`"
   ]
  },
  {
   "cell_type": "code",
   "execution_count": null,
   "metadata": {},
   "outputs": [],
   "source": [
    "def get_eff_data(t_dict, prev_keys=[], dataset={}):\n",
    "    for key in t_dict:\n",
    "        if isinstance(t_dict[key], list):\n",
    "            c_key = '>'.join(prev_keys + [key]) if prev_keys else key\n",
    "            dataset[c_key] = t_dict[key]\n",
    "        else:\n",
    "            dataset = get_eff_data(t_dict[key], prev_keys + [key], dataset)\n",
    "    return dataset"
   ]
  },
  {
   "cell_type": "markdown",
   "metadata": {},
   "source": [
    "- 最后，将主页展示时间数据与项目扩散数据融合"
   ]
  },
  {
   "cell_type": "code",
   "execution_count": null,
   "metadata": {},
   "outputs": [],
   "source": [
    "def merge_df(item, )"
   ]
  },
  {
   "cell_type": "markdown",
   "metadata": {},
   "source": [
    "- 示例"
   ]
  },
  {
   "cell_type": "code",
   "execution_count": null,
   "metadata": {},
   "outputs": [],
   "source": [
    "list(project.find({\"状态变换时间0-1\": {\"$gt\": datetime.datetime(2019, 9, 1)}, \n",
    "                   '状态': {'$in': ['众筹成功', '项目成功']}}, projection={\"_id\": True}))"
   ]
  },
  {
   "cell_type": "code",
   "execution_count": null,
   "metadata": {},
   "outputs": [],
   "source": [
    "p_df.head()"
   ]
  },
  {
   "cell_type": "code",
   "execution_count": null,
   "metadata": {},
   "outputs": [],
   "source": [
    "front_df.iloc[0]"
   ]
  },
  {
   "cell_type": "code",
   "execution_count": null,
   "metadata": {},
   "outputs": [],
   "source": [
    "try:\n",
    "    item = project.find_one({\"_id\": '121291'})  # 项目历史信息\n",
    "    p_df = to_df(item)  # 转换扩散数据\n",
    "    t_start, t_end = p_df.index[0], p_df.index[-1]  # 项目扩散数据最早与最晚时间点\n",
    "    f_page = front_page.find({\"监测时间\": {\"$gte\":t_start, \"$lte\":t_end}},\n",
    "                             sort=[('监测时间', 1)])  # 取出这个时间段的主页观察数据\n",
    "    t_dict = {}  # 初始时刻无数据\n",
    "    for a in f_page:\n",
    "        t_dict = get_demo_data(a, t_dict, item[\"_id\"])  # 迭代查看_id是否在各展区\n",
    "    \n",
    "    dataset = get_eff_data(t_dict)\n",
    "    col_names = list(dataset)\n",
    "    col_names.remove(\"监测时间\")\n",
    "    front_df = pd.DataFrame(dataset, index=dataset[\"监测时间\"], columns=col_names)\n",
    "\n",
    "    # eff_col_names = []  # 剔除全为False的列\n",
    "    # sum_f_df = front_df.sum()\n",
    "    # for x in sum_f_df.index:\n",
    "    #     if sum_f_df[x] > 0:\n",
    "    #         eff_col_names.append(x)\n",
    "\n",
    "    # eff_front_df = front_df[eff_col_names]\n",
    "    # clean_eff_front_df = eff_front_df[eff_front_df.sum(axis=1) > 0]  # 剔除全为False的时间点\n",
    "except Exception as e:\n",
    "    print(e)"
   ]
  },
  {
   "cell_type": "code",
   "execution_count": null,
   "metadata": {},
   "outputs": [],
   "source": [
    "clean_eff_front_df"
   ]
  },
  {
   "cell_type": "code",
   "execution_count": null,
   "metadata": {},
   "outputs": [],
   "source": [
    "a_dict = {}  # 初始化\n",
    "for i, idx in enumerate(clean_eff_front_df.index):\n",
    "    if i == 0:\n",
    "        for col in eff_col_names:\n",
    "            if clean_eff_front_df.loc[idx, col]:\n",
    "                a_dict[col] = [6]\n",
    "            else:\n",
    "                a_dict[col] = [0]\n",
    "    else:\n",
    "        for col in eff_col_names:\n",
    "            if clean_eff_front_df.loc[idx, col]:\n",
    "                if a_dict[col][-1] == 0:\n",
    "                    a_dict[col] = a_dict[col] + [6]\n",
    "                else:\n",
    "                    a_dict[col] = a_dict.get(col, []) + [round((clean_eff_front_df.index[i] - \\\n",
    "                                                      clean_eff_front_df.index[i-1]).\n",
    "                                                     to_pytimedelta().total_seconds()\\\n",
    "                                                     /3600, 0)]\n",
    "            else:\n",
    "                a_dict[col] = a_dict.get(col, []) + [0]\n",
    "\n",
    "a_dict_2 = {col: np.cumsum(a_dict[col]) for col in a_dict}\n",
    "clean_df = pd.DataFrame(a_dict_2, index=clean_eff_front_df.index)"
   ]
  },
  {
   "cell_type": "code",
   "execution_count": null,
   "metadata": {},
   "outputs": [],
   "source": [
    "clean_df"
   ]
  },
  {
   "cell_type": "code",
   "execution_count": null,
   "metadata": {},
   "outputs": [],
   "source": [
    "b_dict = {}\n",
    "for index in p_df.index:\n",
    "    d = np.sum(index > clean_df.index)  # 当前项目扩散时间与主页呈现时间的比较\n",
    "    for col in eff_col_names:\n",
    "        if not d:\n",
    "            b_dict[col] = b_dict.get(col, []) + [0]\n",
    "        else:\n",
    "            b_dict[col] = b_dict.get(col, []) + [clean_df.iloc[d-1][col]]\n",
    "            \n",
    "f_df = pd.DataFrame(b_dict, index=p_df.index)         "
   ]
  },
  {
   "cell_type": "code",
   "execution_count": null,
   "metadata": {},
   "outputs": [],
   "source": [
    "m_df = pd.concat([p_df, f_df], axis=1)\n",
    "interv_list = [t - m_df.index[0] if i > 0 else pd.Timedelta(0, unit=\"hour\") for i, t in enumerate(m_df.index)]      \n",
    "t_list = list(map(lambda x : round(x.to_pytimedelta().total_seconds()/3600, 1), \n",
    "                  interv_list))  # 转换为相对众筹开始时间的绝对时长(小时)\n",
    "\n",
    "m_df.index = t_list"
   ]
  },
  {
   "cell_type": "code",
   "execution_count": null,
   "metadata": {},
   "outputs": [],
   "source": [
    "m_df"
   ]
  },
  {
   "cell_type": "code",
   "execution_count": null,
   "metadata": {},
   "outputs": [],
   "source": [
    "import matplotlib\n",
    "myfont = matplotlib.font_manager.FontProperties(fname='/System/Library/Fonts/STHeiti Light.ttc')\n",
    "mpl.rcParams['axes.unicode_minus'] = False"
   ]
  },
  {
   "cell_type": "code",
   "execution_count": null,
   "metadata": {},
   "outputs": [],
   "source": [
    "%matplotlib inline\n",
    "fig = plt.figure(figsize=(12, 20))\n",
    "for i, col in enumerate(m_df.columns, start=1):\n",
    "    ax = fig.add_subplot(5, 2, i)\n",
    "    ax.plot(m_df.index, m_df[col], label=col)\n",
    "    ax.set_xlabel('时间', fontproperties=myfont, fontsize=12)\n",
    "    ax.legend(prop=myfont)\n",
    "\n",
    "fig.tight_layout()"
   ]
  },
  {
   "cell_type": "markdown",
   "metadata": {},
   "source": [
    "## Bass\n",
    "\n",
    "### 扩散分为两个阶段:\n",
    "- 信息扩散\n",
    "- 采纳行为扩散"
   ]
  },
  {
   "cell_type": "code",
   "execution_count": null,
   "metadata": {},
   "outputs": [],
   "source": [
    "class estim_bass:\n",
    "    def __init__(self, data):\n",
    "        self.s = increment(data.支持者数.values)\n",
    "        self.p_s = increment(data.完成百分比.values)\n",
    "        self.t_list = data.index\n",
    "        self.s_len= len(self.s)\n",
    "        self.bounds = [(-0.5, 0.5), (-1, 1), (np.sum(self.s), 10 * np.sum(self.s))]\n",
    "        self.ini_values = [0.05, 0.1,  1.5 * np.sum(self.s)]\n",
    "    \n",
    "    def non_cumm(self, x):\n",
    "        return [(x[i] - x[i-1]) if i >= 1 else x[0] for i in range(len(x))]\n",
    "    \n",
    "    def bass(self, params):  # 如果要使用其它模型，可以重新定义\n",
    "        p, q, m = params\n",
    "        a = np.array([1 - np.exp(-(p + q) * t) for t in self.t_list])\n",
    "        b = np.array([1 + q / p * np.exp(-(p + q) * t) for t in self.t_list])\n",
    "        diffu_cont = m * a / b\n",
    "\n",
    "#         adopt_cont = np.zeros_like(diffu_cont)  # 创建一个self.s_len长度的array\n",
    "#         adopt_cont[0] = diffu_cont[0]  # 初始采纳数\n",
    "#         for t in range(1, self.s_len):  # 非累积采纳数\n",
    "#             adopt_cont[t] = diffu_cont[t] - diffu_cont[t - 1]\n",
    "        adopt_cont = self.non_cumm(diffu_cont)\n",
    "        return pd.Series(adopt_cont, index=self.t_list)\n",
    "    \n",
    "    def mse(self, params):  # 定义适应度函数（mse）\n",
    "        a = self.bass(params)\n",
    "        sse = np.sum(np.square(self.s - a))\n",
    "        return np.sqrt(sse) / self.s_len  # 均方误\n",
    "\n",
    "    def r2(self, params):  # 求R2\n",
    "        f_act = self.bass(params)\n",
    "        tse = np.sum(np.square(self.s - f_act))\n",
    "        mean_y = np.mean(self.s)\n",
    "        ssl = np.sum(np.square(self.s - mean_y))\n",
    "        R_2 = (ssl - tse) / ssl\n",
    "        return R_2\n",
    "    \n",
    "    def solve(self):\n",
    "        try:\n",
    "            sol = minimize(self.mse, self.ini_values, bounds=self.bounds, method='SLSQP')\n",
    "            return {'mse': sol.fun, 'r2': self.r2(sol.x), 'p': sol.x[0], 'q': sol.x[1], 'm': int(sol.x[2])}\n",
    "        except Exception as E:\n",
    "            print(\"寻优失败\")\n",
    "            print(E)"
   ]
  },
  {
   "cell_type": "markdown",
   "metadata": {},
   "source": [
    "### 对单条众筹成功项目的数据处理"
   ]
  },
  {
   "cell_type": "code",
   "execution_count": null,
   "metadata": {},
   "outputs": [],
   "source": [
    "res_list = []\n",
    "for i, item in enumerate(project.find({\"状态\": '项目成功'})):\n",
    "    try:\n",
    "        data = prepare_data(item)\n",
    "#         s1 = increment(data.支持者数.values)\n",
    "#         s2 = increment(data.完成百分比.values)\n",
    "#         t_list = data.index\n",
    "        \n",
    "        eb = estim_bass(data)\n",
    "        a = eb.solve()\n",
    "        res_list.append([i, a])\n",
    "    except Exception as e:\n",
    "        print(i, e)"
   ]
  },
  {
   "cell_type": "code",
   "execution_count": null,
   "metadata": {},
   "outputs": [],
   "source": [
    "for i, a in res_list:\n",
    "    if a['r2'] > 0.8 and a['q'] > 0:\n",
    "        print(f\"{i}, {a['r2']:.4f}, {a['p']:.4f}, {a['q']:.4f}, {a['m']:.0f}\")"
   ]
  },
  {
   "cell_type": "code",
   "execution_count": null,
   "metadata": {},
   "outputs": [],
   "source": [
    "succ_projs = project.find({\"状态\": \"项目成功\"})\n",
    "item = succ_projs[1977]\n",
    "\n",
    "data = prepare_data(item)\n",
    "# s1 = increment(data.支持者数.values)\n",
    "# s2 = increment(data.完成百分比.values)\n",
    "# t_list = data.index\n",
    "\n",
    "eb = estim_bass(data)\n",
    "a = eb.solve()\n",
    "estimates = [a['p'], a['q'], a['m']]\n",
    "print(a)\n",
    "plt.scatter(t_list, s2, color=\"grey\", alpha=0.3)\n",
    "plt.plot(t_list, s2, lw=0.5, color=\"grey\", linestyle=\"--\")\n",
    "plt.plot(t_list, eb.bass(estimates), 'r-', lw=2)"
   ]
  },
  {
   "cell_type": "code",
   "execution_count": null,
   "metadata": {},
   "outputs": [],
   "source": [
    "eb.t_list = np.arange(1, 25)\n",
    "x = eb.bass([0.005, 0.2, 200])\n",
    "plt.plot(eb.t_list, x, 'ro--')"
   ]
  },
  {
   "cell_type": "code",
   "execution_count": null,
   "metadata": {},
   "outputs": [],
   "source": [
    "len(x)"
   ]
  },
  {
   "cell_type": "code",
   "execution_count": null,
   "metadata": {},
   "outputs": [],
   "source": [
    "def describe_plot(item):\n",
    "    start_time = item['状态变换时间1-2']\n",
    "    end_time = item['状态变换时间2-3']\n",
    "\n",
    "    print(f\"项目编号: {item['_id']}\\n项目名称: {item['项目名称']}\\n所属类别: {item['所属类别']}\\n公司名称: {item['公司名称']}\")\n",
    "    print(f\"\\n众筹期限: {item['众筹期限']}天\\n项目状态: {item['状态']}\")\n",
    "    print()\n",
    "    print(\"发起人页面:\", f\"http://z.jd.com/project/details/{item['_id']}.html\") \n",
    "    print(\"项目页面:\", f\"http://z.jd.com{item['发起人链接']}\")\n",
    "    print()\n",
    "    print('预热中:', item['状态变换时间0-1'].strftime('%Y{y}%m{m}%d{d} %H:%M:%S').format(y='年',m='月',d='日'), sep='\\t') \n",
    "    print('预热中->众筹中:', start_time.strftime('%Y{y}%m{m}%d{d} %H:%M:%S').format(y='年',m='月',d='日'), sep='\\t')\n",
    "    print('众筹中->众筹成功:', end_time.strftime('%Y{y}%m{m}%d{d} %H:%M:%S').format(y='年',m='月',d='日'), sep='\\t')\n",
    "    print('众筹中->项目成功:', item['状态变换时间3-4'].strftime('%Y{y}%m{m}%d{d} %H:%M:%S').format(y='年',m='月',d='日'), sep='\\t')\n",
    "\n",
    "    data = to_df(item)\n",
    "    day_data = transfer_to_day(data)\n",
    "    t_fund = day_data['筹集金额'][-1]\n",
    "    print()\n",
    "    print(\"众筹前的关注者数增长:\")\n",
    "    print(day_data[['关注数','点赞数']].loc[:start_time])\n",
    "\n",
    "    fig = plt.figure(figsize=(12, 9))\n",
    "    myfont = mpl.font_manager.FontProperties(fname=\"/Library/Fonts/Songti.ttc\")\n",
    "    mpl.rcParams['axes.unicode_minus'] = False\n",
    "    for i, col in enumerate(col_names, start=1):\n",
    "        ax = fig.add_subplot(3, 2, i)\n",
    "        ax.plot(day_data.index, increment(day_data[col]), 'r-', lw=0.5)\n",
    "        ax.scatter(day_data.index.values, increment(day_data[col].values), color='grey', alpha=0.5)\n",
    "        ax.set_ylabel(col, fontproperties=myfont, fontsize=16)\n",
    "        ax.set_xlim([day_data.index.values[0], day_data.index.values[-1]])\n",
    "        ax.axvline(start_time, color='green', linestyle='--', linewidth=0.5)\n",
    "        ax.axvline(end_time, color='red', linestyle='--', linewidth=0.5)\n",
    "        for tick in ax.get_xticklabels():\n",
    "            tick.set_rotation(30)\n",
    "\n",
    "        if i == 4:\n",
    "            ax.axhline(100, color='blue', linestyle='--', linewidth=0.5)\n",
    "\n",
    "        if i == 5:\n",
    "            ax.axhline(t_fund, color='blue', linestyle='--', linewidth=0.5)\n",
    "            ax.text(day_data.index.values[0], t_fund*0.8, f\"{t_fund}元\", fontproperties=myfont, fontsize=13, color='green')\n",
    "\n",
    "    fig.tight_layout()\n",
    "    return day_data"
   ]
  },
  {
   "cell_type": "code",
   "execution_count": null,
   "metadata": {},
   "outputs": [],
   "source": [
    "item = succ_projs[174]\n",
    "day_data = describe_plot(item)"
   ]
  },
  {
   "cell_type": "markdown",
   "metadata": {},
   "source": [
    "- 累积扩散图"
   ]
  },
  {
   "cell_type": "code",
   "execution_count": null,
   "metadata": {},
   "outputs": [],
   "source": [
    "fig = plt.figure(figsize=(12, 9))\n",
    "myfont = mpl.font_manager.FontProperties(fname=\"/Library/Fonts/Songti.ttc\")\n",
    "mpl.rcParams['axes.unicode_minus'] = False\n",
    "for i, col in enumerate(col_names, start=1):\n",
    "    ax = fig.add_subplot(3, 2, i)\n",
    "    ax.plot(day_data.index, day_data[col], 'r-')\n",
    "    ax.scatter(day_data.index.values, day_data[col].values, color='grey', alpha=0.5)\n",
    "    ax.set_ylabel(col, fontproperties=myfont, fontsize=16)\n",
    "    ax.set_xlim([day_data.index.values[0], day_data.index.values[-1]])\n",
    "    ax.axvline(start_time, color='green', linestyle='--', linewidth=0.5)\n",
    "    ax.axvline(end_time, color='red', linestyle='--', linewidth=0.5)\n",
    "    for tick in ax.get_xticklabels():\n",
    "        tick.set_rotation(45)\n",
    "    \n",
    "    if i == 4:\n",
    "        ax.axhline(100, color='blue', linestyle='--', linewidth=0.5)\n",
    "    \n",
    "    if i == 5:\n",
    "        ax.axhline(t_fund, color='blue', linestyle='--', linewidth=0.5)\n",
    "        ax.text(day_data.index.values[0], t_fund*0.8, f\"{t_fund}元\", fontproperties=myfont, fontsize=13, color='blue')\n",
    "        \n",
    "fig.tight_layout()"
   ]
  },
  {
   "cell_type": "markdown",
   "metadata": {},
   "source": [
    "- 评论数据处理：分别选取出众筹开始前后的评论"
   ]
  },
  {
   "cell_type": "code",
   "execution_count": null,
   "metadata": {},
   "outputs": [],
   "source": [
    "review = x['评论']['评论详细']\n",
    "list_review = sorted(review.items())\n",
    "\n",
    "strpTime = datetime.datetime.strptime  # 日期字符串转换为datetime对象\n",
    "before_items = [(strpTime(item[1]['创建时间'], \"%Y-%m-%d %H:%M:%S\"), item[1]['评论内容']) for item in list_review \n",
    "                if strpTime(item[1]['创建时间'], \"%Y-%m-%d %H:%M:%S\") <= start_time]\n",
    "after_items = [(strpTime(item[1]['创建时间'], \"%Y-%m-%d %H:%M:%S\"), item[1]['评论内容']) for item in list_review \n",
    "               if strpTime(item[1]['创建时间'], \"%Y-%m-%d %H:%M:%S\") > start_time]\n",
    "\n",
    "print(f'众筹开始前评论数量: {len(before_items)}\\n众筹开始后评论数量: {len(after_items)}')"
   ]
  },
  {
   "cell_type": "code",
   "execution_count": null,
   "metadata": {},
   "outputs": [],
   "source": [
    "for dt, item in after_items:\n",
    "    print(dt.date(), item)"
   ]
  },
  {
   "cell_type": "markdown",
   "metadata": {},
   "source": [
    "### 分析众筹成功项目"
   ]
  },
  {
   "cell_type": "code",
   "execution_count": null,
   "metadata": {},
   "outputs": [],
   "source": [
    "succ_project = project.find({'状态': '项目成功'})"
   ]
  },
  {
   "cell_type": "code",
   "execution_count": null,
   "metadata": {},
   "outputs": [],
   "source": [
    "print('预热中:', succ_project[1]['状态变换时间0-1'].strftime('%Y年%m月%d日 %H:%M:%S'), sep='\\t') \n",
    "print('预热中->众筹中:', succ_project[1]['状态变换时间1-2'].strftime('%Y年%m月%d日 %H:%M:%S'), sep='\\t')\n",
    "print('众筹中->众筹成功:', succ_project[1]['状态变换时间2-3'].strftime('%Y年%m月%d日 %H:%M:%S'), sep='\\t')\n",
    "print('众筹中->项目成功:', succ_project[1]['状态变换时间3-4'].strftime('%Y年%m月%d日 %H:%M:%S'), sep='\\t')"
   ]
  },
  {
   "cell_type": "markdown",
   "metadata": {
    "slideshow": {
     "slide_type": "-"
    }
   },
   "source": [
    "- 项目成功时间\n",
    "> 查看从众筹开始到众筹成功的时间分布。"
   ]
  },
  {
   "cell_type": "code",
   "execution_count": null,
   "metadata": {},
   "outputs": [],
   "source": [
    "def get_status():\n",
    "    \n",
    "    return"
   ]
  },
  {
   "cell_type": "code",
   "execution_count": null,
   "metadata": {},
   "outputs": [],
   "source": [
    "x = project.find_one({}).keys()"
   ]
  },
  {
   "cell_type": "code",
   "execution_count": null,
   "metadata": {},
   "outputs": [],
   "source": [
    "for d in sorted(list(x)):\n",
    "    print(d)"
   ]
  },
  {
   "cell_type": "code",
   "execution_count": null,
   "metadata": {},
   "outputs": [],
   "source": [
    "project.find_one({'状态': \"项目成功\"}, projection={\"项目动态信息\":0, \"各档基础信息\":0, \"各档动态信息\":0, \"评论\":0})"
   ]
  },
  {
   "cell_type": "code",
   "execution_count": null,
   "metadata": {},
   "outputs": [],
   "source": [
    "def to_df(item):\n",
    "    dyn_info = item['项目动态信息']\n",
    "    t_fund = item['目标金额']\n",
    "    start_t = item['状态变换时间1-2']  # 众筹开始时间\n",
    "    end_t = item['状态变换时间2-3']  # 众筹成功时间\n",
    "\n",
    "    # 去除重复\n",
    "    a1 = dyn_info[0]\n",
    "    records = {'更新时间':[], '支持者数':[], '关注数':[], '点赞数':[], '完成百分比':[], '筹集金额':[]}\n",
    "    for i, a2 in enumerate(dyn_info):\n",
    "        if a2[\"更新时间\"] != a1['更新时间']:\n",
    "            records['更新时间'].append(a2['更新时间'])\n",
    "            records['支持者数'].append(a2['支持者数'])\n",
    "            records['关注数'].append(a2['关注数'])\n",
    "            records['完成百分比'].append(a2['完成百分比'])\n",
    "            records['筹集金额'].append(a2['筹集金额'])\n",
    "            records['点赞数'].append(a2['点赞数'])\n",
    "            a1 = a2\n",
    "\n",
    "    # 绘图\n",
    "    col_names = ['关注数', '支持者数', '点赞数', '完成百分比', '筹集金额']\n",
    "    df = pd.DataFrame(records, index=records['更新时间'], columns=col_names)\n",
    "    return df"
   ]
  },
  {
   "cell_type": "code",
   "execution_count": null,
   "metadata": {
    "scrolled": true
   },
   "outputs": [],
   "source": [
    "def getTimeRange(df)\n",
    "    x = df[df.index > start_t]\n",
    "    y = x[x.完成百分比.values > 100]\n",
    "    d = x[:y.index[0]]\n",
    "    return d"
   ]
  },
  {
   "cell_type": "code",
   "execution_count": null,
   "metadata": {},
   "outputs": [],
   "source": [
    "from functools import partial\n",
    "\n",
    "def f(x, y, z):\n",
    "    return x + y + z\n",
    "\n",
    "g = partial(f, z=10)\n",
    "g(1,2)"
   ]
  },
  {
   "cell_type": "code",
   "execution_count": null,
   "metadata": {},
   "outputs": [],
   "source": [
    "g(x=1,y=2, z=3)"
   ]
  },
  {
   "cell_type": "code",
   "execution_count": null,
   "metadata": {},
   "outputs": [],
   "source": [
    "g"
   ]
  },
  {
   "cell_type": "code",
   "execution_count": null,
   "metadata": {},
   "outputs": [],
   "source": []
  }
 ],
 "metadata": {
  "kernelspec": {
   "display_name": "Python 3",
   "language": "python",
   "name": "python3"
  },
  "language_info": {
   "codemirror_mode": {
    "name": "ipython",
    "version": 3
   },
   "file_extension": ".py",
   "mimetype": "text/x-python",
   "name": "python",
   "nbconvert_exporter": "python",
   "pygments_lexer": "ipython3",
   "version": "3.7.3"
  }
 },
 "nbformat": 4,
 "nbformat_minor": 4
}
