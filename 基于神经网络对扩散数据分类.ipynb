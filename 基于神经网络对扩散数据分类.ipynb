{
 "cells": [
  {
   "cell_type": "markdown",
   "id": "b3122681-f6f5-4bd0-8709-08d539a66fc7",
   "metadata": {},
   "source": [
    "# 基于神经网络对扩散数据分类\n",
    "\n",
    "由不同的网络结构和采纳规则生成扩散曲线作为输入，然后以其对应的网络结构类别和决策规则作为输出"
   ]
  },
  {
   "cell_type": "code",
   "execution_count": null,
   "id": "17f896ce-1787-43c3-b1a9-424c93724adb",
   "metadata": {},
   "outputs": [],
   "source": [
    "%config InlineBackend.figure_formats = ['svg']\n",
    "%matplotlib inline\n",
    "import torch\n",
    "import torch.nn as nn\n",
    "import matplotlib.pyplot as plt\n",
    "import time"
   ]
  },
  {
   "cell_type": "code",
   "execution_count": null,
   "id": "50cf12d2-04a2-41ba-aa87-cd1f7375ee41",
   "metadata": {},
   "outputs": [],
   "source": [
    "class RnnModel(nn.Module):\n",
    "    def __init__(self, num_indepen, num_hiddens, num_depen):\n",
    "        super(RnnModel, self).__init__()\n",
    "        self.num_indepen = num_indepen\n",
    "        self.rnn = nn.GRU(input_size=self.num_indepen, hidden_size=num_hiddens, num_layers=1, batch_first=True)\n",
    "        self.hidden_size = self.rnn.hidden_size * (2 if self.rnn.bidirectional else 1) \n",
    "        self.linear = nn.Linear(self.hidden_size, num_depen)\n",
    "\n",
    "    def forward(self, inputs, state=None): # inputs: (batch, step, num_indepen)\n",
    "        Y, state = self.rnn(inputs, state)\n",
    "        Y = self.linear(Y)\n",
    "        return Y, state"
   ]
  }
 ],
 "metadata": {
  "kernelspec": {
   "display_name": "Python 3",
   "language": "python",
   "name": "python3"
  },
  "language_info": {
   "codemirror_mode": {
    "name": "ipython",
    "version": 3
   },
   "file_extension": ".py",
   "mimetype": "text/x-python",
   "name": "python",
   "nbconvert_exporter": "python",
   "pygments_lexer": "ipython3",
   "version": "3.9.2"
  }
 },
 "nbformat": 4,
 "nbformat_minor": 5
}
