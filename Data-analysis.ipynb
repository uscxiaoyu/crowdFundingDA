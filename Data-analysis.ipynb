{
 "cells": [
  {
   "cell_type": "code",
   "execution_count": 1,
   "metadata": {},
   "outputs": [],
   "source": [
    "%matplotlib inline\n",
    "import matplotlib.pyplot as plt\n",
    "import matplotlib as mpl\n",
    "import numpy as np\n",
    "import pandas as pd\n",
    "import datetime\n",
    "from pymongo import MongoClient"
   ]
  },
  {
   "cell_type": "code",
   "execution_count": 2,
   "metadata": {},
   "outputs": [],
   "source": [
    "client = MongoClient('localhost', 27017)\n",
    "db = client.moniter_crowdfunding\n",
    "project = db.projects\n",
    "f_project = db.failure_projects"
   ]
  },
  {
   "cell_type": "code",
   "execution_count": 3,
   "metadata": {},
   "outputs": [],
   "source": [
    "def increment(x):\n",
    "    return [(x[i] - x[i-1]) if i >= 1 else x[0] for i in range(len(x))]"
   ]
  },
  {
   "cell_type": "code",
   "execution_count": 4,
   "metadata": {},
   "outputs": [],
   "source": [
    "def description(item):\n",
    "    start_time = item['状态变换时间1-2']\n",
    "    end_time = item['状态变换时间2-3']\n",
    "\n",
    "    print(f\"项目编号: {item['_id']}\\n项目名称: {item['项目名称']}\\n所属类别: {item['所属类别']}\\n公司名称: {item['公司名称']}\")\n",
    "    print(f\"\\n众筹期限: {item['众筹期限']}\\n项目状态: {item['状态']}\")\n",
    "    print()\n",
    "    print(\"发起人页面:\", f\"http://z.jd.com/project/details/{item['_id']}.html\") \n",
    "    print(\"项目页面:\", f\"http://z.jd.com{item['发起人链接']}\")\n",
    "    print()\n",
    "    print('预热中:', item['状态变换时间0-1'].strftime('%Y年%m月%d日 %H:%M:%S'), sep='\\t') \n",
    "    print('预热中->众筹中:', start_time.strftime('%Y年%m月%d日 %H:%M:%S'), sep='\\t')\n",
    "    print('众筹中->众筹成功:', end_time.strftime('%Y年%m月%d日 %H:%M:%S'), sep='\\t')\n",
    "    print('众筹中->项目成功:', item['状态变换时间3-4'].strftime('%Y年%m月%d日 %H:%M:%S'), sep='\\t')"
   ]
  },
  {
   "cell_type": "code",
   "execution_count": 14,
   "metadata": {},
   "outputs": [],
   "source": [
    "def to_df(item):\n",
    "    dyn_info = item['项目动态信息']\n",
    "    t_fund = item['目标金额']\n",
    "    start_t = item['状态变换时间1-2']  # 众筹开始时间\n",
    "    end_t = item['状态变换时间2-3']  # 众筹成功时间\n",
    "    # 去除重复\n",
    "    a1 = dyn_info[0]\n",
    "    records = {'更新时间':[], '支持者数':[], '关注数':[], '点赞数':[], '完成百分比':[], '筹集金额':[]}\n",
    "    for i, a2 in enumerate(dyn_info):\n",
    "        if a2[\"更新时间\"] != a1['更新时间']:\n",
    "            records['更新时间'].append(a2['更新时间'])\n",
    "            records['支持者数'].append(a2['支持者数'])\n",
    "            records['关注数'].append(a2['关注数'])\n",
    "            records['完成百分比'].append(a2['完成百分比'])\n",
    "            records['筹集金额'].append(a2['筹集金额'])\n",
    "            records['点赞数'].append(a2['点赞数'])\n",
    "            a1 = a2\n",
    "    # 绘图\n",
    "    col_names = ['关注数', '支持者数', '点赞数', '完成百分比', '筹集金额']\n",
    "    df = pd.DataFrame(records, index=records['更新时间'], columns=col_names)\n",
    "    return df"
   ]
  },
  {
   "cell_type": "code",
   "execution_count": 16,
   "metadata": {},
   "outputs": [],
   "source": [
    "def getTimeRange(df, start_t):\n",
    "    x = df[df.index > start_t]\n",
    "    y = x[x.完成百分比.values > 100]\n",
    "    d = x[:y.index[0]]\n",
    "    return d"
   ]
  },
  {
   "cell_type": "code",
   "execution_count": 57,
   "metadata": {},
   "outputs": [],
   "source": [
    "def getStatus(projs):\n",
    "    intv_list = []\n",
    "    relative_intv_list = []\n",
    "    for i, item in enumerate(projs):\n",
    "        try:\n",
    "            start_t = item['状态变换时间1-2']  # 众筹开始时间\n",
    "            end_t = item['状态变换时间2-3']  # 众筹停止时间\n",
    "            df = to_df(item)\n",
    "            t_df = getTimeRange(df, start_t)\n",
    "            time_interval = (t_df.index[-1] - t_df.index[0]).to_pytimedelta().total_seconds()  # 转化为浮点数(秒)\n",
    "            tot_inteval = (end_t - start_t).total_seconds()\n",
    "            intv_list.append(time_interval)  \n",
    "            relative_intv_list.append(time_interval / tot_inteval)\n",
    "        except IndexError as e:\n",
    "            print(i, item['_id'], e)\n",
    "        except KeyError as k:\n",
    "            print(i, item['_id'], k)\n",
    "    return intv_list, relative_intv_list"
   ]
  },
  {
   "cell_type": "code",
   "execution_count": 50,
   "metadata": {},
   "outputs": [
    {
     "data": {
      "text/plain": [
       "Timedelta('20 days 00:00:00')"
      ]
     },
     "execution_count": 50,
     "metadata": {},
     "output_type": "execute_result"
    }
   ],
   "source": [
    "pd.Timestamp(\"2012-12-21\") - pd.Timestamp(\"2012-12-1\")"
   ]
  },
  {
   "cell_type": "code",
   "execution_count": 53,
   "metadata": {},
   "outputs": [
    {
     "data": {
      "text/plain": [
       "18000.0"
      ]
     },
     "execution_count": 53,
     "metadata": {},
     "output_type": "execute_result"
    }
   ],
   "source": [
    "pd.Timedelta('5:0:0').to_pytimedelta().total_seconds()"
   ]
  },
  {
   "cell_type": "code",
   "execution_count": 58,
   "metadata": {},
   "outputs": [
    {
     "name": "stdout",
     "output_type": "stream",
     "text": [
      "17 98168 index 0 is out of bounds for axis 0 with size 0\n",
      "38 100361 index 0 is out of bounds for axis 0 with size 0\n",
      "78 99138 '状态变换时间1-2'\n",
      "81 99802 index 0 is out of bounds for axis 0 with size 0\n",
      "89 100375 index 0 is out of bounds for axis 0 with size 0\n",
      "138 100128 index 0 is out of bounds for axis 0 with size 0\n",
      "162 100952 index 0 is out of bounds for axis 0 with size 0\n",
      "166 100224 index 0 is out of bounds for axis 0 with size 0\n",
      "186 100702 index 0 is out of bounds for axis 0 with size 0\n",
      "211 101202 index 0 is out of bounds for axis 0 with size 0\n",
      "222 94039 index 0 is out of bounds for axis 0 with size 0\n",
      "237 101006 index 0 is out of bounds for axis 0 with size 0\n",
      "242 101150 index 0 is out of bounds for axis 0 with size 0\n",
      "357 100551 index 0 is out of bounds for axis 0 with size 0\n",
      "373 101685 index 0 is out of bounds for axis 0 with size 0\n",
      "378 101886 index 0 is out of bounds for axis 0 with size 0\n",
      "380 102009 index 0 is out of bounds for axis 0 with size 0\n",
      "449 102106 index 0 is out of bounds for axis 0 with size 0\n",
      "457 101724 index 0 is out of bounds for axis 0 with size 0\n",
      "461 102273 index 0 is out of bounds for axis 0 with size 0\n",
      "463 102369 index 0 is out of bounds for axis 0 with size 0\n",
      "474 102543 index 0 is out of bounds for axis 0 with size 0\n",
      "489 102574 index 0 is out of bounds for axis 0 with size 0\n",
      "507 102504 index 0 is out of bounds for axis 0 with size 0\n",
      "519 101812 index 0 is out of bounds for axis 0 with size 0\n",
      "547 99899 index 0 is out of bounds for axis 0 with size 0\n",
      "549 102451 index 0 is out of bounds for axis 0 with size 0\n",
      "598 103154 index 0 is out of bounds for axis 0 with size 0\n",
      "607 103255 index 0 is out of bounds for axis 0 with size 0\n",
      "615 103205 index 0 is out of bounds for axis 0 with size 0\n",
      "648 103416 index 0 is out of bounds for axis 0 with size 0\n",
      "657 103385 index 0 is out of bounds for axis 0 with size 0\n",
      "662 103172 index 0 is out of bounds for axis 0 with size 0\n",
      "677 99937 index 0 is out of bounds for axis 0 with size 0\n",
      "688 103382 index 0 is out of bounds for axis 0 with size 0\n",
      "689 102815 index 0 is out of bounds for axis 0 with size 0\n",
      "690 103602 index 0 is out of bounds for axis 0 with size 0\n",
      "704 103707 index 0 is out of bounds for axis 0 with size 0\n",
      "752 102423 index 0 is out of bounds for axis 0 with size 0\n",
      "801 105224 index 0 is out of bounds for axis 0 with size 0\n",
      "802 105217 index 0 is out of bounds for axis 0 with size 0\n"
     ]
    }
   ],
   "source": [
    "projs = project.find({\"状态\": '项目成功'})\n",
    "status, relative_status = getStatus(projs)"
   ]
  },
  {
   "cell_type": "code",
   "execution_count": 124,
   "metadata": {},
   "outputs": [
    {
     "name": "stdout",
     "output_type": "stream",
     "text": [
      "absolute status: 1229939.52 pass 0.7 density\n",
      "relative status: 0.41489151960501763 pass 0.7 density\n"
     ]
    },
    {
     "data": {
      "image/png": "[encoded data removed]",
      "text/plain": [
       "<Figure size 864x432 with 2 Axes>"
      ]
     },
     "metadata": {
      "needs_background": "light"
     },
     "output_type": "display_data"
    }
   ],
   "source": [
    "num_bins = 50\n",
    "fig = plt.figure(figsize=(12, 6))\n",
    "title = ['absolute status', 'relative status']\n",
    "# the histogram of the data\n",
    "num = 0.7\n",
    "for i, x in enumerate([status, relative_status]):\n",
    "    ax =fig.add_subplot(1, 2, i+1)\n",
    "    n, bins, patches = ax.hist(x, num_bins, color='blue', alpha=0.5, density=1, cumulative=True)\n",
    "    idx = np.argwhere(n == n[n > num][0])[0][0]\n",
    "    print(f\"{title[i]}: {bins[idx]} pass {num} density\")\n",
    "    ax.set_xlabel('Smarts')\n",
    "    ax.set_ylabel('Probability density')\n",
    "    ax.axhline(num, color='red', linestyle='-', linewidth=1)\n",
    "    ax.axvline(bins[idx], color='red', linestyle='-', linewidth=2)\n",
    "    ax.text(bins[idx]*0.8, num + 0.05, f\"{num}\")\n",
    "\n",
    "# Tweak spacing to prevent clipping of ylabel\n",
    "fig.tight_layout()\n",
    "plt.show()"
   ]
  },
  {
   "cell_type": "code",
   "execution_count": 92,
   "metadata": {},
   "outputs": [
    {
     "data": {
      "text/plain": [
       "array([18.46850394])"
      ]
     },
     "execution_count": 92,
     "metadata": {},
     "output_type": "execute_result"
    }
   ],
   "source": [
    "accum_n[accum_n == half_n]"
   ]
  },
  {
   "cell_type": "code",
   "execution_count": null,
   "metadata": {},
   "outputs": [],
   "source": []
  }
 ],
 "metadata": {
  "kernelspec": {
   "display_name": "python37",
   "language": "python",
   "name": "python37"
  },
  "language_info": {
   "codemirror_mode": {
    "name": "ipython",
    "version": 3
   },
   "file_extension": ".py",
   "mimetype": "text/x-python",
   "name": "python",
   "nbconvert_exporter": "python",
   "pygments_lexer": "ipython3",
   "version": "3.7.0"
  }
 },
 "nbformat": 4,
 "nbformat_minor": 2
}
