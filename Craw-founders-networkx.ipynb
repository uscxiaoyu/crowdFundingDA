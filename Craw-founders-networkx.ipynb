{
 "cells": [
  {
   "cell_type": "code",
   "execution_count": 199,
   "metadata": {},
   "outputs": [],
   "source": [
    "%matplotlib inline\n",
    "from bs4 import BeautifulSoup\n",
    "from pymongo import MongoClient\n",
    "from bson import ObjectId\n",
    "import requests\n",
    "import datetime\n",
    "import ssl\n",
    "import re\n",
    "import time\n",
    "import json\n",
    "import random\n",
    "import pprint"
   ]
  },
  {
   "cell_type": "code",
   "execution_count": null,
   "metadata": {},
   "outputs": [],
   "source": [
    "ID_PATTERN = re.compile(\"id=(\\d+)\")"
   ]
  },
  {
   "cell_type": "code",
   "execution_count": 2,
   "metadata": {},
   "outputs": [],
   "source": [
    "ssl._create_default_https_context = ssl._create_unverified_context  # 全局取消网页安全验证"
   ]
  },
  {
   "cell_type": "code",
   "execution_count": 3,
   "metadata": {},
   "outputs": [],
   "source": [
    "client = MongoClient('localhost', 27017)\n",
    "db = client.moniter_crowdfunding\n",
    "db.authenticate(name=\"worker\", password=\"hard\", mechanism=\"SCRAM-SHA-1\")\n",
    "project = db.projects\n",
    "s_project = db.success_projects\n",
    "f_project = db.failure_projects\n",
    "p_founder = db.founders"
   ]
  },
  {
   "cell_type": "code",
   "execution_count": 82,
   "metadata": {},
   "outputs": [
    {
     "data": {
      "text/plain": [
       "{'_id': '100006',\n",
       " '支持项目': {},\n",
       " '关注项目': {'100006': {'prj_name': '升级保健发热腰带 健康撑腰',\n",
       "   'prj_desc': '自主品牌的升级型保健电热腰带秉承着“用心造，健康美”的理念研发及生产。我们为健康而来，\\r\\n致力于用随意的方式带给您和您家人健康的生活。',\n",
       "   'prj_href': '/project/details/100006.html'}},\n",
       " '发起项目': {'100006': {'prj_name': '升级保健发热腰带 健康撑腰',\n",
       "   'prj_desc': '自主品牌的升级型保健电热腰带秉承着“用心造，健康美”的理念研发及生产。我们为健康而来，\\r\\n致力于用随意的方式带给您和您家人健康的生活。',\n",
       "   'prj_href': '/project/details/100006.html'}}}"
      ]
     },
     "execution_count": 82,
     "metadata": {},
     "output_type": "execute_result"
    }
   ],
   "source": [
    "p_founder.find_one()"
   ]
  },
  {
   "cell_type": "code",
   "execution_count": 87,
   "metadata": {},
   "outputs": [
    {
     "data": {
      "text/plain": [
       "dict_values(['100010', '广州粤脉文化发展有限公司', '粤脉电商视觉设计'])"
      ]
     },
     "execution_count": 87,
     "metadata": {},
     "output_type": "execute_result"
    }
   ],
   "source": [
    "s_project.find_one({}, projection={'公司名称': 1, '发起人名称': 1}).values()"
   ]
  },
  {
   "cell_type": "markdown",
   "metadata": {},
   "source": [
    "## 一、单个项目发起人信息的获取"
   ]
  },
  {
   "cell_type": "code",
   "execution_count": 4,
   "metadata": {},
   "outputs": [],
   "source": [
    "item = project.find_one({'状态': '众筹成功'}, projection={'公司名称':1, '公司地址':1, '公司工作时间':1, \n",
    "                                                        '公司电话':1, '发起人名称':1, '发起人链接':1})"
   ]
  },
  {
   "cell_type": "code",
   "execution_count": 5,
   "metadata": {},
   "outputs": [],
   "source": [
    "prj_info = project.find_one({'_id':item['_id']}, \n",
    "                            projection={'状态':1, '所属类别':1, '项目名称':1, '众筹期限':1, '目标金额':1, '_id':0})"
   ]
  },
  {
   "cell_type": "code",
   "execution_count": 6,
   "metadata": {},
   "outputs": [
    {
     "data": {
      "text/plain": [
       "{'状态': '众筹成功',\n",
       " '众筹期限': 45,\n",
       " '所属类别': '健身装备',\n",
       " '目标金额': 100000,\n",
       " '项目名称': '格莱迪斯微电流智能减脂健腹仪'}"
      ]
     },
     "execution_count": 6,
     "metadata": {},
     "output_type": "execute_result"
    }
   ],
   "source": [
    "prj_info"
   ]
  },
  {
   "cell_type": "markdown",
   "metadata": {},
   "source": [
    "- Head信息"
   ]
  },
  {
   "cell_type": "code",
   "execution_count": 7,
   "metadata": {},
   "outputs": [],
   "source": [
    "User_Agent = 'Mozilla/5.0 (Macintosh; Intel Mac OS X 10.13; rv:60.0) Gecko/20100101 Firefox/60.0'\n",
    "Host = 'z.jd.com'"
   ]
  },
  {
   "cell_type": "markdown",
   "metadata": {},
   "source": [
    "- 获取网页内容"
   ]
  },
  {
   "cell_type": "code",
   "execution_count": 161,
   "metadata": {},
   "outputs": [],
   "source": [
    "def crawData(href, _id):\n",
    "    headers = {'Host': Host, \n",
    "               'User-Agent': User_Agent, \n",
    "               'Referer': f'http://z.jd.com/funderCenter.action?flag=2&id={_id}'}\n",
    "    r = requests.get(href + 'flag=2&id=' + _id)\n",
    "        \n",
    "    return r.text"
   ]
  },
  {
   "cell_type": "markdown",
   "metadata": {},
   "source": [
    "- 解析获取数据"
   ]
  },
  {
   "cell_type": "code",
   "execution_count": 9,
   "metadata": {},
   "outputs": [],
   "source": [
    "def soupData(raw):\n",
    "    h_soup = BeautifulSoup(raw, 'html.parser')\n",
    "    cat_div = h_soup.find('div', {'class': 'tab_cont db'})\n",
    "    p_d = re.compile('(\\d+)')\n",
    "    \n",
    "    c_dict = {}\n",
    "    if cat_div:\n",
    "        for x in cat_div.findAll('li'):\n",
    "            prj_href = str(x).split(\"'\")[1]\n",
    "            prj_id = p_d.findall(prj_href)[0]\n",
    "            c_dict[prj_id] = {'prj_name': x.p.string, 'prj_desc': x.a.string, 'prj_href': prj_href}\n",
    "        \n",
    "    return c_dict"
   ]
  },
  {
   "cell_type": "code",
   "execution_count": 200,
   "metadata": {
    "tags": []
   },
   "outputs": [
    {
     "name": "stdout",
     "output_type": "stream",
     "text": [
      "支持项目\n",
      "关注项目\n",
      "发起项目\n"
     ]
    }
   ],
   "source": [
    "item = {'_id': '107555'}\n",
    "hrefs = {'支持项目': 'http://z.jd.com/f/my_support.action?',\n",
    "         '关注项目': 'http://z.jd.com/f/my_focus.action?', \n",
    "         '发起项目': 'http://z.jd.com/f/my_project.action?'}\n",
    "\n",
    "for key in hrefs:\n",
    "    print(key)\n",
    "    raw = crawData(hrefs[key], item['_id'])\n",
    "    c_dict = soupData(raw)\n",
    "    item[key] = c_dict"
   ]
  },
  {
   "cell_type": "code",
   "execution_count": 201,
   "metadata": {},
   "outputs": [
    {
     "data": {
      "text/plain": [
       "{'_id': '107555',\n",
       " '支持项目': {'85305': {'prj_name': '「华夏匠心」木纹釉惊世之作',\n",
       "   'prj_desc': '徐志伟大师手造，灵感来源于感慨时光岁月，春去秋来。意在传承传统文化，推广中国传统手工艺制品。',\n",
       "   'prj_href': '/project/details/85305.html'},\n",
       "  '84512': {'prj_name': '传统手工铸铁壶大师升华之作',\n",
       "   'prj_desc': '匠人团队精工新作，传统失蜡法结合传统鎏金技艺打造“佛手托莲”铸铁壶，让您品味专属于您的壶韵。',\n",
       "   'prj_href': '/project/details/84512.html'}},\n",
       " '关注项目': {},\n",
       " '发起项目': {'118120': {'prj_name': '华匠左藏·蟹将军铁壶石繁手作',\n",
       "   'prj_desc': '六个月研发、三十版雕刻方案更迭、半分之十五浇筑成品率，废掉近千个手雕蜡模，只为一个国壶的夏天，蟹将军。支持国壶，让我们一起纵横四海。',\n",
       "   'prj_href': '/project/details/118120.html'},\n",
       "  '117100': {'prj_name': '华匠左藏·大雨游龙典藏砂铁壶',\n",
       "   'prj_desc': '华匠左藏联合关西铁瓶精工制作，大雨游龙，典藏砂铁壶，百年一壶，百味人生，以一把真正的好壶慰藉人生！',\n",
       "   'prj_href': '/project/details/117100.html'},\n",
       "  '113654': {'prj_name': '华匠左藏·绽金千朵莲禅意铁壶',\n",
       "   'prj_desc': '华匠经典托莲铁壶原班人马，臻高设计，巅峰重铸，禅意·绽金千朵莲原铁铁壶，正式上线！石繁大师历两年打磨，颠覆国壶设计，关西铁瓶制作方精工铸造，重磅回归！',\n",
       "   'prj_href': '/project/details/113654.html'},\n",
       "  '110901': {'prj_name': '华匠左藏·灰釉跳刀青瓷主人杯',\n",
       "   'prj_desc': '廖建军手作，青瓷设计金奖作品，灰釉跳刀青瓷主人杯。最具代表性的龙泉青瓷烧制技艺、精湛的跳刀纹技艺与现代创新设计理念相碰撞，唯愿以一只杯子诠释龙泉青瓷。',\n",
       "   'prj_href': '/project/details/110901.html'},\n",
       "  '110530': {'prj_name': '华匠左藏·大雨游龙典藏砂铁壶',\n",
       "   'prj_desc': '华匠左藏·大雨游龙典藏砂铁壶，关西铁瓶出口方精工制作，大雨游龙浮雨戏砂，一把可用百年的砂铁壶，新设计防溅漏智能伍德电陶炉，鬼面风炉，赠你一场真正茶事。',\n",
       "   'prj_href': '/project/details/110530.html'},\n",
       "  '107555': {'prj_name': '卖掉两家公司只为了一只碗',\n",
       "   'prj_desc': '华匠左藏x宋隐柴窑，一场火与泥的热恋，这一次我们要为大家传述一个逐梦宋盏的故事，一个在泥与火里诞生的毕生梦想。以吉祥五福宋盏，为大家祝福祈愿。',\n",
       "   'prj_href': '/project/details/107555.html'},\n",
       "  '107395': {'prj_name': '华匠左藏·小叶紫檀国粹印章 ',\n",
       "   'prj_desc': '精选小叶紫檀材料，狮钮、方章精细雕刻，五十年篆刻匠人，黄红心老人亲手篆刻。当帝王之木小叶紫檀遇上中国篆刻艺术，四种字体，两款造型，一人仅限一枚！',\n",
       "   'prj_href': '/project/details/107395.html'},\n",
       "  '105738': {'prj_name': '华匠·铸造一把经典中国铁壶',\n",
       "   'prj_desc': '京东众筹首现，佳节赠礼首选，铁壶经典手工重铸，鎏金版高浮雕龟鹤延年，贺福赠礼自用收藏，福利回馈大家一把特殊意义的铁壶。',\n",
       "   'prj_href': '/project/details/105738.html'}}}"
      ]
     },
     "execution_count": 201,
     "metadata": {},
     "output_type": "execute_result"
    }
   ],
   "source": [
    "item"
   ]
  },
  {
   "cell_type": "markdown",
   "metadata": {},
   "source": [
    "## 二、所有项目发起人*关注的项目、发起的项目和支持的项目*"
   ]
  },
  {
   "cell_type": "markdown",
   "metadata": {},
   "source": [
    "- 项目成功信息的id及对应公司信息"
   ]
  },
  {
   "cell_type": "code",
   "execution_count": 91,
   "metadata": {},
   "outputs": [],
   "source": [
    "success_ids = list([x['_id'] for x in s_project.find({'状态': \"项目成功\"}, projection={\"_id\": 1})])  # 项目成功信息ids"
   ]
  },
  {
   "cell_type": "code",
   "execution_count": 92,
   "metadata": {},
   "outputs": [],
   "source": [
    "success_infos = [list(s_project.find_one({\"_id\": _id}, projection={\"_id\": 1, '公司名称': 1, '发起人名称': 1}).values())\n",
    "                     for _id in success_ids]  # 项目成功信息ids"
   ]
  },
  {
   "cell_type": "markdown",
   "metadata": {},
   "source": [
    "- 失败项目的id及对应公司信息"
   ]
  },
  {
   "cell_type": "code",
   "execution_count": 66,
   "metadata": {},
   "outputs": [],
   "source": [
    "fail_ids = list(set(x['_id'] for x in f_project.find({}, projection={'_id':1}) if not isinstance(x['_id'], ObjectId)))  # 失败项目信息ids"
   ]
  },
  {
   "cell_type": "code",
   "execution_count": 94,
   "metadata": {},
   "outputs": [],
   "source": [
    "fail_infos = [list(f_project.find_one({\"_id\": _id}, projection={\"_id\": 1, '公司名称': 1, '发起人名称': 1}).values())\n",
    "                     for _id in fail_ids]"
   ]
  },
  {
   "cell_type": "code",
   "execution_count": 69,
   "metadata": {},
   "outputs": [],
   "source": [
    "fail_objectids = list(set(x['_id'] for x in f_project.find({}, projection={'_id':1}) if isinstance(x['_id'], ObjectId)))  # _id为ObjectId"
   ]
  },
  {
   "cell_type": "code",
   "execution_count": 74,
   "metadata": {
    "tags": []
   },
   "outputs": [],
   "source": [
    "trans_fail_ids = []\n",
    "for _id in fail_objectids:\n",
    "    x = f_project.find_one({'_id': _id}, projection={'_id':1, '详细信息._id':1})\n",
    "    trans_fail_ids.append(x['详细信息']['_id'])"
   ]
  },
  {
   "cell_type": "code",
   "execution_count": 95,
   "metadata": {},
   "outputs": [],
   "source": [
    "for _id in fail_objectids:\n",
    "    x = f_project.find_one({'_id': _id}, projection={'_id':1, '详细信息._id':1, '详细信息.公司名称': 1, '详细信息.发起人名称': 1})\n",
    "    fail_infos.append([x['详细信息']['_id'], x['详细信息']['公司名称'], x['详细信息']['发起人名称']])"
   ]
  },
  {
   "cell_type": "code",
   "execution_count": 102,
   "metadata": {},
   "outputs": [],
   "source": [
    "all_infos = success_infos + fail_infos"
   ]
  },
  {
   "cell_type": "code",
   "execution_count": 105,
   "metadata": {},
   "outputs": [],
   "source": [
    "company_project_dict = {}\n",
    "for x in all_infos:\n",
    "    if x[1] in company_project_dict:\n",
    "        company_project_dict[x[1]].append(x[0])\n",
    "    else:\n",
    "        company_project_dict[x[1]] = [x[0]]"
   ]
  },
  {
   "cell_type": "code",
   "execution_count": 108,
   "metadata": {},
   "outputs": [],
   "source": [
    "for key in company_project_dict:\n",
    "    company_project_dict[key] = list(set(company_project_dict[key]))"
   ]
  },
  {
   "cell_type": "code",
   "execution_count": 117,
   "metadata": {},
   "outputs": [
    {
     "data": {
      "text/plain": [
       "4836"
      ]
     },
     "execution_count": 117,
     "metadata": {},
     "output_type": "execute_result"
    }
   ],
   "source": [
    "len(company_project_dict)"
   ]
  },
  {
   "cell_type": "code",
   "execution_count": 76,
   "metadata": {},
   "outputs": [],
   "source": [
    "ids = success_ids + fail_ids + trans_fail_ids"
   ]
  },
  {
   "cell_type": "code",
   "execution_count": 116,
   "metadata": {},
   "outputs": [
    {
     "data": {
      "text/plain": [
       "['115263', '120294']"
      ]
     },
     "execution_count": 116,
     "metadata": {},
     "output_type": "execute_result"
    }
   ],
   "source": [
    "company_project_dict['贵州山珍宝绿色科技开发有限公司']"
   ]
  },
  {
   "cell_type": "code",
   "execution_count": 111,
   "metadata": {},
   "outputs": [
    {
     "data": {
      "text/plain": [
       "[['1823378321', '龙州香茗茶业有限责任公司', '广西龙州红江橙'],\n",
       " ['112470', '昆山丝倍奇纸业有限公司', 'sbile'],\n",
       " ['1825084992', '苏州德博电子有限公司', '德克赛弗'],\n",
       " ['121475', '贵州荣和烧坊酒业有限公司', '荣和烧坊酒'],\n",
       " ['108738', '广州世格汽车用品有限公司', 'ushige'],\n",
       " ['120843', '深圳市美华化妆用品有限公司', 'A135*****112'],\n",
       " ['120294', '贵州山珍宝绿色科技开发有限公司', 'szbgs168'],\n",
       " ['1819086027', '上海画乐宝文化传媒有限公司', '189*****202sf'],\n",
       " ['1821338389', '泉州易物宝进出口贸易有限公司', '易物宝进出口贸易'],\n",
       " ['112689', '东莞市雅弗莱家具有限公司', 'yafulai']]"
      ]
     },
     "execution_count": 111,
     "metadata": {},
     "output_type": "execute_result"
    }
   ],
   "source": [
    "fail_infos[:10]"
   ]
  },
  {
   "cell_type": "markdown",
   "metadata": {},
   "source": [
    "## 三、遍历所有项目发起人主页"
   ]
  },
  {
   "cell_type": "code",
   "execution_count": null,
   "metadata": {},
   "outputs": [],
   "source": [
    "item = {'_id': '83904'}\n",
    "hrefs = {'支持项目': 'http://z.jd.com/f/my_support.action?',\n",
    "         '关注项目': 'http://z.jd.com/f/my_focus.action?', \n",
    "         '发起项目': 'http://z.jd.com/f/my_project.action?'}\n",
    "\n",
    "for key in hrefs:\n",
    "    print(key)\n",
    "    raw = crawData(hrefs[key], item['_id'])\n",
    "    c_dict = soupData(raw)\n",
    "    item[key] = c_dict"
   ]
  },
  {
   "cell_type": "code",
   "execution_count": 173,
   "metadata": {
    "collapsed": true,
    "jupyter": {
     "outputs_hidden": true
    },
    "tags": []
   },
   "outputs": [
    {
     "name": "stdout",
     "output_type": "stream",
     "text": [
      "{'支持项目': [], '关注项目': [], '发起项目': ['101974', '100010', '96471', '95962', '66595', '65944', '65024', '63032']}\n",
      "{'支持项目': [], '关注项目': [], '发起项目': ['109768', '103666', '103627', '102905', '101201', '100649', '99271', '98354']}\n",
      "{'支持项目': ['101215'], '关注项目': [], '发起项目': []}\n",
      "{'支持项目': [], '关注项目': [], '发起项目': ['101890']}\n",
      "{'支持项目': [], '关注项目': [], '发起项目': ['110798', '107130', '105384', '102592']}\n",
      "{'支持项目': [], '关注项目': [], '发起项目': ['103389']}\n",
      "{'支持项目': [], '关注项目': [], '发起项目': ['1845209998', '1845209797', '1845209397', '1837547476', '1836854332', '1836592122', '121189', '120289']}\n",
      "{'支持项目': [], '关注项目': [], '发起项目': ['107328', '105342']}\n",
      "{'支持项目': [], '关注项目': [], '发起项目': ['106574']}\n",
      "{'支持项目': ['120248'], '关注项目': [], '发起项目': ['107804']}\n",
      "{'支持项目': ['108925', '69873', '64542'], '关注项目': [], '发起项目': ['108925']}\n",
      "{'支持项目': ['109887'], '关注项目': [], '发起项目': ['109887']}\n",
      "{'支持项目': ['111203'], '关注项目': [], '发起项目': ['111203']}\n",
      "{'支持项目': [], '关注项目': [], '发起项目': []}\n",
      "{'支持项目': [], '关注项目': [], '发起项目': ['113734']}\n",
      "{'支持项目': [], '关注项目': [], '发起项目': ['114938']}\n",
      "{'支持项目': [], '关注项目': [], '发起项目': ['115840']}\n",
      "{'支持项目': [], '关注项目': [], '发起项目': ['1818833250', '1817445779', '121302', '121299', '120250', '117863', '116803']}\n",
      "{'支持项目': [], '关注项目': [], '发起项目': ['117824']}\n",
      "{'支持项目': [], '关注项目': [], '发起项目': ['119339', '74968', '66360', '15685']}\n",
      "{'支持项目': [], '关注项目': [], '发起项目': ['120918']}\n",
      "{'支持项目': [], '关注项目': [], '发起项目': ['1818120307']}\n",
      "{'支持项目': [], '关注项目': [], '发起项目': ['1820051984']}\n",
      "{'支持项目': [], '关注项目': [], '发起项目': ['1822837525']}\n",
      "{'支持项目': [], '关注项目': [], '发起项目': ['1834563831', '1834458260', '1834140388', '1825882148']}\n",
      "{'支持项目': [], '关注项目': [], '发起项目': ['1836935151']}\n",
      "{'支持项目': [], '关注项目': [], '发起项目': ['121397']}\n",
      "{'支持项目': [], '关注项目': [], '发起项目': ['1821525139']}\n",
      "{'支持项目': [], '关注项目': [], '发起项目': ['1816541333']}\n",
      "{'支持项目': [], '关注项目': [], '发起项目': ['109988']}\n",
      "{'支持项目': [], '关注项目': [], '发起项目': ['1823573219']}\n",
      "{'支持项目': [], '关注项目': [], '发起项目': ['117355']}\n",
      "{'支持项目': [], '关注项目': [], '发起项目': ['119476']}\n",
      "{'支持项目': [], '关注项目': [], '发起项目': ['112680']}\n",
      "{'支持项目': [], '关注项目': [], '发起项目': ['1819283238']}\n",
      "{'支持项目': [], '关注项目': [], '发起项目': ['110767']}\n",
      "{'支持项目': [], '关注项目': [], '发起项目': ['1823477375']}\n",
      "{'支持项目': [], '关注项目': [], '发起项目': ['115370']}\n",
      "{'支持项目': [], '关注项目': [], '发起项目': ['1822059450']}\n",
      "{'支持项目': ['109900'], '关注项目': [], '发起项目': ['115239']}\n",
      "{'支持项目': [], '关注项目': [], '发起项目': ['1838282117', '1833402065', '1820692313']}\n",
      "{'支持项目': [], '关注项目': [], '发起项目': ['1841105885']}\n",
      "{'支持项目': [], '关注项目': [], '发起项目': ['119555']}\n",
      "('Connection aborted.', ConnectionResetError(104, 'Connection reset by peer'))\n",
      "('Connection aborted.', ConnectionResetError(104, 'Connection reset by peer'))\n",
      "('Connection aborted.', ConnectionResetError(104, 'Connection reset by peer'))\n",
      "('Connection aborted.', ConnectionResetError(104, 'Connection reset by peer'))\n",
      "('Connection aborted.', ConnectionResetError(104, 'Connection reset by peer'))\n",
      "('Connection aborted.', ConnectionResetError(104, 'Connection reset by peer'))\n",
      "('Connection aborted.', ConnectionResetError(104, 'Connection reset by peer'))\n",
      "('Connection aborted.', ConnectionResetError(104, 'Connection reset by peer'))\n",
      "('Connection aborted.', ConnectionResetError(104, 'Connection reset by peer'))\n",
      "('Connection aborted.', ConnectionResetError(104, 'Connection reset by peer'))\n",
      "('Connection aborted.', ConnectionResetError(104, 'Connection reset by peer'))\n",
      "('Connection aborted.', ConnectionResetError(104, 'Connection reset by peer'))\n",
      "('Connection aborted.', ConnectionResetError(104, 'Connection reset by peer'))\n",
      "('Connection aborted.', ConnectionResetError(104, 'Connection reset by peer'))\n",
      "('Connection aborted.', ConnectionResetError(104, 'Connection reset by peer'))\n",
      "('Connection aborted.', ConnectionResetError(104, 'Connection reset by peer'))\n",
      "('Connection aborted.', ConnectionResetError(104, 'Connection reset by peer'))\n",
      "('Connection aborted.', ConnectionResetError(104, 'Connection reset by peer'))\n",
      "('Connection aborted.', ConnectionResetError(104, 'Connection reset by peer'))\n",
      "('Connection aborted.', ConnectionResetError(104, 'Connection reset by peer'))\n",
      "('Connection aborted.', ConnectionResetError(104, 'Connection reset by peer'))\n",
      "('Connection aborted.', ConnectionResetError(104, 'Connection reset by peer'))\n",
      "('Connection aborted.', ConnectionResetError(104, 'Connection reset by peer'))\n",
      "('Connection aborted.', ConnectionResetError(104, 'Connection reset by peer'))\n",
      "('Connection aborted.', ConnectionResetError(104, 'Connection reset by peer'))\n",
      "('Connection aborted.', ConnectionResetError(104, 'Connection reset by peer'))\n",
      "('Connection aborted.', ConnectionResetError(104, 'Connection reset by peer'))\n",
      "('Connection aborted.', ConnectionResetError(104, 'Connection reset by peer'))\n",
      "{'支持项目': [], '关注项目': [], '发起项目': ['1823952535']}\n",
      "{'支持项目': [], '关注项目': [], '发起项目': ['107519']}\n",
      "{'支持项目': [], '关注项目': [], '发起项目': ['107140']}\n",
      "{'支持项目': [], '关注项目': [], '发起项目': ['108636']}\n",
      "{'支持项目': [], '关注项目': [], '发起项目': ['100006']}\n",
      "{'支持项目': ['94596', '93731', '92440'], '关注项目': [], '发起项目': ['102185']}\n"
     ]
    }
   ],
   "source": [
    "related_projects = {}\n",
    "i = 0\n",
    "for company in company_project_dict:\n",
    "    try:\n",
    "        _id = company_project_dict[company][0]\n",
    "        related_projects[company] = {}\n",
    "        for key in hrefs:\n",
    "            raw = crawData(hrefs[key], _id)\n",
    "            c_dict = soupData(raw)\n",
    "            related_projects[company][key] = list(c_dict)\n",
    "        if i % 100 == 0:\n",
    "            print(related_projects[company])\n",
    "        i += 1\n",
    "        time.sleep(0.1)\n",
    "    except Exception as e:\n",
    "        print(e)"
   ]
  },
  {
   "cell_type": "code",
   "execution_count": 176,
   "metadata": {},
   "outputs": [
    {
     "data": {
      "text/plain": [
       "set()"
      ]
     },
     "execution_count": 176,
     "metadata": {},
     "output_type": "execute_result"
    }
   ],
   "source": [
    "set(list(company_project_dict)) - set(list(related_projects))"
   ]
  },
  {
   "cell_type": "code",
   "execution_count": 195,
   "metadata": {},
   "outputs": [],
   "source": [
    "for c in company_project_dict:\n",
    "#     print({**related_projects[c], '在库项目': company_project_dict[c]})\n",
    "#     break\n",
    "    db.companies.insert_one({\"c_name\": c, '在库项目': company_project_dict[c], **related_projects[c]})"
   ]
  },
  {
   "cell_type": "code",
   "execution_count": 197,
   "metadata": {},
   "outputs": [
    {
     "data": {
      "text/plain": [
       "{'_id': ObjectId('6113e5d976430dab487cab13'),\n",
       " 'c_name': '广州粤脉文化发展有限公司',\n",
       " '在库项目': ['101974', '100010'],\n",
       " '支持项目': [],\n",
       " '关注项目': [],\n",
       " '发起项目': ['101974',\n",
       "  '100010',\n",
       "  '96471',\n",
       "  '95962',\n",
       "  '66595',\n",
       "  '65944',\n",
       "  '65024',\n",
       "  '63032']}"
      ]
     },
     "execution_count": 197,
     "metadata": {},
     "output_type": "execute_result"
    }
   ],
   "source": [
    "db.companies.find_one()"
   ]
  },
  {
   "cell_type": "code",
   "execution_count": 198,
   "metadata": {},
   "outputs": [
    {
     "data": {
      "text/plain": [
       "4836"
      ]
     },
     "execution_count": 198,
     "metadata": {},
     "output_type": "execute_result"
    }
   ],
   "source": [
    "db.companies.count_documents({})"
   ]
  },
  {
   "cell_type": "code",
   "execution_count": 188,
   "metadata": {},
   "outputs": [
    {
     "data": {
      "text/plain": [
       "4836"
      ]
     },
     "execution_count": 188,
     "metadata": {},
     "output_type": "execute_result"
    }
   ],
   "source": [
    "len(company_project_dict)"
   ]
  },
  {
   "cell_type": "code",
   "execution_count": 192,
   "metadata": {},
   "outputs": [
    {
     "name": "stdout",
     "output_type": "stream",
     "text": [
      "广州粤脉文化发展有限公司 {'支持项目': [], '关注项目': [], '发起项目': ['101974', '100010', '96471', '95962', '66595', '65944', '65024', '63032']}\n"
     ]
    }
   ],
   "source": [
    "for k in related_projects:\n",
    "    print(k, related_projects[k])\n",
    "    break"
   ]
  },
  {
   "cell_type": "code",
   "execution_count": 193,
   "metadata": {},
   "outputs": [
    {
     "data": {
      "text/plain": [
       "['101974', '100010']"
      ]
     },
     "execution_count": 193,
     "metadata": {},
     "output_type": "execute_result"
    }
   ],
   "source": [
    "company_project_dict['广州粤脉文化发展有限公司']"
   ]
  },
  {
   "cell_type": "code",
   "execution_count": 189,
   "metadata": {},
   "outputs": [
    {
     "data": {
      "text/plain": [
       "4836"
      ]
     },
     "execution_count": 189,
     "metadata": {},
     "output_type": "execute_result"
    }
   ],
   "source": [
    "len(related_projects)"
   ]
  },
  {
   "cell_type": "code",
   "execution_count": 183,
   "metadata": {
    "collapsed": true,
    "jupyter": {
     "outputs_hidden": true
    },
    "tags": []
   },
   "outputs": [
    {
     "name": "stdout",
     "output_type": "stream",
     "text": [
      "上海宸赞电子有限公司 '支持项目'\n",
      "中山市同城电子有限公司 '支持项目'\n",
      "厦门聚弘达电子商务有限公司 '支持项目'\n",
      "深圳市海仕格科技有限公司 '支持项目'\n",
      "北京小睿科技有限公司 '支持项目'\n",
      "西安亲仁康生物技术有限公司 '支持项目'\n",
      "深圳市舜宝科技有限公司 '支持项目'\n",
      "上海融黎生物科技有限公司 '支持项目'\n",
      "深圳市谷云网络科技有限公司 '支持项目'\n",
      "深圳前海龙兴科技有限公司 '支持项目'\n",
      "深圳益爽科技有限公司 '支持项目'\n",
      "深圳诚信汇投资咨询有限公司 '支持项目'\n",
      "深圳市杰豪实业有限公司 '支持项目'\n",
      "河南伊茜格特电子科技有限公司 '支持项目'\n",
      "深圳龙舞科技创新有限公司 '支持项目'\n",
      "广东云端电子商务有限公司 '支持项目'\n",
      "深圳市樱桃电子商务有限公司 '支持项目'\n",
      "深圳市沙漠甘泉科技有限责任公司 '支持项目'\n",
      "杭州若奇技术有限公司 '支持项目'\n",
      "深圳市康柏特科技开发有限公司 '支持项目'\n",
      "成都天艺禾文阿思服饰有限公司 '支持项目'\n",
      "江苏莎恩科技有限公司 '支持项目'\n",
      "深圳市云柯达科技有限公司 '支持项目'\n",
      "广东宝爵新材料实业有限公司 '支持项目'\n",
      "佑象科技（深圳）有限公司 '支持项目'\n",
      "深圳市微开科技有限公司 '支持项目'\n",
      "烟台农禅谷生态农业发展有限公司 '支持项目'\n",
      "深圳市维特威普科技有限公司 '支持项目'\n",
      "北京凯玛电子科技有限公司 '支持项目'\n",
      "深圳市菲莫新创科技有限公司 '支持项目'\n",
      "深圳市同进共赢科技有限公司 '支持项目'\n",
      "维恩泰合（北京）科技有限公司 '支持项目'\n",
      "深圳宜歌一品科技有限公司 '支持项目'\n",
      "辽宁向上科技有限公司 '支持项目'\n",
      "深圳市乐享雾芯科技有限公司 '支持项目'\n",
      "苏州匹利商贸有限公司 '支持项目'\n",
      "北京黎明星科技有限公司 '支持项目'\n",
      "贵州省仁怀市正鸿酒业有限公司 '支持项目'\n",
      "四川狄记酒庄有限公司 '支持项目'\n",
      "拾趣（北京）科技有限公司 '支持项目'\n",
      "寰西(广州)贸易有限公司 '支持项目'\n",
      "北京四海田园农副产品加工有限责任公司 '支持项目'\n",
      "农品汇国际商业连锁有限公司 '支持项目'\n",
      "深圳隽和家居用品科技有限公司 '支持项目'\n",
      "山西汇德电子商务科技有限公司 '支持项目'\n",
      "佛山市易区热能科技有限公司 '支持项目'\n",
      "深圳市全息调频医疗器械有限公司 '支持项目'\n",
      "烟台市金美瑞家具有限公司 '支持项目'\n",
      "会昌县右水冬菜食品有限公司 '支持项目'\n",
      "深圳前海融丰鼎弘投资有限公司 '支持项目'\n",
      "湖北渺积科技有限公司 '支持项目'\n",
      "西安糯章酒业有限公司 '支持项目'\n",
      "横峰县宏晟种养专业合作社 '支持项目'\n",
      "深圳市美商美家科技有限公司 '支持项目'\n",
      "深圳市小秋家电有限公司 '支持项目'\n",
      "深圳市冠渝医药科技有限公司 '支持项目'\n",
      "北京山水佳园文化发展有限公司 '支持项目'\n",
      "备当克（上海）体育发展有限公司 '支持项目'\n",
      "仁水醇酒业(深圳)有限公司 '支持项目'\n",
      "清佳籼珠宝（威海）有限公司 '支持项目'\n",
      "山东凯信达工贸有限公司 '支持项目'\n",
      "广州猴子谷酒业有限公司 '支持项目'\n",
      "深圳华众联智贸易有限公司 '支持项目'\n",
      "北美司工业（深圳）有限公司 '支持项目'\n",
      "深圳市森垚科技有限公司 '支持项目'\n",
      "江西嘉鑫商贸发展有限公司 '支持项目'\n",
      "云南菜人家食品有限公司 '支持项目'\n",
      "深圳市基米亚科技有限公司 '支持项目'\n",
      "百家汇跨境电商（深圳）有限公司 '支持项目'\n",
      "常州纳普泰电子科技有限公司 '支持项目'\n",
      "上海迈购网络科技有限公司 '支持项目'\n",
      "厨兮电子商务（天津）有限公司 '支持项目'\n",
      "泛音电动工具（太仓）有限公司 '支持项目'\n",
      "东莞市三宝实业投资有限公司 '支持项目'\n",
      "路晟（上海）科技有限公司 '支持项目'\n",
      "铜仁市龙达化妆品科技有限公司 '支持项目'\n",
      "绿岛生物科技（广州）有限责任公司 '支持项目'\n",
      "天津静象空间文化传播有限责任公司 '支持项目'\n",
      "湖北爱康生物科技有限公司 '支持项目'\n",
      "西安小喵信息科技有限公司 '支持项目'\n",
      "深圳市雾霸科技有限公司 '支持项目'\n",
      "深圳市万雾生科技有限公司 '支持项目'\n",
      "多善科技（深圳）有限公司 '支持项目'\n",
      "上海晶合光电科技有限公司 '支持项目'\n",
      "亦城阳光（北京）商业有限公司 '支持项目'\n",
      "广州市营梓贸易有限公司 '支持项目'\n",
      "宿迁彩蛋科技有限公司 '支持项目'\n",
      "佛山市合呈量子科技有限公司 '支持项目'\n",
      "太仓市恒兴工艺品有限公司 '支持项目'\n",
      "南京牧狼文化传媒有限公司 '支持项目'\n",
      "上海淮品实业有限公司 '支持项目'\n",
      "深圳市康汇酒店休闲用品有限公司 '支持项目'\n",
      "广州高品天然食品有限公司 '支持项目'\n",
      "青岛瑞易特科技有限公司 '支持项目'\n",
      "大连柏易科技有限公司 '支持项目'\n",
      "深圳索纳斯科技有限公司 '支持项目'\n",
      "北京丰赢超迈科技发展有限公司 '支持项目'\n",
      "浙江拿宝文化传播有限公司 '支持项目'\n",
      "苏州靓因子生物技术有限公司 '支持项目'\n",
      "舒福德智能科技（杭州）有限公司 '支持项目'\n",
      "剑阁县鸿瑞环境设备开发有限公司\n"
     ]
    }
   ],
   "source": [
    "for k in related_projects:\n",
    "    try:\n",
    "        if not related_projects[k]['支持项目'] and not related_projects[k]['关注项目'] and not related_projects[k]['发起项目']:\n",
    "            print(k)\n",
    "            _id = company_project_dict[k][0]\n",
    "            related_projects[k] = {}\n",
    "            for key in hrefs:\n",
    "                raw = crawData(hrefs[key], _id)\n",
    "                c_dict = soupData(raw)\n",
    "                related_projects[company][key] = list(c_dict)\n",
    "            time.sleep(0.1)\n",
    "    except Exception as e:\n",
    "        print(k, e)\n",
    "        _id = company_project_dict[k][0]\n",
    "        related_projects[k] = {}\n",
    "        for key in hrefs:\n",
    "            raw = crawData(hrefs[key], _id)\n",
    "            c_dict = soupData(raw)\n",
    "            related_projects[company][key] = list(c_dict)\n",
    "        time.sleep(0.1)"
   ]
  },
  {
   "cell_type": "markdown",
   "metadata": {},
   "source": [
    "- 插入1个文档"
   ]
  },
  {
   "cell_type": "code",
   "execution_count": 16,
   "metadata": {},
   "outputs": [],
   "source": [
    "def insert_data(p_id):\n",
    "    item = {'_id': p_id}\n",
    "    try:\n",
    "        for key in hrefs:\n",
    "            raw = crawData(hrefs[key], item['_id'])\n",
    "            c_dict = soupData(raw)\n",
    "            item[key] = c_dict\n",
    "        p_founder.insert_one(item)\n",
    "        return 1\n",
    "    except Exception as e:\n",
    "        print(f\"{p_id}插入失败!错误提示:{e}\")\n",
    "        return 0"
   ]
  },
  {
   "cell_type": "markdown",
   "metadata": {},
   "source": [
    "- 插入多个文档"
   ]
  },
  {
   "cell_type": "code",
   "execution_count": 17,
   "metadata": {},
   "outputs": [],
   "source": [
    "def insert_dataset(p_ids):\n",
    "    inserted, notInserted = [], []\n",
    "    for p_id in p_ids:\n",
    "        if insert_data(p_id):\n",
    "            inserted.append(p_id)\n",
    "        else:\n",
    "            notInserted.append(p_id)\n",
    "            \n",
    "    return inserted, notInserted"
   ]
  },
  {
   "cell_type": "markdown",
   "metadata": {},
   "source": [
    "- 计算新生成的id"
   ]
  },
  {
   "cell_type": "code",
   "execution_count": 18,
   "metadata": {},
   "outputs": [],
   "source": [
    "def get_newIDs(p_founder=p_founder):\n",
    "    now_ids = []\n",
    "    new_res = []\n",
    "    for x in p_founder.find({}):\n",
    "        temp = list(x['支持项目'].keys()) + list(x['关注项目'].keys()) + list(x['发起项目'].keys())\n",
    "        now_ids.append(x['_id'])\n",
    "        new_res.extend(temp)\n",
    "        \n",
    "    return set(new_res) - set(now_ids)"
   ]
  },
  {
   "cell_type": "markdown",
   "metadata": {},
   "source": [
    "- 循环爬取数据"
   ]
  },
  {
   "cell_type": "code",
   "execution_count": 19,
   "metadata": {},
   "outputs": [
    {
     "name": "stdout",
     "output_type": "stream",
     "text": [
      "第1轮\n"
     ]
    }
   ],
   "source": [
    "j = 1\n",
    "while True:\n",
    "    time.sleep(10)\n",
    "    print(f\"第{j}轮\")\n",
    "    newIDs = get_newIDs()\n",
    "    if newIDs:\n",
    "        inserted, notinserted = insert_dataset(newIDs)\n",
    "        j += 1\n",
    "    else:\n",
    "        break"
   ]
  },
  {
   "cell_type": "code",
   "execution_count": 315,
   "metadata": {},
   "outputs": [
    {
     "data": {
      "text/plain": [
       "6413"
      ]
     },
     "execution_count": 315,
     "metadata": {},
     "output_type": "execute_result"
    }
   ],
   "source": [
    "p_founder.count_documents({})"
   ]
  }
 ],
 "metadata": {
  "kernelspec": {
   "display_name": "Python 3",
   "language": "python",
   "name": "python3"
  },
  "language_info": {
   "codemirror_mode": {
    "name": "ipython",
    "version": 3
   },
   "file_extension": ".py",
   "mimetype": "text/x-python",
   "name": "python",
   "nbconvert_exporter": "python",
   "pygments_lexer": "ipython3",
   "version": "3.8.1"
  }
 },
 "nbformat": 4,
 "nbformat_minor": 4
}
