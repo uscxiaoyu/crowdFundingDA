{
 "cells": [
  {
   "cell_type": "code",
   "execution_count": 13,
   "metadata": {},
   "outputs": [],
   "source": [
    "%matplotlib inline\n",
    "from urllib import request, parse\n",
    "from bs4 import BeautifulSoup\n",
    "from pymongo import MongoClient\n",
    "import datetime\n",
    "import ssl\n",
    "import re\n",
    "import time\n",
    "import json\n",
    "import random\n",
    "import pprint"
   ]
  },
  {
   "cell_type": "code",
   "execution_count": 18,
   "metadata": {},
   "outputs": [],
   "source": [
    "ssl._create_default_https_context = ssl._create_unverified_context  # 全局取消网页安全验证"
   ]
  },
  {
   "cell_type": "code",
   "execution_count": 2,
   "metadata": {},
   "outputs": [],
   "source": [
    "client = MongoClient('localhost', 27017)\n",
    "db = client.moniter_crowdfunding\n",
    "project = db.projects\n",
    "f_project = db.failure_projects"
   ]
  },
  {
   "cell_type": "code",
   "execution_count": 3,
   "metadata": {},
   "outputs": [],
   "source": [
    "p_founder = db.founders"
   ]
  },
  {
   "cell_type": "markdown",
   "metadata": {},
   "source": [
    "## 单个项目"
   ]
  },
  {
   "cell_type": "code",
   "execution_count": 165,
   "metadata": {},
   "outputs": [],
   "source": [
    "item = project.find_one({'状态': '众筹成功'}, projection={'公司名称':1, '公司地址':1, '公司工作时间':1, \n",
    "                                                        '公司电话':1, '发起人名称':1, '发起人链接':1})"
   ]
  },
  {
   "cell_type": "code",
   "execution_count": 166,
   "metadata": {},
   "outputs": [],
   "source": [
    "prj_info = project.find_one({'_id':item['_id']}, \n",
    "                            projection={'状态':1, '所属类别':1, '项目名称':1, '众筹期限':1, '目标金额':1, '_id':0})"
   ]
  },
  {
   "cell_type": "markdown",
   "metadata": {},
   "source": [
    "- Head信息"
   ]
  },
  {
   "cell_type": "code",
   "execution_count": 167,
   "metadata": {},
   "outputs": [],
   "source": [
    "User_Agent = 'Mozilla/5.0 (Macintosh; Intel Mac OS X 10.13; rv:60.0) Gecko/20100101 Firefox/60.0'\n",
    "Host = 'z.jd.com'\n",
    "craw_time = datetime.datetime.now()"
   ]
  },
  {
   "cell_type": "markdown",
   "metadata": {},
   "source": [
    "- 获取网页内容"
   ]
  },
  {
   "cell_type": "code",
   "execution_count": 168,
   "metadata": {},
   "outputs": [],
   "source": [
    "def crawData(href, _id):\n",
    "    post_data = parse.urlencode({\"flag\":\"2\", \"id\":_id})\n",
    "    req = request.Request(href)\n",
    "    req.add_header('User-Agent', User_Agent)\n",
    "    req.add_header('Referer', f'http://z.jd.com/funderCenter.action?{post_data}')\n",
    "    req.add_header('Host', Host)\n",
    "    with request.urlopen(req, data=post_data.encode('utf-8')) as f:\n",
    "        raw_html = f.read().decode()\n",
    "        \n",
    "    return raw_html"
   ]
  },
  {
   "cell_type": "markdown",
   "metadata": {},
   "source": [
    "- 解析获取数据"
   ]
  },
  {
   "cell_type": "code",
   "execution_count": 199,
   "metadata": {},
   "outputs": [],
   "source": [
    "def soupData(raw):\n",
    "    h_soup = BeautifulSoup(raw, 'html.parser')\n",
    "    cat_div = h_soup.find('div', {'class': 'tab_cont db'})\n",
    "    p_d = re.compile('(\\d+)')\n",
    "    \n",
    "    c_dict = {}\n",
    "    if cat_div:\n",
    "        for x in cat_div.findAll('li'):\n",
    "            prj_href = str(x).split(\"'\")[1]\n",
    "            prj_id = p_d.findall(prj_href)[0]\n",
    "            c_dict[prj_id] = {'prj_name': x.p.string, 'prj_desc': x.a.string, 'prj_href': prj_href}\n",
    "        \n",
    "    return c_dict"
   ]
  },
  {
   "cell_type": "code",
   "execution_count": 200,
   "metadata": {},
   "outputs": [
    {
     "name": "stdout",
     "output_type": "stream",
     "text": [
      "支持项目\n",
      "关注项目\n",
      "发起项目\n"
     ]
    }
   ],
   "source": [
    "item = {'_id': '83904'}\n",
    "hrefs = {'支持项目': 'http://z.jd.com/f/my_support.action?',\n",
    "         '关注项目': 'http://z.jd.com/f/my_focus.action?', \n",
    "         '发起项目': 'http://z.jd.com/f/my_project.action?'}\n",
    "\n",
    "for key in hrefs:\n",
    "    print(key)\n",
    "    raw = crawData(hrefs[key], item['_id'])\n",
    "    c_dict = soupData(raw)\n",
    "    item[key] = c_dict"
   ]
  },
  {
   "cell_type": "code",
   "execution_count": 201,
   "metadata": {},
   "outputs": [
    {
     "data": {
      "text/plain": [
       "{'_id': '83904',\n",
       " '支持项目': {},\n",
       " '关注项目': {'83904': {'prj_name': '小牙兽-防龋齿智能幼教牙刷',\n",
       "   'prj_desc': '一支乳牙期儿童智能牙刷，容纳了怎样的智能？巴氏刷牙法口腔游戏教程+儿童的专属口腔银行+您身边的牙医绿色通道，让儿童自动养成快乐自律的口腔护理习惯',\n",
       "   'prj_href': '/project/details/83904.html'}},\n",
       " '发起项目': {'83904': {'prj_name': '小牙兽-防龋齿智能幼教牙刷',\n",
       "   'prj_desc': '一支乳牙期儿童智能牙刷，容纳了怎样的智能？巴氏刷牙法口腔游戏教程+儿童的专属口腔银行+您身边的牙医绿色通道，让儿童自动养成快乐自律的口腔护理习惯',\n",
       "   'prj_href': '/project/details/83904.html'}}}"
      ]
     },
     "execution_count": 201,
     "metadata": {},
     "output_type": "execute_result"
    }
   ],
   "source": [
    "item"
   ]
  },
  {
   "cell_type": "markdown",
   "metadata": {},
   "source": [
    "## 查看所有项目发起人的主页"
   ]
  },
  {
   "cell_type": "code",
   "execution_count": 218,
   "metadata": {},
   "outputs": [],
   "source": [
    "from bson import ObjectId"
   ]
  },
  {
   "cell_type": "markdown",
   "metadata": {},
   "source": [
    "- 初始化: 读取其它数据集中已有的id "
   ]
  },
  {
   "cell_type": "code",
   "execution_count": 328,
   "metadata": {},
   "outputs": [],
   "source": [
    "def checkOtherCols():\n",
    "        suc_ids = list(set(x['_id'] for x in project.find({}, projection={'_id':1})))\n",
    "        for p_id in suc_ids[::-1]:\n",
    "            if isinstance(p_id, ObjectId):\n",
    "                print(f\"success {p_id}\")\n",
    "                t_id = project.find_one({\"_id\":p_id}, projection={'项目编号':1})\n",
    "                suc_ids.remove(p_id)\n",
    "                suc_ids.append(t_id['项目编号'])\n",
    "        \n",
    "        fail_ids = list(set(x['详细信息']['_id'] for x in f_project.find({}, projection={'详细信息._id':1})))\n",
    "        for p_id in fail_ids[::-1]:  # 将_id为ObjectID类型的替换为项目编号\n",
    "            if isinstance(p_id, ObjectId):\n",
    "                print(f\"failure {p_id}\")\n",
    "                t_id = f_project.find_one({\"详细信息._id\":p_id}, projection={\"详细信息.项目编号\":1})\n",
    "                fail_ids.remove(p_id)\n",
    "                fail_ids.append(t_id[\"详细信息\"][\"项目编号\"])\n",
    "                \n",
    "        return set(suc_ids) | set(fail_ids)"
   ]
  },
  {
   "cell_type": "code",
   "execution_count": 329,
   "metadata": {},
   "outputs": [
    {
     "name": "stdout",
     "output_type": "stream",
     "text": [
      "success 5af292a738ea07432da62d98\n",
      "success 5af292a738ea07432da62d93\n",
      "success 5aeb00d458abe024f8d01956\n",
      "success 5af292a738ea07432da62d95\n",
      "success 5af292a738ea07432da62d9a\n",
      "success 5af292a638ea07432da62d91\n",
      "success 5af292a738ea07432da62d99\n",
      "success 5af292a638ea07432da62d90\n",
      "success 5af292a738ea07432da62d94\n",
      "success 5af292a738ea07432da62d97\n",
      "success 5af292a738ea07432da62d92\n"
     ]
    }
   ],
   "source": [
    "ids = checkOtherCols()"
   ]
  },
  {
   "cell_type": "code",
   "execution_count": 301,
   "metadata": {},
   "outputs": [
    {
     "name": "stdout",
     "output_type": "stream",
     "text": [
      "5af292a738ea07432da62d9a\n",
      "5af292a738ea07432da62d99\n",
      "5af292a738ea07432da62d98\n",
      "5af292a738ea07432da62d97\n",
      "5aeb00d458abe024f8d01956\n",
      "5af292a738ea07432da62d95\n",
      "5af292a738ea07432da62d94\n",
      "5af292a738ea07432da62d93\n",
      "5af292a738ea07432da62d92\n",
      "5af292a638ea07432da62d91\n",
      "5af292a638ea07432da62d90\n"
     ]
    }
   ],
   "source": [
    "suc_ids = [x['_id'] for x in project.find({}, projection={'_id':1})]\n",
    "fail_ids = [x['详细信息']['_id'] for x in f_project.find({}, projection={'详细信息._id':1})]\n",
    "ids = suc_ids + fail_ids\n",
    "\n",
    "for p_id in ids[::-1]:  # 将_id为ObjectID类型的替换为项目编号\n",
    "    if isinstance(p_id, ObjectId):\n",
    "        print(p_id)\n",
    "        t_id = project.find_one({\"_id\":p_id}, projection={'项目编号':1})\n",
    "        ids.remove(p_id)\n",
    "        ids.append(t_id['项目编号'])"
   ]
  },
  {
   "cell_type": "code",
   "execution_count": 302,
   "metadata": {},
   "outputs": [],
   "source": [
    "ids = set(ids)\n",
    "hrefs = {'支持项目': 'http://z.jd.com/f/my_support.action?',\n",
    "        '关注项目': 'http://z.jd.com/f/my_focus.action?', \n",
    "        '发起项目': 'http://z.jd.com/f/my_project.action?'}"
   ]
  },
  {
   "cell_type": "markdown",
   "metadata": {},
   "source": [
    "- 插入1个文档"
   ]
  },
  {
   "cell_type": "code",
   "execution_count": 308,
   "metadata": {},
   "outputs": [],
   "source": [
    "def insert_data(p_id):\n",
    "    item = {'_id': p_id}\n",
    "    try:\n",
    "        for key in hrefs:\n",
    "            raw = crawData(hrefs[key], item['_id'])\n",
    "            c_dict = soupData(raw)\n",
    "            item[key] = c_dict\n",
    "        p_founder.insert_one(item)\n",
    "        return 1\n",
    "    except Exception as e:\n",
    "        print(f\"{p_id}插入失败!错误提示:{e}\")\n",
    "        return 0"
   ]
  },
  {
   "cell_type": "markdown",
   "metadata": {},
   "source": [
    "- 插入多个文档"
   ]
  },
  {
   "cell_type": "code",
   "execution_count": 316,
   "metadata": {},
   "outputs": [],
   "source": [
    "def insert_dataset(p_ids):\n",
    "    inserted, notInserted = [], []\n",
    "    for p_id in p_ids:\n",
    "        if insert_data(p_id):\n",
    "            inserted.append(p_id)\n",
    "        else:\n",
    "            notInserted.append(p_id)\n",
    "            \n",
    "    return inserted, notInserted"
   ]
  },
  {
   "cell_type": "markdown",
   "metadata": {},
   "source": [
    "- 计算新生成的id"
   ]
  },
  {
   "cell_type": "code",
   "execution_count": 305,
   "metadata": {},
   "outputs": [],
   "source": [
    "def get_newIDs(p_founder=p_founder):\n",
    "    now_ids = []\n",
    "    new_res = []\n",
    "    for x in p_founder.find({}):\n",
    "        temp = list(x['支持项目'].keys()) + list(x['关注项目'].keys()) + list(x['发起项目'].keys())\n",
    "        now_ids.append(x['_id'])\n",
    "        new_res.extend(temp)\n",
    "        \n",
    "    return set(new_res) - set(now_ids)"
   ]
  },
  {
   "cell_type": "markdown",
   "metadata": {},
   "source": [
    "- 循环爬取数据"
   ]
  },
  {
   "cell_type": "code",
   "execution_count": 312,
   "metadata": {},
   "outputs": [
    {
     "name": "stdout",
     "output_type": "stream",
     "text": [
      "第1轮\n",
      "计划插入了461个文档\n",
      "实际插入了461个文档, 用时 13.67秒。\n",
      "第2轮\n",
      "计划插入了338个文档\n",
      "实际插入了338个文档, 用时 13.12秒。\n",
      "第3轮\n",
      "计划插入了236个文档\n",
      "实际插入了236个文档, 用时 7.33秒。\n",
      "第4轮\n",
      "计划插入了160个文档\n",
      "实际插入了160个文档, 用时 5.10秒。\n",
      "第5轮\n",
      "计划插入了139个文档\n",
      "实际插入了139个文档, 用时 4.90秒。\n",
      "第6轮\n",
      "计划插入了61个文档\n",
      "实际插入了61个文档, 用时 1.69秒。\n",
      "第7轮\n",
      "计划插入了28个文档\n",
      "实际插入了28个文档, 用时 0.85秒。\n",
      "第8轮\n",
      "计划插入了7个文档\n",
      "实际插入了7个文档, 用时 0.17秒。\n",
      "第9轮\n"
     ]
    }
   ],
   "source": [
    "j = 1\n",
    "while True:\n",
    "    time.sleep(10)\n",
    "    print(f\"第{j}轮\")\n",
    "    newIDs = get_newIDs()\n",
    "    if newIDs:\n",
    "        inserted, notinserted = insert_dataset(newIDs)\n",
    "        j += 1\n",
    "    else:\n",
    "        break"
   ]
  },
  {
   "cell_type": "code",
   "execution_count": 315,
   "metadata": {},
   "outputs": [
    {
     "data": {
      "text/plain": [
       "6413"
      ]
     },
     "execution_count": 315,
     "metadata": {},
     "output_type": "execute_result"
    }
   ],
   "source": [
    "p_founder.count_documents({})"
   ]
  },
  {
   "cell_type": "markdown",
   "metadata": {},
   "source": [
    "### 转化为网络"
   ]
  },
  {
   "cell_type": "code",
   "execution_count": 252,
   "metadata": {},
   "outputs": [],
   "source": [
    "import networkx as nx"
   ]
  },
  {
   "cell_type": "code",
   "execution_count": 274,
   "metadata": {},
   "outputs": [],
   "source": [
    "dg = nx.DiGraph()"
   ]
  },
  {
   "cell_type": "code",
   "execution_count": 276,
   "metadata": {},
   "outputs": [
    {
     "name": "stdout",
     "output_type": "stream",
     "text": [
      "division by zero\n"
     ]
    }
   ],
   "source": [
    "try:\n",
    "    x = 1/0\n",
    "except Exception as e:\n",
    "    print(e)"
   ]
  },
  {
   "cell_type": "code",
   "execution_count": 292,
   "metadata": {},
   "outputs": [
    {
     "data": {
      "text/plain": [
       "{1, 2, 3, 4}"
      ]
     },
     "execution_count": 292,
     "metadata": {},
     "output_type": "execute_result"
    }
   ],
   "source": [
    "a = {1, 2}\n",
    "a.update([3,4])\n",
    "a"
   ]
  },
  {
   "cell_type": "code",
   "execution_count": 322,
   "metadata": {},
   "outputs": [],
   "source": [
    "fail_ids = set(x['项目编号'] for x in f_project.find({}, projection={\"项目编号\":1, '详细信息._id':1}))"
   ]
  },
  {
   "cell_type": "code",
   "execution_count": 323,
   "metadata": {},
   "outputs": [
    {
     "data": {
      "text/plain": [
       "{'100006',\n",
       " '100009',\n",
       " '100016',\n",
       " '100029',\n",
       " '100066',\n",
       " '100068',\n",
       " '100069',\n",
       " '100095',\n",
       " '100098',\n",
       " '100113',\n",
       " '100136',\n",
       " '100161',\n",
       " '100183',\n",
       " '100192',\n",
       " '100212',\n",
       " '100222',\n",
       " '100237',\n",
       " '100244',\n",
       " '100254',\n",
       " '100256',\n",
       " '100280',\n",
       " '100282',\n",
       " '100285',\n",
       " '100300',\n",
       " '100311',\n",
       " '100312',\n",
       " '100321',\n",
       " '100338',\n",
       " '100372',\n",
       " '100382',\n",
       " '100427',\n",
       " '100444',\n",
       " '100454',\n",
       " '100464',\n",
       " '100465',\n",
       " '100491',\n",
       " '100494',\n",
       " '100495',\n",
       " '100535',\n",
       " '100559',\n",
       " '100583',\n",
       " '100586',\n",
       " '100597',\n",
       " '100598',\n",
       " '100610',\n",
       " '100622',\n",
       " '100642',\n",
       " '100648',\n",
       " '100663',\n",
       " '100679',\n",
       " '100695',\n",
       " '100714',\n",
       " '100723',\n",
       " '100738',\n",
       " '100774',\n",
       " '100808',\n",
       " '100832',\n",
       " '100843',\n",
       " '100860',\n",
       " '100903',\n",
       " '100911',\n",
       " '100914',\n",
       " '100917',\n",
       " '100932',\n",
       " '100956',\n",
       " '100959',\n",
       " '100966',\n",
       " '100973',\n",
       " '100977',\n",
       " '101003',\n",
       " '101034',\n",
       " '101041',\n",
       " '101045',\n",
       " '101048',\n",
       " '101062',\n",
       " '101068',\n",
       " '101072',\n",
       " '101080',\n",
       " '101106',\n",
       " '101122',\n",
       " '101173',\n",
       " '101217',\n",
       " '101219',\n",
       " '101233',\n",
       " '101247',\n",
       " '101248',\n",
       " '101252',\n",
       " '101256',\n",
       " '101271',\n",
       " '101279',\n",
       " '101295',\n",
       " '101296',\n",
       " '101307',\n",
       " '101314',\n",
       " '101329',\n",
       " '101342',\n",
       " '101345',\n",
       " '101353',\n",
       " '101363',\n",
       " '101384',\n",
       " '101407',\n",
       " '101410',\n",
       " '101436',\n",
       " '101452',\n",
       " '101473',\n",
       " '101503',\n",
       " '101540',\n",
       " '101581',\n",
       " '101582',\n",
       " '101584',\n",
       " '101592',\n",
       " '101598',\n",
       " '101605',\n",
       " '101629',\n",
       " '101630',\n",
       " '101642',\n",
       " '101665',\n",
       " '101686',\n",
       " '101693',\n",
       " '101712',\n",
       " '101746',\n",
       " '101758',\n",
       " '101788',\n",
       " '101838',\n",
       " '101839',\n",
       " '101897',\n",
       " '101909',\n",
       " '101920',\n",
       " '101928',\n",
       " '101932',\n",
       " '101936',\n",
       " '101939',\n",
       " '101947',\n",
       " '101949',\n",
       " '101950',\n",
       " '101952',\n",
       " '101959',\n",
       " '101966',\n",
       " '101971',\n",
       " '101979',\n",
       " '101981',\n",
       " '101994',\n",
       " '102019',\n",
       " '102034',\n",
       " '102048',\n",
       " '102050',\n",
       " '102055',\n",
       " '102059',\n",
       " '102062',\n",
       " '102071',\n",
       " '102112',\n",
       " '102119',\n",
       " '102123',\n",
       " '102130',\n",
       " '102148',\n",
       " '102154',\n",
       " '102185',\n",
       " '102191',\n",
       " '102197',\n",
       " '102200',\n",
       " '102201',\n",
       " '102209',\n",
       " '102220',\n",
       " '102224',\n",
       " '102233',\n",
       " '102245',\n",
       " '102265',\n",
       " '102274',\n",
       " '102286',\n",
       " '102291',\n",
       " '102293',\n",
       " '102297',\n",
       " '102299',\n",
       " '102304',\n",
       " '102312',\n",
       " '102313',\n",
       " '102325',\n",
       " '102345',\n",
       " '102356',\n",
       " '102362',\n",
       " '102384',\n",
       " '102414',\n",
       " '102417',\n",
       " '102421',\n",
       " '102426',\n",
       " '102437',\n",
       " '102440',\n",
       " '102454',\n",
       " '102487',\n",
       " '102489',\n",
       " '102492',\n",
       " '102538',\n",
       " '102550',\n",
       " '102551',\n",
       " '102564',\n",
       " '102566',\n",
       " '102635',\n",
       " '102641',\n",
       " '102652',\n",
       " '102653',\n",
       " '102673',\n",
       " '102675',\n",
       " '102694',\n",
       " '102710',\n",
       " '102743',\n",
       " '102746',\n",
       " '102781',\n",
       " '102794',\n",
       " '102804',\n",
       " '102809',\n",
       " '102818',\n",
       " '102836',\n",
       " '102845',\n",
       " '102940',\n",
       " '102941',\n",
       " '102947',\n",
       " '102957',\n",
       " '102970',\n",
       " '102988',\n",
       " '103047',\n",
       " '103088',\n",
       " '103093',\n",
       " '103114',\n",
       " '103115',\n",
       " '103120',\n",
       " '103126',\n",
       " '103128',\n",
       " '103136',\n",
       " '103147',\n",
       " '103149',\n",
       " '103152',\n",
       " '103158',\n",
       " '103165',\n",
       " '103173',\n",
       " '103182',\n",
       " '103185',\n",
       " '103200',\n",
       " '103209',\n",
       " '103218',\n",
       " '103224',\n",
       " '103233',\n",
       " '103287',\n",
       " '103293',\n",
       " '103302',\n",
       " '103311',\n",
       " '103312',\n",
       " '103313',\n",
       " '103323',\n",
       " '103347',\n",
       " '103351',\n",
       " '103369',\n",
       " '103406',\n",
       " '103410',\n",
       " '103412',\n",
       " '103420',\n",
       " '103421',\n",
       " '103433',\n",
       " '103455',\n",
       " '103493',\n",
       " '103501',\n",
       " '103511',\n",
       " '103514',\n",
       " '103591',\n",
       " '103600',\n",
       " '103605',\n",
       " '103617',\n",
       " '103621',\n",
       " '103669',\n",
       " '103684',\n",
       " '103685',\n",
       " '103689',\n",
       " '103691',\n",
       " '103693',\n",
       " '103715',\n",
       " '103741',\n",
       " '103754',\n",
       " '103755',\n",
       " '103760',\n",
       " '103762',\n",
       " '103770',\n",
       " '103774',\n",
       " '103782',\n",
       " '103785',\n",
       " '103788',\n",
       " '103796',\n",
       " '103799',\n",
       " '103810',\n",
       " '103861',\n",
       " '103892',\n",
       " '103926',\n",
       " '103928',\n",
       " '103954',\n",
       " '103986',\n",
       " '103993',\n",
       " '103995',\n",
       " '104019',\n",
       " '104023',\n",
       " '104024',\n",
       " '104040',\n",
       " '104067',\n",
       " '104101',\n",
       " '104284',\n",
       " '104360',\n",
       " '104457',\n",
       " '104460',\n",
       " '104461',\n",
       " '104512',\n",
       " '104513',\n",
       " '104554',\n",
       " '104568',\n",
       " '104590',\n",
       " '104639',\n",
       " '104651',\n",
       " '104660',\n",
       " '104678',\n",
       " '104688',\n",
       " '104692',\n",
       " '104770',\n",
       " '104775',\n",
       " '104779',\n",
       " '104787',\n",
       " '104828',\n",
       " '104835',\n",
       " '104836',\n",
       " '104859',\n",
       " '104876',\n",
       " '104906',\n",
       " '104910',\n",
       " '104928',\n",
       " '104941',\n",
       " '104961',\n",
       " '104996',\n",
       " '104997',\n",
       " '105018',\n",
       " '105033',\n",
       " '105055',\n",
       " '105152',\n",
       " '105169',\n",
       " '105182',\n",
       " '105203',\n",
       " '105223',\n",
       " '105247',\n",
       " '105249',\n",
       " '105261',\n",
       " '105270',\n",
       " '105274',\n",
       " '105283',\n",
       " '105325',\n",
       " '105376',\n",
       " '105403',\n",
       " '105442',\n",
       " '105467',\n",
       " '105472',\n",
       " '105483',\n",
       " '105491',\n",
       " '105495',\n",
       " '105514',\n",
       " '105553',\n",
       " '105605',\n",
       " '105679',\n",
       " '105685',\n",
       " '105688',\n",
       " '105749',\n",
       " '105761',\n",
       " '89812',\n",
       " '90620',\n",
       " '94356',\n",
       " '95740',\n",
       " '96106',\n",
       " '96191',\n",
       " '97234',\n",
       " '97546',\n",
       " '97930',\n",
       " '98091',\n",
       " '98553',\n",
       " '98590',\n",
       " '98719',\n",
       " '98796',\n",
       " '98848',\n",
       " '98917',\n",
       " '99047',\n",
       " '99100',\n",
       " '99137',\n",
       " '99159',\n",
       " '99274',\n",
       " '99278',\n",
       " '99285',\n",
       " '99401',\n",
       " '99431',\n",
       " '99489',\n",
       " '99497',\n",
       " '99529',\n",
       " '99566',\n",
       " '99571',\n",
       " '99628',\n",
       " '99664',\n",
       " '99687',\n",
       " '99693',\n",
       " '99697',\n",
       " '99706',\n",
       " '99727',\n",
       " '99784',\n",
       " '99898',\n",
       " '99906',\n",
       " '99936',\n",
       " '99956',\n",
       " '99986'}"
      ]
     },
     "execution_count": 323,
     "metadata": {},
     "output_type": "execute_result"
    }
   ],
   "source": [
    "fail_ids"
   ]
  },
  {
   "cell_type": "code",
   "execution_count": null,
   "metadata": {},
   "outputs": [],
   "source": []
  }
 ],
 "metadata": {
  "kernelspec": {
   "display_name": "python37",
   "language": "python",
   "name": "python37"
  },
  "language_info": {
   "codemirror_mode": {
    "name": "ipython",
    "version": 3
   },
   "file_extension": ".py",
   "mimetype": "text/x-python",
   "name": "python",
   "nbconvert_exporter": "python",
   "pygments_lexer": "ipython3",
   "version": "3.7.0"
  }
 },
 "nbformat": 4,
 "nbformat_minor": 2
}
