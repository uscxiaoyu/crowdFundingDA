{
 "cells": [
  {
   "cell_type": "code",
   "execution_count": 13,
   "metadata": {},
   "outputs": [],
   "source": [
    "%matplotlib inline\n",
    "from urllib import request, parse\n",
    "from bs4 import BeautifulSoup\n",
    "from pymongo import MongoClient\n",
    "import datetime\n",
    "import ssl\n",
    "import re\n",
    "import time\n",
    "import json\n",
    "import random\n",
    "import pprint"
   ]
  },
  {
   "cell_type": "code",
   "execution_count": 18,
   "metadata": {},
   "outputs": [],
   "source": [
    "ssl._create_default_https_context = ssl._create_unverified_context  # 全局取消网页安全验证"
   ]
  },
  {
   "cell_type": "code",
   "execution_count": 2,
   "metadata": {},
   "outputs": [],
   "source": [
    "client = MongoClient('localhost', 27017)\n",
    "db = client.moniter_crowdfunding\n",
    "project = db.projects\n",
    "f_project = db.failure_projects"
   ]
  },
  {
   "cell_type": "code",
   "execution_count": 3,
   "metadata": {},
   "outputs": [],
   "source": [
    "p_founder = db.founders"
   ]
  },
  {
   "cell_type": "markdown",
   "metadata": {},
   "source": [
    "## 单个项目"
   ]
  },
  {
   "cell_type": "code",
   "execution_count": 165,
   "metadata": {},
   "outputs": [],
   "source": [
    "item = project.find_one({'状态': '众筹成功'}, projection={'公司名称':1, '公司地址':1, '公司工作时间':1, \n",
    "                                                        '公司电话':1, '发起人名称':1, '发起人链接':1})"
   ]
  },
  {
   "cell_type": "code",
   "execution_count": 166,
   "metadata": {},
   "outputs": [],
   "source": [
    "prj_info = project.find_one({'_id':item['_id']}, \n",
    "                            projection={'状态':1, '所属类别':1, '项目名称':1, '众筹期限':1, '目标金额':1, '_id':0})"
   ]
  },
  {
   "cell_type": "markdown",
   "metadata": {},
   "source": [
    "- Head信息"
   ]
  },
  {
   "cell_type": "code",
   "execution_count": 167,
   "metadata": {},
   "outputs": [],
   "source": [
    "User_Agent = 'Mozilla/5.0 (Macintosh; Intel Mac OS X 10.13; rv:60.0) Gecko/20100101 Firefox/60.0'\n",
    "Host = 'z.jd.com'\n",
    "craw_time = datetime.datetime.now()"
   ]
  },
  {
   "cell_type": "markdown",
   "metadata": {},
   "source": [
    "- 获取网页内容"
   ]
  },
  {
   "cell_type": "code",
   "execution_count": 168,
   "metadata": {},
   "outputs": [],
   "source": [
    "def crawData(href, _id):\n",
    "    post_data = parse.urlencode({\"flag\":\"2\", \"id\":_id})\n",
    "    req = request.Request(href)\n",
    "    req.add_header('User-Agent', User_Agent)\n",
    "    req.add_header('Referer', f'http://z.jd.com/funderCenter.action?{post_data}')\n",
    "    req.add_header('Host', Host)\n",
    "    with request.urlopen(req, data=post_data.encode('utf-8')) as f:\n",
    "        raw_html = f.read().decode()\n",
    "        \n",
    "    return raw_html"
   ]
  },
  {
   "cell_type": "markdown",
   "metadata": {},
   "source": [
    "- 解析获取数据"
   ]
  },
  {
   "cell_type": "code",
   "execution_count": 199,
   "metadata": {},
   "outputs": [],
   "source": [
    "def soupData(raw):\n",
    "    h_soup = BeautifulSoup(raw, 'html.parser')\n",
    "    cat_div = h_soup.find('div', {'class': 'tab_cont db'})\n",
    "    p_d = re.compile('(\\d+)')\n",
    "    \n",
    "    c_dict = {}\n",
    "    if cat_div:\n",
    "        for x in cat_div.findAll('li'):\n",
    "            prj_href = str(x).split(\"'\")[1]\n",
    "            prj_id = p_d.findall(prj_href)[0]\n",
    "            c_dict[prj_id] = {'prj_name': x.p.string, 'prj_desc': x.a.string, 'prj_href': prj_href}\n",
    "        \n",
    "    return c_dict"
   ]
  },
  {
   "cell_type": "code",
   "execution_count": 200,
   "metadata": {},
   "outputs": [
    {
     "name": "stdout",
     "output_type": "stream",
     "text": [
      "支持项目\n",
      "关注项目\n",
      "发起项目\n"
     ]
    }
   ],
   "source": [
    "item = {'_id': '83904'}\n",
    "hrefs = {'支持项目': 'http://z.jd.com/f/my_support.action?',\n",
    "         '关注项目': 'http://z.jd.com/f/my_focus.action?', \n",
    "         '发起项目': 'http://z.jd.com/f/my_project.action?'}\n",
    "\n",
    "for key in hrefs:\n",
    "    print(key)\n",
    "    raw = crawData(hrefs[key], item['_id'])\n",
    "    c_dict = soupData(raw)\n",
    "    item[key] = c_dict"
   ]
  },
  {
   "cell_type": "code",
   "execution_count": 201,
   "metadata": {},
   "outputs": [
    {
     "data": {
      "text/plain": [
       "{'_id': '83904',\n",
       " '支持项目': {},\n",
       " '关注项目': {'83904': {'prj_name': '小牙兽-防龋齿智能幼教牙刷',\n",
       "   'prj_desc': '一支乳牙期儿童智能牙刷，容纳了怎样的智能？巴氏刷牙法口腔游戏教程+儿童的专属口腔银行+您身边的牙医绿色通道，让儿童自动养成快乐自律的口腔护理习惯',\n",
       "   'prj_href': '/project/details/83904.html'}},\n",
       " '发起项目': {'83904': {'prj_name': '小牙兽-防龋齿智能幼教牙刷',\n",
       "   'prj_desc': '一支乳牙期儿童智能牙刷，容纳了怎样的智能？巴氏刷牙法口腔游戏教程+儿童的专属口腔银行+您身边的牙医绿色通道，让儿童自动养成快乐自律的口腔护理习惯',\n",
       "   'prj_href': '/project/details/83904.html'}}}"
      ]
     },
     "execution_count": 201,
     "metadata": {},
     "output_type": "execute_result"
    }
   ],
   "source": [
    "item"
   ]
  },
  {
   "cell_type": "markdown",
   "metadata": {},
   "source": [
    "## 查看所有项目发起人的主页"
   ]
  },
  {
   "cell_type": "code",
   "execution_count": 218,
   "metadata": {},
   "outputs": [],
   "source": [
    "from bson import ObjectId"
   ]
  },
  {
   "cell_type": "markdown",
   "metadata": {},
   "source": [
    "- 初始化: 读取其它数据集中已有的id "
   ]
  },
  {
   "cell_type": "code",
   "execution_count": 328,
   "metadata": {},
   "outputs": [],
   "source": [
    "def checkOtherCols():\n",
    "        suc_ids = list(set(x['_id'] for x in project.find({}, projection={'_id':1})))\n",
    "        for p_id in suc_ids[::-1]:\n",
    "            if isinstance(p_id, ObjectId):\n",
    "                print(f\"success {p_id}\")\n",
    "                t_id = project.find_one({\"_id\":p_id}, projection={'项目编号':1})\n",
    "                suc_ids.remove(p_id)\n",
    "                suc_ids.append(t_id['项目编号'])\n",
    "        \n",
    "        fail_ids = list(set(x['详细信息']['_id'] for x in f_project.find({}, projection={'详细信息._id':1})))\n",
    "        for p_id in fail_ids[::-1]:  # 将_id为ObjectID类型的替换为项目编号\n",
    "            if isinstance(p_id, ObjectId):\n",
    "                print(f\"failure {p_id}\")\n",
    "                t_id = f_project.find_one({\"详细信息._id\":p_id}, projection={\"详细信息.项目编号\":1})\n",
    "                fail_ids.remove(p_id)\n",
    "                fail_ids.append(t_id[\"详细信息\"][\"项目编号\"])\n",
    "                \n",
    "        return set(suc_ids) | set(fail_ids)"
   ]
  },
  {
   "cell_type": "code",
   "execution_count": 329,
   "metadata": {},
   "outputs": [
    {
     "name": "stdout",
     "output_type": "stream",
     "text": [
      "success 5af292a738ea07432da62d98\n",
      "success 5af292a738ea07432da62d93\n",
      "success 5aeb00d458abe024f8d01956\n",
      "success 5af292a738ea07432da62d95\n",
      "success 5af292a738ea07432da62d9a\n",
      "success 5af292a638ea07432da62d91\n",
      "success 5af292a738ea07432da62d99\n",
      "success 5af292a638ea07432da62d90\n",
      "success 5af292a738ea07432da62d94\n",
      "success 5af292a738ea07432da62d97\n",
      "success 5af292a738ea07432da62d92\n"
     ]
    }
   ],
   "source": [
    "ids = checkOtherCols()"
   ]
  },
  {
   "cell_type": "code",
   "execution_count": 301,
   "metadata": {},
   "outputs": [
    {
     "name": "stdout",
     "output_type": "stream",
     "text": [
      "5af292a738ea07432da62d9a\n",
      "5af292a738ea07432da62d99\n",
      "5af292a738ea07432da62d98\n",
      "5af292a738ea07432da62d97\n",
      "5aeb00d458abe024f8d01956\n",
      "5af292a738ea07432da62d95\n",
      "5af292a738ea07432da62d94\n",
      "5af292a738ea07432da62d93\n",
      "5af292a738ea07432da62d92\n",
      "5af292a638ea07432da62d91\n",
      "5af292a638ea07432da62d90\n"
     ]
    }
   ],
   "source": [
    "suc_ids = [x['_id'] for x in project.find({}, projection={'_id':1})]\n",
    "fail_ids = [x['详细信息']['_id'] for x in f_project.find({}, projection={'详细信息._id':1})]\n",
    "ids = suc_ids + fail_ids\n",
    "\n",
    "for p_id in ids[::-1]:  # 将_id为ObjectID类型的替换为项目编号\n",
    "    if isinstance(p_id, ObjectId):\n",
    "        print(p_id)\n",
    "        t_id = project.find_one({\"_id\":p_id}, projection={'项目编号':1})\n",
    "        ids.remove(p_id)\n",
    "        ids.append(t_id['项目编号'])"
   ]
  },
  {
   "cell_type": "code",
   "execution_count": 302,
   "metadata": {},
   "outputs": [],
   "source": [
    "ids = set(ids)\n",
    "hrefs = {'支持项目': 'http://z.jd.com/f/my_support.action?',\n",
    "        '关注项目': 'http://z.jd.com/f/my_focus.action?', \n",
    "        '发起项目': 'http://z.jd.com/f/my_project.action?'}"
   ]
  },
  {
   "cell_type": "markdown",
   "metadata": {},
   "source": [
    "- 插入1个文档"
   ]
  },
  {
   "cell_type": "code",
   "execution_count": 308,
   "metadata": {},
   "outputs": [],
   "source": [
    "def insert_data(p_id):\n",
    "    item = {'_id': p_id}\n",
    "    try:\n",
    "        for key in hrefs:\n",
    "            raw = crawData(hrefs[key], item['_id'])\n",
    "            c_dict = soupData(raw)\n",
    "            item[key] = c_dict\n",
    "        p_founder.insert_one(item)\n",
    "        return 1\n",
    "    except Exception as e:\n",
    "        print(f\"{p_id}插入失败!错误提示:{e}\")\n",
    "        return 0"
   ]
  },
  {
   "cell_type": "markdown",
   "metadata": {},
   "source": [
    "- 插入多个文档"
   ]
  },
  {
   "cell_type": "code",
   "execution_count": 316,
   "metadata": {},
   "outputs": [],
   "source": [
    "def insert_dataset(p_ids):\n",
    "    inserted, notInserted = [], []\n",
    "    for p_id in p_ids:\n",
    "        if insert_data(p_id):\n",
    "            inserted.append(p_id)\n",
    "        else:\n",
    "            notInserted.append(p_id)\n",
    "            \n",
    "    return inserted, notInserted"
   ]
  },
  {
   "cell_type": "markdown",
   "metadata": {},
   "source": [
    "- 计算新生成的id"
   ]
  },
  {
   "cell_type": "code",
   "execution_count": 305,
   "metadata": {},
   "outputs": [],
   "source": [
    "def get_newIDs(p_founder=p_founder):\n",
    "    now_ids = []\n",
    "    new_res = []\n",
    "    for x in p_founder.find({}):\n",
    "        temp = list(x['支持项目'].keys()) + list(x['关注项目'].keys()) + list(x['发起项目'].keys())\n",
    "        now_ids.append(x['_id'])\n",
    "        new_res.extend(temp)\n",
    "        \n",
    "    return set(new_res) - set(now_ids)"
   ]
  },
  {
   "cell_type": "markdown",
   "metadata": {},
   "source": [
    "- 循环爬取数据"
   ]
  },
  {
   "cell_type": "code",
   "execution_count": 312,
   "metadata": {},
   "outputs": [
    {
     "name": "stdout",
     "output_type": "stream",
     "text": [
      "第1轮\n",
      "计划插入了461个文档\n",
      "实际插入了461个文档, 用时 13.67秒。\n",
      "第2轮\n",
      "计划插入了338个文档\n",
      "实际插入了338个文档, 用时 13.12秒。\n",
      "第3轮\n",
      "计划插入了236个文档\n",
      "实际插入了236个文档, 用时 7.33秒。\n",
      "第4轮\n",
      "计划插入了160个文档\n",
      "实际插入了160个文档, 用时 5.10秒。\n",
      "第5轮\n",
      "计划插入了139个文档\n",
      "实际插入了139个文档, 用时 4.90秒。\n",
      "第6轮\n",
      "计划插入了61个文档\n",
      "实际插入了61个文档, 用时 1.69秒。\n",
      "第7轮\n",
      "计划插入了28个文档\n",
      "实际插入了28个文档, 用时 0.85秒。\n",
      "第8轮\n",
      "计划插入了7个文档\n",
      "实际插入了7个文档, 用时 0.17秒。\n",
      "第9轮\n"
     ]
    }
   ],
   "source": [
    "j = 1\n",
    "while True:\n",
    "    time.sleep(10)\n",
    "    print(f\"第{j}轮\")\n",
    "    newIDs = get_newIDs()\n",
    "    if newIDs:\n",
    "        inserted, notinserted = insert_dataset(newIDs)\n",
    "        j += 1\n",
    "    else:\n",
    "        break"
   ]
  },
  {
   "cell_type": "code",
   "execution_count": 315,
   "metadata": {},
   "outputs": [
    {
     "data": {
      "text/plain": [
       "6413"
      ]
     },
     "execution_count": 315,
     "metadata": {},
     "output_type": "execute_result"
    }
   ],
   "source": [
    "p_founder.count_documents({})"
   ]
  },
  {
   "cell_type": "markdown",
   "metadata": {},
   "source": [
    "### 转化为网络"
   ]
  },
  {
   "cell_type": "code",
   "execution_count": 252,
   "metadata": {},
   "outputs": [],
   "source": [
    "import networkx as nx"
   ]
  },
  {
   "cell_type": "code",
   "execution_count": 274,
   "metadata": {},
   "outputs": [],
   "source": [
    "dg = nx.DiGraph()"
   ]
  },
  {
   "cell_type": "code",
   "execution_count": 276,
   "metadata": {},
   "outputs": [
    {
     "name": "stdout",
     "output_type": "stream",
     "text": [
      "division by zero\n"
     ]
    }
   ],
   "source": [
    "try:\n",
    "    x = 1/0\n",
    "except Exception as e:\n",
    "    print(e)"
   ]
  },
  {
   "cell_type": "code",
   "execution_count": 292,
   "metadata": {},
   "outputs": [
    {
     "data": {
      "text/plain": [
       "{1, 2, 3, 4}"
      ]
     },
     "execution_count": 292,
     "metadata": {},
     "output_type": "execute_result"
    }
   ],
   "source": [
    "a = {1, 2}\n",
    "a.update([3,4])\n",
    "a"
   ]
  },
  {
   "cell_type": "code",
   "execution_count": 322,
   "metadata": {},
   "outputs": [],
   "source": [
    "fail_ids = set(x['项目编号'] for x in f_project.find({}, projection={\"项目编号\":1, '详细信息._id':1}))"
   ]
  },
  {
   "cell_type": "code",
   "execution_count": null,
   "metadata": {},
   "outputs": [],
   "source": []
  }
 ],
 "metadata": {
  "kernelspec": {
   "display_name": "python37",
   "language": "python",
   "name": "python37"
  },
  "language_info": {
   "codemirror_mode": {
    "name": "ipython",
    "version": 3
   },
   "file_extension": ".py",
   "mimetype": "text/x-python",
   "name": "python",
   "nbconvert_exporter": "python",
   "pygments_lexer": "ipython3",
   "version": "3.7.0"
  }
 },
 "nbformat": 4,
 "nbformat_minor": 2
}
