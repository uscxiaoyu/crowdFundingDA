{
 "cells": [
  {
   "cell_type": "code",
   "execution_count": 1,
   "metadata": {},
   "outputs": [],
   "source": [
    "%matplotlib inline\n",
    "import matplotlib.pyplot as plt\n",
    "import matplotlib as mpl\n",
    "import numpy as np\n",
    "import pandas as pd\n",
    "import datetime\n",
    "from bson import ObjectId\n",
    "from pymongo import MongoClient\n",
    "from scipy.optimize import minimize"
   ]
  },
  {
   "cell_type": "code",
   "execution_count": 2,
   "metadata": {},
   "outputs": [
    {
     "data": {
      "text/plain": [
       "True"
      ]
     },
     "execution_count": 2,
     "metadata": {},
     "output_type": "execute_result"
    }
   ],
   "source": [
    "client = MongoClient('127.0.0.1', 27017)\n",
    "db = client.moniter_crowdfunding\n",
    "db.authenticate(name=\"worker\", password=\"hard\", mechanism=\"SCRAM-SHA-1\")"
   ]
  },
  {
   "cell_type": "code",
   "execution_count": 3,
   "metadata": {},
   "outputs": [
    {
     "data": {
      "text/plain": [
       "['projects', 'success_projects', 'founders', 'failure_projects', 'front_page']"
      ]
     },
     "execution_count": 3,
     "metadata": {},
     "output_type": "execute_result"
    }
   ],
   "source": [
    "db.list_collection_names()"
   ]
  },
  {
   "cell_type": "code",
   "execution_count": 4,
   "metadata": {},
   "outputs": [],
   "source": [
    "project = db.projects\n",
    "s_project = db.success_projects\n",
    "f_project = db.failure_projects\n",
    "front_page = db.front_page"
   ]
  },
  {
   "cell_type": "code",
   "execution_count": 6,
   "metadata": {},
   "outputs": [
    {
     "name": "stdout",
     "output_type": "stream",
     "text": [
      "项目成功:4160\t众筹成功:133\t众筹中:95\t预热中:10\t项目失败:3040\n"
     ]
    }
   ],
   "source": [
    "num_Psucc = s_project.count_documents({'状态': '项目成功'})\n",
    "num_Csucc = project.count_documents({'状态': '众筹成功'})\n",
    "num_Cing = project.count_documents({'状态': '众筹中'})\n",
    "num_Pheat = project.count_documents({'状态': '预热中'})\n",
    "num_Fproj = f_project.count_documents({})\n",
    "print(f'项目成功:{num_Psucc}', f'众筹成功:{num_Csucc}', \n",
    "      f'众筹中:{num_Cing}', f'预热中:{num_Pheat}', f'项目失败:{num_Fproj}', sep='\\t')"
   ]
  },
  {
   "cell_type": "markdown",
   "metadata": {},
   "source": [
    "- array查询"
   ]
  },
  {
   "cell_type": "code",
   "execution_count": 12,
   "metadata": {
    "collapsed": true,
    "jupyter": {
     "outputs_hidden": true
    }
   },
   "outputs": [
    {
     "data": {
      "text/plain": [
       "{'_id': '104000',\n",
       " '项目动态信息': [{'爬取时间': datetime.datetime(2019, 1, 16, 12, 0, 40, 415000),\n",
       "   '支持者数': 0},\n",
       "  {'爬取时间': datetime.datetime(2019, 1, 16, 18, 0, 26, 107000), '支持者数': 0},\n",
       "  {'爬取时间': datetime.datetime(2019, 1, 17, 0, 0, 32, 571000), '支持者数': 0},\n",
       "  {'爬取时间': datetime.datetime(2019, 1, 17, 6, 0, 25, 559000), '支持者数': 0},\n",
       "  {'爬取时间': datetime.datetime(2019, 1, 17, 12, 0, 37, 593000), '支持者数': 0},\n",
       "  {'爬取时间': datetime.datetime(2019, 1, 17, 21, 1, 34, 577000), '支持者数': 0},\n",
       "  {'爬取时间': datetime.datetime(2019, 1, 18, 0, 0, 25, 792000), '支持者数': 0},\n",
       "  {'爬取时间': datetime.datetime(2019, 1, 18, 6, 0, 20, 819000), '支持者数': 0},\n",
       "  {'爬取时间': datetime.datetime(2019, 1, 18, 12, 14, 7, 658000), '支持者数': 0},\n",
       "  {'爬取时间': datetime.datetime(2019, 1, 18, 18, 0, 13, 137000), '支持者数': 0},\n",
       "  {'爬取时间': datetime.datetime(2019, 1, 19, 0, 0, 14, 320000), '支持者数': 0},\n",
       "  {'爬取时间': datetime.datetime(2019, 1, 19, 12, 0, 12, 630000), '支持者数': 0},\n",
       "  {'爬取时间': datetime.datetime(2019, 1, 19, 18, 0, 14, 129000), '支持者数': 0},\n",
       "  {'爬取时间': datetime.datetime(2019, 1, 20, 0, 0, 14, 78000), '支持者数': 0},\n",
       "  {'爬取时间': datetime.datetime(2019, 1, 20, 6, 0, 14, 352000), '支持者数': 0},\n",
       "  {'爬取时间': datetime.datetime(2019, 1, 20, 12, 10, 23, 574000), '支持者数': 4},\n",
       "  {'爬取时间': datetime.datetime(2019, 1, 20, 18, 9, 53, 341000), '支持者数': 4},\n",
       "  {'爬取时间': datetime.datetime(2019, 1, 21, 0, 11, 40, 580000), '支持者数': 4},\n",
       "  {'爬取时间': datetime.datetime(2019, 1, 21, 6, 8, 58, 645000), '支持者数': 4},\n",
       "  {'爬取时间': datetime.datetime(2019, 1, 21, 16, 13, 34, 181000), '支持者数': 4},\n",
       "  {'爬取时间': datetime.datetime(2019, 1, 22, 0, 11, 30, 580000), '支持者数': 5},\n",
       "  {'爬取时间': datetime.datetime(2019, 1, 22, 6, 10, 32, 365000), '支持者数': 5},\n",
       "  {'爬取时间': datetime.datetime(2019, 1, 22, 12, 10, 28, 109000), '支持者数': 5},\n",
       "  {'爬取时间': datetime.datetime(2019, 1, 22, 23, 7, 28, 76000), '支持者数': 7},\n",
       "  {'支持者数': 7, '爬取时间': datetime.datetime(2019, 1, 23, 8, 19, 47, 822000)},\n",
       "  {'支持者数': 11, '爬取时间': datetime.datetime(2019, 1, 23, 12, 38, 57, 720000)},\n",
       "  {'支持者数': 12, '爬取时间': datetime.datetime(2019, 1, 23, 18, 45, 38, 98000)},\n",
       "  {'支持者数': 12, '爬取时间': datetime.datetime(2019, 1, 24, 0, 37, 37, 708000)},\n",
       "  {'支持者数': 12, '爬取时间': datetime.datetime(2019, 1, 24, 6, 11, 17, 44000)},\n",
       "  {'爬取时间': datetime.datetime(2019, 1, 24, 12, 13, 31, 846000), '支持者数': 12},\n",
       "  {'支持者数': 19, '爬取时间': datetime.datetime(2019, 1, 24, 18, 11, 14, 901000)},\n",
       "  {'支持者数': 20, '爬取时间': datetime.datetime(2019, 1, 25, 0, 12, 51, 979000)},\n",
       "  {'爬取时间': datetime.datetime(2019, 1, 25, 6, 8, 55, 666000), '支持者数': 20},\n",
       "  {'支持者数': 21, '爬取时间': datetime.datetime(2019, 1, 25, 12, 16, 2, 539000)},\n",
       "  {'爬取时间': datetime.datetime(2019, 1, 25, 18, 9, 29, 329000), '支持者数': 22},\n",
       "  {'支持者数': 22, '爬取时间': datetime.datetime(2019, 1, 26, 0, 18, 19, 263000)},\n",
       "  {'支持者数': 22, '爬取时间': datetime.datetime(2019, 1, 26, 6, 10, 38, 631000)},\n",
       "  {'支持者数': 23, '爬取时间': datetime.datetime(2019, 1, 26, 12, 11, 58, 872000)},\n",
       "  {'支持者数': 23, '爬取时间': datetime.datetime(2019, 1, 26, 18, 13, 25, 831000)},\n",
       "  {'爬取时间': datetime.datetime(2019, 1, 27, 0, 17, 10, 314000), '支持者数': 23},\n",
       "  {'支持者数': 23, '爬取时间': datetime.datetime(2019, 1, 27, 6, 9, 3, 202000)},\n",
       "  {'支持者数': 23, '爬取时间': datetime.datetime(2019, 1, 27, 12, 16, 23, 28000)},\n",
       "  {'爬取时间': datetime.datetime(2019, 1, 27, 18, 11, 4, 135000), '支持者数': 24},\n",
       "  {'支持者数': 24, '爬取时间': datetime.datetime(2019, 1, 28, 0, 13, 12, 961000)},\n",
       "  {'爬取时间': datetime.datetime(2019, 1, 28, 6, 8, 33, 871000), '支持者数': 24},\n",
       "  {'支持者数': 25, '爬取时间': datetime.datetime(2019, 1, 28, 12, 9, 25, 450000)},\n",
       "  {'爬取时间': datetime.datetime(2019, 1, 28, 18, 11, 48, 865000), '支持者数': 25},\n",
       "  {'支持者数': 25, '爬取时间': datetime.datetime(2019, 1, 29, 0, 13, 4, 636000)},\n",
       "  {'爬取时间': datetime.datetime(2019, 1, 29, 6, 11, 1, 492000), '支持者数': 25},\n",
       "  {'爬取时间': datetime.datetime(2019, 1, 29, 12, 9, 13, 688000), '支持者数': 27},\n",
       "  {'支持者数': 28, '爬取时间': datetime.datetime(2019, 1, 29, 18, 9, 37, 70000)},\n",
       "  {'爬取时间': datetime.datetime(2019, 1, 30, 0, 13, 13, 785000), '支持者数': 28},\n",
       "  {'支持者数': 28, '爬取时间': datetime.datetime(2019, 1, 30, 6, 10, 14, 731000)},\n",
       "  {'支持者数': 28, '爬取时间': datetime.datetime(2019, 1, 30, 12, 13, 55, 467000)},\n",
       "  {'支持者数': 28, '爬取时间': datetime.datetime(2019, 1, 30, 18, 13, 52, 950000)},\n",
       "  {'支持者数': 28, '爬取时间': datetime.datetime(2019, 1, 31, 0, 12, 13, 216000)},\n",
       "  {'支持者数': 28, '爬取时间': datetime.datetime(2019, 1, 31, 6, 9, 13, 87000)},\n",
       "  {'爬取时间': datetime.datetime(2019, 1, 31, 12, 12, 31, 672000), '支持者数': 28},\n",
       "  {'支持者数': 30, '爬取时间': datetime.datetime(2019, 1, 31, 18, 11, 12, 430000)},\n",
       "  {'支持者数': 30, '爬取时间': datetime.datetime(2019, 2, 1, 0, 8, 17, 299000)},\n",
       "  {'爬取时间': datetime.datetime(2019, 2, 1, 6, 8, 8, 339000), '支持者数': 31},\n",
       "  {'支持者数': 31, '爬取时间': datetime.datetime(2019, 2, 1, 12, 10, 25, 710000)},\n",
       "  {'支持者数': 31, '爬取时间': datetime.datetime(2019, 2, 1, 18, 10, 53, 605000)},\n",
       "  {'爬取时间': datetime.datetime(2019, 2, 2, 0, 12, 16, 662000), '支持者数': 31},\n",
       "  {'爬取时间': datetime.datetime(2019, 2, 2, 6, 8, 49, 34000), '支持者数': 31},\n",
       "  {'爬取时间': datetime.datetime(2019, 2, 2, 12, 9, 22, 845000), '支持者数': 31},\n",
       "  {'支持者数': 31, '爬取时间': datetime.datetime(2019, 2, 2, 18, 10, 4, 486000)},\n",
       "  {'爬取时间': datetime.datetime(2019, 2, 3, 0, 10, 54, 741000), '支持者数': 31},\n",
       "  {'支持者数': 31, '爬取时间': datetime.datetime(2019, 2, 3, 6, 8, 43, 426000)},\n",
       "  {'支持者数': 31, '爬取时间': datetime.datetime(2019, 2, 3, 12, 9, 21, 516000)},\n",
       "  {'爬取时间': datetime.datetime(2019, 2, 3, 18, 14, 43, 67000), '支持者数': 34},\n",
       "  {'支持者数': 34, '爬取时间': datetime.datetime(2019, 2, 4, 0, 11, 15, 316000)},\n",
       "  {'爬取时间': datetime.datetime(2019, 2, 4, 6, 7, 2, 112000), '支持者数': 34},\n",
       "  {'爬取时间': datetime.datetime(2019, 2, 4, 12, 10, 39, 869000), '支持者数': 35},\n",
       "  {'支持者数': 35, '爬取时间': datetime.datetime(2019, 2, 4, 18, 9, 12, 250000)},\n",
       "  {'爬取时间': datetime.datetime(2019, 2, 5, 0, 7, 19, 770000), '支持者数': 35},\n",
       "  {'爬取时间': datetime.datetime(2019, 2, 5, 6, 8, 7, 953000), '支持者数': 35},\n",
       "  {'支持者数': 35, '爬取时间': datetime.datetime(2019, 2, 5, 12, 8, 13, 89000)},\n",
       "  {'支持者数': 35, '爬取时间': datetime.datetime(2019, 2, 5, 18, 6, 14, 944000)},\n",
       "  {'爬取时间': datetime.datetime(2019, 2, 6, 0, 8, 31, 456000), '支持者数': 35},\n",
       "  {'支持者数': 35, '爬取时间': datetime.datetime(2019, 2, 6, 6, 7, 21, 285000)},\n",
       "  {'爬取时间': datetime.datetime(2019, 2, 6, 12, 10, 0, 850000), '支持者数': 35},\n",
       "  {'爬取时间': datetime.datetime(2019, 2, 6, 18, 11, 41, 797000), '支持者数': 35},\n",
       "  {'爬取时间': datetime.datetime(2019, 2, 7, 0, 9, 5, 873000), '支持者数': 36},\n",
       "  {'爬取时间': datetime.datetime(2019, 2, 7, 6, 8, 9, 50000), '支持者数': 37},\n",
       "  {'支持者数': 37, '爬取时间': datetime.datetime(2019, 2, 7, 12, 10, 28, 584000)},\n",
       "  {'爬取时间': datetime.datetime(2019, 2, 7, 18, 8, 15, 375000), '支持者数': 38},\n",
       "  {'爬取时间': datetime.datetime(2019, 2, 8, 0, 11, 32, 835000), '支持者数': 38},\n",
       "  {'支持者数': 38, '爬取时间': datetime.datetime(2019, 2, 8, 6, 7, 51, 210000)},\n",
       "  {'支持者数': 40, '爬取时间': datetime.datetime(2019, 2, 8, 18, 9, 20, 173000)},\n",
       "  {'支持者数': 42, '爬取时间': datetime.datetime(2019, 2, 9, 0, 9, 23, 308000)},\n",
       "  {'支持者数': 42, '爬取时间': datetime.datetime(2019, 2, 9, 6, 7, 45, 499000)},\n",
       "  {'支持者数': 42, '爬取时间': datetime.datetime(2019, 2, 9, 12, 10, 52, 662000)},\n",
       "  {'支持者数': 42, '爬取时间': datetime.datetime(2019, 2, 9, 18, 7, 52, 852000)},\n",
       "  {'支持者数': 42, '爬取时间': datetime.datetime(2019, 2, 10, 0, 11, 54, 571000)},\n",
       "  {'支持者数': 42, '爬取时间': datetime.datetime(2019, 2, 10, 6, 10, 10, 504000)},\n",
       "  {'爬取时间': datetime.datetime(2019, 2, 10, 12, 11, 51, 466000), '支持者数': 44},\n",
       "  {'爬取时间': datetime.datetime(2019, 2, 10, 18, 7, 25, 465000), '支持者数': 45},\n",
       "  {'支持者数': 45, '爬取时间': datetime.datetime(2019, 2, 11, 0, 12, 35, 945000)},\n",
       "  {'爬取时间': datetime.datetime(2019, 2, 11, 6, 9, 1, 269000), '支持者数': 45},\n",
       "  {'支持者数': 45, '爬取时间': datetime.datetime(2019, 2, 11, 12, 8, 5, 503000)},\n",
       "  {'支持者数': 45, '爬取时间': datetime.datetime(2019, 2, 11, 18, 6, 1, 526000)},\n",
       "  {'支持者数': 47, '爬取时间': datetime.datetime(2019, 2, 12, 0, 9, 26, 189000)},\n",
       "  {'爬取时间': datetime.datetime(2019, 2, 12, 6, 8, 57, 991000), '支持者数': 47},\n",
       "  {'爬取时间': datetime.datetime(2019, 2, 12, 12, 6, 37, 164000), '支持者数': 49},\n",
       "  {'爬取时间': datetime.datetime(2019, 2, 12, 18, 7, 20, 290000), '支持者数': 49},\n",
       "  {'爬取时间': datetime.datetime(2019, 2, 13, 0, 9, 30, 519000), '支持者数': 49},\n",
       "  {'爬取时间': datetime.datetime(2019, 2, 13, 6, 7, 27, 610000), '支持者数': 49},\n",
       "  {'爬取时间': datetime.datetime(2019, 2, 13, 12, 7, 57, 84000), '支持者数': 49},\n",
       "  {'爬取时间': datetime.datetime(2019, 2, 13, 18, 14, 35, 662000), '支持者数': 51},\n",
       "  {'支持者数': 51, '爬取时间': datetime.datetime(2019, 2, 14, 0, 10, 56, 439000)},\n",
       "  {'支持者数': 51, '爬取时间': datetime.datetime(2019, 2, 14, 6, 8, 17, 727000)},\n",
       "  {'爬取时间': datetime.datetime(2019, 2, 14, 12, 9, 20, 927000), '支持者数': 53},\n",
       "  {'支持者数': 53, '爬取时间': datetime.datetime(2019, 2, 14, 18, 7, 52, 745000)},\n",
       "  {'支持者数': 54, '爬取时间': datetime.datetime(2019, 2, 15, 0, 9, 42, 512000)},\n",
       "  {'爬取时间': datetime.datetime(2019, 2, 15, 6, 7, 53, 327000), '支持者数': 54},\n",
       "  {'支持者数': 54, '爬取时间': datetime.datetime(2019, 2, 15, 12, 8, 28, 765000)},\n",
       "  {'爬取时间': datetime.datetime(2019, 2, 15, 18, 7, 29, 813000), '支持者数': 54},\n",
       "  {'支持者数': 54, '爬取时间': datetime.datetime(2019, 2, 16, 0, 8, 3, 343000)},\n",
       "  {'支持者数': 54, '爬取时间': datetime.datetime(2019, 2, 16, 6, 7, 21, 178000)},\n",
       "  {'支持者数': 54, '爬取时间': datetime.datetime(2019, 2, 16, 12, 7, 43, 476000)},\n",
       "  {'爬取时间': datetime.datetime(2019, 2, 16, 18, 5, 23, 17000), '支持者数': 54},\n",
       "  {'爬取时间': datetime.datetime(2019, 2, 17, 0, 0, 27, 394000), '支持者数': 54},\n",
       "  {'支持者数': 54, '爬取时间': datetime.datetime(2019, 2, 17, 6, 0, 28, 832000)},\n",
       "  {'爬取时间': datetime.datetime(2019, 2, 17, 12, 0, 28, 254000), '支持者数': 54},\n",
       "  {'爬取时间': datetime.datetime(2019, 2, 17, 16, 45, 19, 149000), '支持者数': 54},\n",
       "  {'爬取时间': datetime.datetime(2019, 2, 17, 18, 0, 26, 843000), '支持者数': 54},\n",
       "  {'爬取时间': datetime.datetime(2019, 2, 18, 0, 0, 29, 169000), '支持者数': 54},\n",
       "  {'爬取时间': datetime.datetime(2019, 2, 18, 6, 0, 27, 786000), '支持者数': 54},\n",
       "  {'爬取时间': datetime.datetime(2019, 2, 18, 12, 0, 42, 652000), '支持者数': 54},\n",
       "  {'爬取时间': datetime.datetime(2019, 2, 18, 18, 0, 30, 885000), '支持者数': 54},\n",
       "  {'爬取时间': datetime.datetime(2019, 2, 19, 0, 0, 32, 456000), '支持者数': 54},\n",
       "  {'爬取时间': datetime.datetime(2019, 2, 19, 6, 0, 36, 656000), '支持者数': 54},\n",
       "  {'爬取时间': datetime.datetime(2019, 2, 19, 12, 0, 57, 935000), '支持者数': 54},\n",
       "  {'爬取时间': datetime.datetime(2019, 2, 19, 18, 0, 35, 961000), '支持者数': 54},\n",
       "  {'爬取时间': datetime.datetime(2019, 2, 20, 0, 0, 35, 959000), '支持者数': 54},\n",
       "  {'爬取时间': datetime.datetime(2019, 2, 20, 6, 0, 43, 659000), '支持者数': 54},\n",
       "  {'爬取时间': datetime.datetime(2019, 2, 20, 12, 1, 42, 613000), '支持者数': 63},\n",
       "  {'爬取时间': datetime.datetime(2019, 2, 20, 18, 1, 54, 470000), '支持者数': 63},\n",
       "  {'爬取时间': datetime.datetime(2019, 2, 21, 0, 1, 32, 640000), '支持者数': 63},\n",
       "  {'爬取时间': datetime.datetime(2019, 2, 21, 6, 1, 23, 342000), '支持者数': 63},\n",
       "  {'爬取时间': datetime.datetime(2019, 2, 21, 12, 0, 34, 227000), '支持者数': 63},\n",
       "  {'爬取时间': datetime.datetime(2019, 2, 21, 18, 0, 36, 370000), '支持者数': 63},\n",
       "  {'爬取时间': datetime.datetime(2019, 2, 22, 0, 0, 38, 306000), '支持者数': 63},\n",
       "  {'爬取时间': datetime.datetime(2019, 2, 22, 6, 1, 2, 196000), '支持者数': 63},\n",
       "  {'爬取时间': datetime.datetime(2019, 2, 22, 12, 1, 1, 287000), '支持者数': 63},\n",
       "  {'爬取时间': datetime.datetime(2019, 2, 22, 18, 0, 37, 63000), '支持者数': 63},\n",
       "  {'爬取时间': datetime.datetime(2019, 2, 23, 0, 0, 38, 430000), '支持者数': 64},\n",
       "  {'爬取时间': datetime.datetime(2019, 2, 23, 6, 0, 34, 601000), '支持者数': 65},\n",
       "  {'爬取时间': datetime.datetime(2019, 2, 23, 12, 1, 2, 756000), '支持者数': 65},\n",
       "  {'爬取时间': datetime.datetime(2019, 2, 23, 18, 0, 24, 469000), '支持者数': 67},\n",
       "  {'爬取时间': datetime.datetime(2019, 2, 24, 0, 0, 41, 928000), '支持者数': 66},\n",
       "  {'爬取时间': datetime.datetime(2019, 2, 24, 6, 0, 28, 208000), '支持者数': 66},\n",
       "  {'爬取时间': datetime.datetime(2019, 2, 24, 12, 0, 42, 969000), '支持者数': 66},\n",
       "  {'爬取时间': datetime.datetime(2019, 2, 24, 18, 0, 21, 930000), '支持者数': 66},\n",
       "  {'爬取时间': datetime.datetime(2019, 2, 25, 0, 0, 21, 199000), '支持者数': 66},\n",
       "  {'爬取时间': datetime.datetime(2019, 2, 25, 6, 0, 20, 219000), '支持者数': 66},\n",
       "  {'爬取时间': datetime.datetime(2019, 2, 25, 12, 0, 18, 449000), '支持者数': 66},\n",
       "  {'爬取时间': datetime.datetime(2019, 2, 25, 18, 0, 26, 258000), '支持者数': 66},\n",
       "  {'爬取时间': datetime.datetime(2019, 2, 26, 0, 0, 35, 704000), '支持者数': 66},\n",
       "  {'爬取时间': datetime.datetime(2019, 2, 26, 6, 0, 24, 345000), '支持者数': 66},\n",
       "  {'爬取时间': datetime.datetime(2019, 2, 26, 12, 0, 26, 333000), '支持者数': 66},\n",
       "  {'爬取时间': datetime.datetime(2019, 2, 26, 18, 0, 32, 620000), '支持者数': 66},\n",
       "  {'爬取时间': datetime.datetime(2019, 2, 27, 0, 0, 52, 526000), '支持者数': 66},\n",
       "  {'爬取时间': datetime.datetime(2019, 2, 27, 6, 0, 35, 900000), '支持者数': 66},\n",
       "  {'爬取时间': datetime.datetime(2019, 2, 27, 12, 0, 34, 209000), '支持者数': 66},\n",
       "  {'爬取时间': datetime.datetime(2019, 2, 27, 18, 0, 49, 146000), '支持者数': 66},\n",
       "  {'爬取时间': datetime.datetime(2019, 2, 28, 0, 0, 37, 75000), '支持者数': 66},\n",
       "  {'爬取时间': datetime.datetime(2019, 2, 28, 6, 0, 31, 837000), '支持者数': 66},\n",
       "  {'爬取时间': datetime.datetime(2019, 2, 28, 12, 0, 40, 543000), '支持者数': 66},\n",
       "  {'爬取时间': datetime.datetime(2019, 2, 28, 18, 1, 9, 877000), '支持者数': 66},\n",
       "  {'爬取时间': datetime.datetime(2019, 3, 1, 0, 0, 34, 688000), '支持者数': 66},\n",
       "  {'爬取时间': datetime.datetime(2019, 3, 1, 6, 0, 30, 148000), '支持者数': 66},\n",
       "  {'爬取时间': datetime.datetime(2019, 3, 1, 12, 0, 44, 630000), '支持者数': 66},\n",
       "  {'爬取时间': datetime.datetime(2019, 3, 1, 18, 1, 36, 96000), '支持者数': 66},\n",
       "  {'爬取时间': datetime.datetime(2019, 3, 2, 0, 0, 48, 711000), '支持者数': 66},\n",
       "  {'爬取时间': datetime.datetime(2019, 3, 2, 6, 1, 31, 347000), '支持者数': 66},\n",
       "  {'爬取时间': datetime.datetime(2019, 3, 2, 12, 0, 33, 779000), '支持者数': 66},\n",
       "  {'爬取时间': datetime.datetime(2019, 3, 2, 18, 1, 29, 813000), '支持者数': 66},\n",
       "  {'爬取时间': datetime.datetime(2019, 3, 3, 0, 2, 5, 736000), '支持者数': 68},\n",
       "  {'爬取时间': datetime.datetime(2019, 3, 3, 6, 0, 46, 233000), '支持者数': 68},\n",
       "  {'爬取时间': datetime.datetime(2019, 3, 3, 12, 1, 34, 663000), '支持者数': 68},\n",
       "  {'爬取时间': datetime.datetime(2019, 3, 3, 18, 1, 33, 953000), '支持者数': 68},\n",
       "  {'爬取时间': datetime.datetime(2019, 3, 4, 0, 0, 32, 855000), '支持者数': 68},\n",
       "  {'爬取时间': datetime.datetime(2019, 3, 4, 6, 0, 27, 197000), '支持者数': 68},\n",
       "  {'爬取时间': datetime.datetime(2019, 3, 4, 12, 0, 32, 771000), '支持者数': 68},\n",
       "  {'爬取时间': datetime.datetime(2019, 3, 4, 18, 0, 32, 836000), '支持者数': 69},\n",
       "  {'爬取时间': datetime.datetime(2019, 3, 5, 0, 1, 31, 687000), '支持者数': 68},\n",
       "  {'爬取时间': datetime.datetime(2019, 3, 5, 6, 1, 13, 970000), '支持者数': 68},\n",
       "  {'爬取时间': datetime.datetime(2019, 3, 5, 12, 1, 6, 28000), '支持者数': 68},\n",
       "  {'爬取时间': datetime.datetime(2019, 3, 5, 18, 1, 20, 394000), '支持者数': 69},\n",
       "  {'爬取时间': datetime.datetime(2019, 3, 6, 0, 1, 22, 54000), '支持者数': 70},\n",
       "  {'爬取时间': datetime.datetime(2019, 3, 6, 6, 1, 50, 139000), '支持者数': 70}],\n",
       " '项目名称': '东方美学茶礼.边缘海干泡茶盘'}"
      ]
     },
     "execution_count": 12,
     "metadata": {},
     "output_type": "execute_result"
    }
   ],
   "source": [
    "s_project.find_one({\"项目动态信息.0.爬取时间\": {'$gte': datetime.datetime(2019, 1, 1), \n",
    "                                       '$lte': datetime.datetime(2019, 1, 30)}},\n",
    "                   projection={\"_id\":1, \n",
    "                               \"项目名称\": 1, \n",
    "                               \"项目动态信息.爬取时间\": 1,\n",
    "                               \"项目动态信息.支持者数\": 1,\n",
    "                               })"
   ]
  },
  {
   "cell_type": "code",
   "execution_count": 8,
   "metadata": {},
   "outputs": [],
   "source": [
    "s_project.find_one({\"项目动态信息\": {'$elemMatch': { '爬取时间': {'$gte': datetime.datetime(2019, 1, 1), \n",
    "                                       '$lte': datetime.datetime(2019, 1, 30)}}\n",
    "                              }},\n",
    "                   projection={\"_id\":1, \"项目名称\": 1, \"项目动态信息.$\": 1})"
   ]
  },
  {
   "cell_type": "code",
   "execution_count": null,
   "metadata": {},
   "outputs": [],
   "source": [
    "s_project.find_one({\"项目动态信息.爬取时间\": {'$gte': datetime.datetime(2019, 1, 1), \n",
    "                                       '$lte': datetime.datetime(2019, 1, 30)}\n",
    "                                          },\n",
    "                   projection={\"_id\":1, \"项目名称\": 1, \"项目动态信息.$\": 1})"
   ]
  },
  {
   "cell_type": "markdown",
   "metadata": {},
   "source": [
    "# 一、获取众筹项目扩散指标时间序列"
   ]
  },
  {
   "cell_type": "markdown",
   "metadata": {},
   "source": [
    "- 1. 将原始数据库中的`item`转化为`df`数据格式"
   ]
  },
  {
   "cell_type": "code",
   "execution_count": 5,
   "metadata": {},
   "outputs": [],
   "source": [
    "def to_df(item, col_names = ['星期', '关注数', '支持者数', '点赞数', '完成百分比', '筹集金额']):\n",
    "    dyn_info = item['项目动态信息']\n",
    "    t_fund = item['目标金额']\n",
    "    \n",
    "    # 剔除更新时间相同的记录\n",
    "    a1 = dyn_info[0]\n",
    "    records = {'更新时间':[], '星期':[], '支持者数':[], '关注数':[], '点赞数':[], '完成百分比':[], '筹集金额':[]}\n",
    "    for i, a2 in enumerate(dyn_info):\n",
    "        if a2[\"更新时间\"] != a1['更新时间']:\n",
    "            records['更新时间'].append(a2['更新时间'])\n",
    "            records['星期'].append(a2['更新时间'].weekday())  # 0 -> monday, 1 -> tuesday, ..., y -> sunday\n",
    "            records['支持者数'].append(a2['支持者数'])\n",
    "            records['关注数'].append(a2['关注数'])\n",
    "            records['完成百分比'].append(a2['完成百分比'])\n",
    "            records['筹集金额'].append(a2['筹集金额'])\n",
    "            records['点赞数'].append(a2['点赞数'])\n",
    "            \n",
    "            a1 = a2\n",
    "            \n",
    "    df = pd.DataFrame(records, index=records['更新时间'], columns=col_names)\n",
    "    return df"
   ]
  },
  {
   "cell_type": "markdown",
   "metadata": {},
   "source": [
    "- 2. 按每天最晚时间保留1个数据\n",
    "> 对比相邻两个数据索引的时间(年-月-日)是否一致，从而获取是否是同一天的数据。"
   ]
  },
  {
   "cell_type": "code",
   "execution_count": 7,
   "metadata": {},
   "outputs": [],
   "source": [
    "def retain_data(df):\n",
    "    new_index = []\n",
    "    for i, index in enumerate(df.index):\n",
    "        if i == 0:\n",
    "            a = df.index[i]\n",
    "        else:\n",
    "            b = df.index[i]\n",
    "            a = df.index[i - 1]\n",
    "            if (b.year, b.month, b.day) != (a.year, a.month, a.day):\n",
    "                new_index.append(i-1)\n",
    "    \n",
    "    return df.iloc[new_index]"
   ]
  },
  {
   "cell_type": "markdown",
   "metadata": {},
   "source": [
    "- 3. 保留众筹开始之后的数据，并将时间转换为相对众筹开始的绝对时长"
   ]
  },
  {
   "cell_type": "code",
   "execution_count": 8,
   "metadata": {},
   "outputs": [],
   "source": [
    "def prepare_data(item):\n",
    "    df = to_df(item)\n",
    "    day_data = retain_data(df)\n",
    "    data = day_data[day_data.index >= pd.Timestamp(item['状态变换时间1-2'])]  # 众筹开始后的数据\n",
    "    \n",
    "    interv_list = [t - pd.Timestamp(item['状态变换时间1-2']) for t in data.index]      \n",
    "    t_list = list(map(lambda x : round(x.to_pytimedelta().total_seconds()/3600, 1), \n",
    "                      interv_list))  # 转换为相对众筹开始时间的绝对时长(小时)\n",
    "    \n",
    "    data.index = t_list\n",
    "    return data"
   ]
  },
  {
   "cell_type": "markdown",
   "metadata": {},
   "source": [
    "- 4. 非累积采纳数量"
   ]
  },
  {
   "cell_type": "code",
   "execution_count": 9,
   "metadata": {},
   "outputs": [],
   "source": [
    "def increment(x):\n",
    "    return [(x[i] - x[i-1]) if i >= 1 else x[0] \n",
    "            for i in range(len(x))]"
   ]
  },
  {
   "cell_type": "markdown",
   "metadata": {},
   "source": [
    "# 二、获取众筹期间项目在主页各位置的展示时间"
   ]
  },
  {
   "cell_type": "markdown",
   "metadata": {},
   "source": [
    "- 首先，获取时间序列`t_dict`。`t_dict`与`a_dict`键相对应，查看对应时期各监测时间点的各展区是否包含目标pid\n",
    "> `get_demo_data`针对每个时间点的`front_page`进行处理"
   ]
  },
  {
   "cell_type": "code",
   "execution_count": 9,
   "metadata": {},
   "outputs": [],
   "source": [
    "def get_demo_data(a_dict, t_dict, pid):\n",
    "    for key in a_dict:\n",
    "        if isinstance(a_dict[key], list):    \n",
    "            if pid in a_dict[key]:\n",
    "                t_dict[key] = t_dict.get(key, []) + [1]\n",
    "            else:\n",
    "                t_dict[key] = t_dict.get(key, []) + [0]\n",
    "        elif isinstance(a_dict[key], dict):\n",
    "            t_dict[key] = get_demo_data(a_dict[key], {}, pid)\n",
    "        elif key == \"监测时间\":\n",
    "            t_dict[key] = t_dict.get(key, []) + [a_dict[key]]\n",
    "        else:\n",
    "            pass\n",
    "            \n",
    "    return t_dict"
   ]
  },
  {
   "cell_type": "markdown",
   "metadata": {},
   "source": [
    "- 然后，获取`t_dict`对应的`pd.DataFrame()`"
   ]
  },
  {
   "cell_type": "code",
   "execution_count": 10,
   "metadata": {},
   "outputs": [],
   "source": [
    "def get_eff_data(t_dict, prev_keys=[], dataset={}):\n",
    "    for key in t_dict:\n",
    "        if isinstance(t_dict[key], list):\n",
    "            c_key = '>'.join(prev_keys + [key]) if prev_keys else key\n",
    "            dataset[c_key] = t_dict[key]\n",
    "        else:\n",
    "            dataset = get_eff_data(t_dict[key], prev_keys + [key], dataset)\n",
    "    return dataset"
   ]
  },
  {
   "cell_type": "markdown",
   "metadata": {},
   "source": [
    "- 最后，将主页展示时间数据与项目扩散数据融合"
   ]
  },
  {
   "cell_type": "code",
   "execution_count": null,
   "metadata": {},
   "outputs": [],
   "source": [
    "def merge_df(item, )"
   ]
  },
  {
   "cell_type": "code",
   "execution_count": 16,
   "metadata": {},
   "outputs": [],
   "source": [
    "x = front_page.find_one()"
   ]
  },
  {
   "cell_type": "code",
   "execution_count": 22,
   "metadata": {},
   "outputs": [
    {
     "data": {
      "text/plain": [
       "2341"
      ]
     },
     "execution_count": 22,
     "metadata": {},
     "output_type": "execute_result"
    }
   ],
   "source": [
    "front_page.count_documents({})"
   ]
  },
  {
   "cell_type": "code",
   "execution_count": 40,
   "metadata": {
    "collapsed": true,
    "jupyter": {
     "outputs_hidden": true
    },
    "tags": []
   },
   "outputs": [
    {
     "data": {
      "text/plain": [
       "{'_id': ObjectId('5ae3d82f38ea0717678085ca'),\n",
       " '轮播': {'r-t': ['2', '98692', '98954', '97491'],\n",
       "  'left': ['98540', '99707', '97998', '99281'],\n",
       "  'r-b-r': ['99890', '99002', '97612', '97192'],\n",
       "  'r-b-l': ['99974', '99637', '99042', '99538']},\n",
       " '即将上架': ['100163',\n",
       "  '99680',\n",
       "  '98553',\n",
       "  '99981',\n",
       "  '100164',\n",
       "  '100124',\n",
       "  '100113',\n",
       "  '100066',\n",
       "  '100010',\n",
       "  '99371',\n",
       "  '99706',\n",
       "  '98917',\n",
       "  '99350',\n",
       "  '100049',\n",
       "  '100051',\n",
       "  '97064',\n",
       "  '100217',\n",
       "  '100211',\n",
       "  '99686',\n",
       "  '100095',\n",
       "  '100081',\n",
       "  '99938',\n",
       "  '100192',\n",
       "  '99255',\n",
       "  '99138',\n",
       "  '100031',\n",
       "  '99946',\n",
       "  '100040',\n",
       "  '99159'],\n",
       " 'demostr_proj': {'健康出行': {'左上大图': ['99542', '99476', '98341', '98703'],\n",
       "   '其它图': ['96364',\n",
       "    '99645',\n",
       "    '97576',\n",
       "    '98742',\n",
       "    '99753',\n",
       "    '99284',\n",
       "    '99845',\n",
       "    '99578',\n",
       "    '99994',\n",
       "    '99797',\n",
       "    '98952',\n",
       "    '98493',\n",
       "    '98603',\n",
       "    '99608',\n",
       "    '98492',\n",
       "    '99914',\n",
       "    '90233',\n",
       "    '99311',\n",
       "    '98592',\n",
       "    '99061',\n",
       "    '99842',\n",
       "    '98966',\n",
       "    '91203',\n",
       "    '99207']},\n",
       "  '生活美学': {'左上大图': ['97103', '98584', '98735', '98380', '100106'],\n",
       "   '其它图': ['98692',\n",
       "    '99764',\n",
       "    '99419',\n",
       "    '100109',\n",
       "    '99700',\n",
       "    '99515',\n",
       "    '99639',\n",
       "    '99322',\n",
       "    '98344',\n",
       "    '98835',\n",
       "    '99256',\n",
       "    '99778',\n",
       "    '99316',\n",
       "    '99108',\n",
       "    '81498',\n",
       "    '98478',\n",
       "    '98671',\n",
       "    '100086',\n",
       "    '98814',\n",
       "    '99014',\n",
       "    '99975',\n",
       "    '99837',\n",
       "    '99590',\n",
       "    '98400',\n",
       "    '99089',\n",
       "    '99223',\n",
       "    '99057',\n",
       "    '99453',\n",
       "    '99065',\n",
       "    '96938']},\n",
       "  '文化艺术': {'左上大图': ['99587', '98954', '99254', '99889', '99162'],\n",
       "   '其它图': ['98626',\n",
       "    '99203',\n",
       "    '99715',\n",
       "    '99507',\n",
       "    '98845',\n",
       "    '98551',\n",
       "    '99418',\n",
       "    '98346',\n",
       "    '98507',\n",
       "    '99294',\n",
       "    '98654',\n",
       "    '97998',\n",
       "    '99293',\n",
       "    '97267',\n",
       "    '98042',\n",
       "    '98940',\n",
       "    '98976',\n",
       "    '98738',\n",
       "    '99978',\n",
       "    '99758',\n",
       "    '99461',\n",
       "    '99601',\n",
       "    '99363',\n",
       "    '99582',\n",
       "    '99160',\n",
       "    '99144',\n",
       "    '99145',\n",
       "    '99174',\n",
       "    '99172',\n",
       "    '99173']},\n",
       "  '惠民扶贫': {'左上大图': ['98786'],\n",
       "   '其它图': ['97344', '98513', '97524', '98490', '99588', '99695']},\n",
       "  '美食市集': {'左上大图': ['99831', '98684', '97491'],\n",
       "   '其它图': ['98855',\n",
       "    '99767',\n",
       "    '99665',\n",
       "    '97192',\n",
       "    '98956',\n",
       "    '99241',\n",
       "    '99133',\n",
       "    '99182',\n",
       "    '98371',\n",
       "    '96682',\n",
       "    '99673',\n",
       "    '98710',\n",
       "    '93705',\n",
       "    '99642',\n",
       "    '99618',\n",
       "    '99115',\n",
       "    '91343',\n",
       "    '99281']},\n",
       "  '新奇酷玩': {'左上大图': ['99586', '99959', '99592', '99304'],\n",
       "   '其它图': ['99329',\n",
       "    '99271',\n",
       "    '97824',\n",
       "    '98977',\n",
       "    '99433',\n",
       "    '99985',\n",
       "    '99619',\n",
       "    '99228',\n",
       "    '97350',\n",
       "    '99974',\n",
       "    '98033',\n",
       "    '99844',\n",
       "    '99650',\n",
       "    '97156',\n",
       "    '99523',\n",
       "    '98622',\n",
       "    '99835',\n",
       "    '98260',\n",
       "    '99469',\n",
       "    '98747',\n",
       "    '97566',\n",
       "    '97666',\n",
       "    '98420',\n",
       "    '99213']}},\n",
       " '监测时间': datetime.datetime(2018, 4, 28, 10, 10, 55, 130000),\n",
       " '即将结束': ['98326',\n",
       "  '98696',\n",
       "  '98360',\n",
       "  '98222',\n",
       "  '97545',\n",
       "  '97871',\n",
       "  '98268',\n",
       "  '98365',\n",
       "  '98442',\n",
       "  '98531',\n",
       "  '98239',\n",
       "  '98147',\n",
       "  '98884',\n",
       "  '99009',\n",
       "  '97927'],\n",
       " '热门推荐': ['99286', '98012', '99314', '99002'],\n",
       " '最新上架': ['100191',\n",
       "  '98989',\n",
       "  '100112',\n",
       "  '99976',\n",
       "  '99437',\n",
       "  '99679',\n",
       "  '99770',\n",
       "  '99963']}"
      ]
     },
     "execution_count": 40,
     "metadata": {},
     "output_type": "execute_result"
    }
   ],
   "source": [
    "x"
   ]
  },
  {
   "cell_type": "code",
   "execution_count": 41,
   "metadata": {
    "tags": []
   },
   "outputs": [
    {
     "data": {
      "text/plain": [
       "dict_keys(['r-t', 'left', 'r-b-r', 'r-b-l'])"
      ]
     },
     "execution_count": 41,
     "metadata": {},
     "output_type": "execute_result"
    }
   ],
   "source": [
    "x['轮播'].keys()"
   ]
  },
  {
   "cell_type": "code",
   "execution_count": 24,
   "metadata": {},
   "outputs": [
    {
     "data": {
      "text/plain": [
       "dict_keys(['r-t', 'left', 'r-b-r', 'r-b-l'])"
      ]
     },
     "execution_count": 24,
     "metadata": {},
     "output_type": "execute_result"
    }
   ],
   "source": [
    "x['轮播'].keys()"
   ]
  },
  {
   "cell_type": "markdown",
   "metadata": {},
   "source": [
    "以项目编号为键，记录各项目记录在主页中出现的时间和位置。\n",
    "> 项目在列表中，因此只要将列表中的值反转即可得到项目的位置和时间。\n",
    "\n",
    "然后，找出对应每个项目出现在主页上的时间。"
   ]
  },
  {
   "cell_type": "code",
   "execution_count": null,
   "metadata": {},
   "outputs": [],
   "source": [
    "top_keys = ['轮播', '即将上架', 'demostr_proj', '即将结束', '热门推荐', '最新上架']"
   ]
  },
  {
   "cell_type": "code",
   "execution_count": 50,
   "metadata": {},
   "outputs": [],
   "source": [
    "new_dict = {}\n",
    "for f_page in front_page.find():\n",
    "#     f_page = front_page.find_one({})\n",
    "    _id = f_page[\"_id\"]\n",
    "    for key1 in f_page:\n",
    "        if key1 in ('即将上架', '最新上架', '热门推荐', '即将结束'):\n",
    "            for p_id in f_page[key1]:\n",
    "                if p_id in new_dict:\n",
    "                    new_dict[p_id].append((key1, _id))\n",
    "                else:\n",
    "                    new_dict[p_id] = [(key1, _id)]\n",
    "        elif key1 == '轮播':\n",
    "            for key2 in f_page[key1]:\n",
    "                for p_id in f_page[key1][key2]:\n",
    "                    if p_id in new_dict:\n",
    "                        new_dict[p_id].append((key1 + '.' + key2, _id))\n",
    "                    else:\n",
    "                        new_dict[p_id] = [(key1 + '.' + key2, _id)]\n",
    "        elif key1 == 'demostr_proj':\n",
    "            for key2 in f_page[key1]:\n",
    "                for key3 in f_page[key1][key2]:\n",
    "                    for p_id in f_page[key1][key2][key3]:\n",
    "                        if p_id in new_dict:\n",
    "                            new_dict[p_id].append((key1 + '.' + key2 + '.' + key3, _id))\n",
    "                        else:\n",
    "                            new_dict[p_id] = [(key1 + '.' + key2 + '.' + key3, _id)]"
   ]
  },
  {
   "cell_type": "code",
   "execution_count": 52,
   "metadata": {
    "tags": []
   },
   "outputs": [
    {
     "data": {
      "text/plain": [
       "5986"
      ]
     },
     "execution_count": 52,
     "metadata": {},
     "output_type": "execute_result"
    }
   ],
   "source": [
    "len(new_dict)"
   ]
  },
  {
   "cell_type": "code",
   "execution_count": 54,
   "metadata": {},
   "outputs": [
    {
     "data": {
      "text/plain": [
       "[('即将上架', ObjectId('5ae3d82f38ea0717678085ca')),\n",
       " ('即将上架', ObjectId('5ae3f15438ea071d0b8211d0')),\n",
       " ('即将上架', ObjectId('5ae3f2b438ea071eca58096e')),\n",
       " ('即将上架', ObjectId('5ae3f32c38ea071faf489874')),\n",
       " ('即将上架', ObjectId('5ae40de338ea070adb0b5cb1')),\n",
       " ('即将上架', ObjectId('5ae42b7b38ea07564c7b2ac1')),\n",
       " ('即将上架', ObjectId('5ae44dea38ea0769131b1103')),\n",
       " ('即将上架', ObjectId('5ae4560f38ea07109d0a4f7d')),\n",
       " ('即将上架', ObjectId('5ae463b758abe0264481c39b')),\n",
       " ('即将上架', ObjectId('5ae4655258abe017906bbe72')),\n",
       " ('即将上架', ObjectId('5ae468ab58abe00d54f95679')),\n",
       " ('即将上架', ObjectId('5ae4691158abe039985d37a4')),\n",
       " ('即将上架', ObjectId('5ae47b6f58abe02748e9337b')),\n",
       " ('即将上架', ObjectId('5ae4926358abe013b02aa7c1')),\n",
       " ('即将上架', ObjectId('5ae4939258abe040b8530cd6')),\n",
       " ('即将上架', ObjectId('5ae49a8358abe00398484619')),\n",
       " ('即将上架', ObjectId('5ae4b6a458abe016b45f0c49')),\n",
       " ('即将上架', ObjectId('5ae4d2c358abe043ec570019')),\n",
       " ('即将上架', ObjectId('5ae4eee358abe042b01eee7d')),\n",
       " ('即将上架', ObjectId('5ae4fefa58abe00be0ba86fa')),\n",
       " ('即将上架', ObjectId('5ae50b0458abe019b87da0c9')),\n",
       " ('即将上架', ObjectId('5ae5272458abe03e30db9b36')),\n",
       " ('即将上架', ObjectId('5ae5434458abe045f82241f0')),\n",
       " ('即将上架', ObjectId('5ae55f6458abe01bbc3869f9')),\n",
       " ('即将上架', ObjectId('5ae57b8558abe00d1ce2435c')),\n",
       " ('即将上架', ObjectId('5ae597a458abe024346b1500')),\n",
       " ('即将上架', ObjectId('5ae5c6fb58abe0413c524f05')),\n",
       " ('最新上架', ObjectId('5ae678a658abe023f0ed6722')),\n",
       " ('最新上架', ObjectId('5ae694c458abe02380832a34')),\n",
       " ('最新上架', ObjectId('5ae6b0e458abe038706bf41f')),\n",
       " ('最新上架', ObjectId('5ae6cd0358abe000e0fe978f')),\n",
       " ('最新上架', ObjectId('5ae6e92358abe0355c4515f0')),\n",
       " ('最新上架', ObjectId('5ae71c5f58abe00a0075884f')),\n",
       " ('最新上架', ObjectId('5ae7216358abe03b44cd2df7')),\n",
       " ('最新上架', ObjectId('5ae7387558abe030c4a04d49')),\n",
       " ('最新上架', ObjectId('5ae73d8258abe02a18bf3474')),\n",
       " ('demostr_proj.生活美学.其它图', ObjectId('5ae7ca2558abe04b3ca4d9e3')),\n",
       " ('demostr_proj.生活美学.其它图', ObjectId('5ae7e64458abe03394c439c7')),\n",
       " ('demostr_proj.生活美学.其它图', ObjectId('5ae7ea3758abe00ae08fcb0f')),\n",
       " ('demostr_proj.生活美学.其它图', ObjectId('5ae8026458abe02214728dda')),\n",
       " ('demostr_proj.生活美学.其它图', ObjectId('5ae81e8658abe03d7098ad5c')),\n",
       " ('demostr_proj.生活美学.其它图', ObjectId('5ae83aa658abe03980e05353')),\n",
       " ('demostr_proj.生活美学.其它图', ObjectId('5ae856c658abe02cb0a32a0c')),\n",
       " ('demostr_proj.生活美学.其它图', ObjectId('5ae85b5658abe02718d5f075')),\n",
       " ('demostr_proj.生活美学.其它图', ObjectId('5ae8675e58abe0286ce54bd7')),\n",
       " ('demostr_proj.生活美学.其它图', ObjectId('5ae8764658abe02eecae776f')),\n",
       " ('demostr_proj.生活美学.其它图', ObjectId('5ae88f0558abe08bc01a758e')),\n",
       " ('demostr_proj.生活美学.其它图', ObjectId('5ae8ab2658abe025a4a08c0f')),\n",
       " ('demostr_proj.生活美学.其它图', ObjectId('5ae8c74558abe078205c5a54')),\n",
       " ('demostr_proj.生活美学.其它图', ObjectId('5ae8e36558abe07684732df5')),\n",
       " ('demostr_proj.生活美学.其它图', ObjectId('5ae8ff8558abe07c602594c0')),\n",
       " ('demostr_proj.生活美学.左上大图', ObjectId('5ae91ba258abe0472c48741a')),\n",
       " ('demostr_proj.生活美学.左上大图', ObjectId('5ae937c258abe050d4059581')),\n",
       " ('demostr_proj.生活美学.左上大图', ObjectId('5ae953e258abe07e70acfb77')),\n",
       " ('demostr_proj.生活美学.左上大图', ObjectId('5ae9700258abe05594c56cef')),\n",
       " ('demostr_proj.生活美学.左上大图', ObjectId('5ae98c2558abe091140d7102')),\n",
       " ('demostr_proj.生活美学.左上大图', ObjectId('5ae98d5758abe048301e7fef')),\n",
       " ('demostr_proj.生活美学.左上大图', ObjectId('5ae994c958abe048301e7ff2')),\n",
       " ('demostr_proj.生活美学.左上大图', ObjectId('5ae9a35b58abe048301e7ff5')),\n",
       " ('demostr_proj.生活美学.左上大图', ObjectId('5ae9a84558abe08be8be66e7')),\n",
       " ('demostr_proj.生活美学.左上大图', ObjectId('5ae9c46558abe00e3c022442')),\n",
       " ('demostr_proj.生活美学.左上大图', ObjectId('5aea4c1558abe0403032d0d3')),\n",
       " ('demostr_proj.生活美学.左上大图', ObjectId('5aea502358abe02ef07f51a5')),\n",
       " ('demostr_proj.生活美学.左上大图', ObjectId('5aea50b858abe02ef07f51a8')),\n",
       " ('demostr_proj.生活美学.左上大图', ObjectId('5aea531358abe00e7455edb5'))]"
      ]
     },
     "execution_count": 54,
     "metadata": {},
     "output_type": "execute_result"
    }
   ],
   "source": [
    "new_dict['100010']"
   ]
  },
  {
   "cell_type": "code",
   "execution_count": 49,
   "metadata": {},
   "outputs": [
    {
     "name": "stdout",
     "output_type": "stream",
     "text": [
      "time.struct_time(tm_year=2018, tm_mon=4, tm_mday=28, tm_hour=2, tm_min=10, tm_sec=55, tm_wday=5, tm_yday=118, tm_isdst=0)\n"
     ]
    },
    {
     "data": {
      "text/plain": [
       "1524852655.0"
      ]
     },
     "execution_count": 49,
     "metadata": {},
     "output_type": "execute_result"
    }
   ],
   "source": [
    "import time\n",
    "print(_id.generation_time.timetuple())\n",
    "time.mktime(_id.generation_time.timetuple())"
   ]
  },
  {
   "cell_type": "code",
   "execution_count": 62,
   "metadata": {},
   "outputs": [
    {
     "data": {
      "text/plain": [
       "1524881455.0"
      ]
     },
     "execution_count": 62,
     "metadata": {},
     "output_type": "execute_result"
    }
   ],
   "source": [
    "new_dict['100010'][0][1].generation_time.timestamp()"
   ]
  },
  {
   "cell_type": "code",
   "execution_count": null,
   "metadata": {},
   "outputs": [],
   "source": [
    "a = new_dict['10010']\n",
    "for "
   ]
  },
  {
   "cell_type": "code",
   "execution_count": 53,
   "metadata": {
    "collapsed": true,
    "jupyter": {
     "outputs_hidden": true
    },
    "tags": []
   },
   "outputs": [
    {
     "data": {
      "text/plain": [
       "{'_id': '100010',\n",
       " '众筹期限': 45,\n",
       " '公司地址': '广东广州市白云区\\xa0\\xa0机场路1630号白云时光227室',\n",
       " '状态变换时间1-2': datetime.datetime(2018, 4, 30, 10, 0, 20, 247000),\n",
       " '各档基础信息': {'1': {'lim_num': None,\n",
       "   'deliver_info': '预计回报发送时间：项目众筹成功后30天内',\n",
       "   'sup_price': 399,\n",
       "   'redound_info': '感谢您的支持！您将以399元价格获得手工打造街头潮流的运动跨界鞋1双（颜色：枣红色，天蓝色，草绿色，卡其色，深灰色 ）。'},\n",
       "  '2': {'lim_num': None,\n",
       "   'deliver_info': '预计回报发送时间：项目众筹成功后30天内',\n",
       "   'sup_price': 429,\n",
       "   'redound_info': '感谢您的支持！您将以429元的价格获得手工打造街头潮流的运动跨界鞋1双+加厚鞋垫1对。（颜色：枣红色，天蓝色，草绿色，卡其色，深灰色 ）。'},\n",
       "  '0': {'lim_num': None,\n",
       "   'deliver_info': '预计回报发送时间：项目众筹成功后30天内',\n",
       "   'sup_price': 39,\n",
       "   'redound_info': '感谢您的支持！您将以39元的价格获得加厚鞋垫1对。'}},\n",
       " '爬取次数': 555,\n",
       " '项目名称': '一双街头潮流与运动的跨界鞋',\n",
       " '所属类别': '原创设计',\n",
       " '状态': '项目成功',\n",
       " '公司电话': '0760-87826716',\n",
       " '状态变换时间0-1': datetime.datetime(2018, 4, 28, 10, 11, 6, 382000),\n",
       " '目标金额': 50000,\n",
       " '发起人链接': '/funderCenter.action?flag=2&id=100010',\n",
       " '公司工作时间': '工作日 09:00-18:00',\n",
       " '公司名称': '广州粤脉文化发展有限公司',\n",
       " '发起人名称': '粤脉电商视觉设计',\n",
       " '状态变换时间2-3': datetime.datetime(2018, 6, 14, 20, 5, 1, 958000),\n",
       " '状态变换时间3-4': datetime.datetime(2018, 7, 24, 10, 26, 41, 874000)}"
      ]
     },
     "execution_count": 53,
     "metadata": {},
     "output_type": "execute_result"
    }
   ],
   "source": [
    "s_project.find_one({}, projection={'项目动态信息': False, \"各档动态信息\": False, '评论': False})"
   ]
  },
  {
   "cell_type": "code",
   "execution_count": 36,
   "metadata": {},
   "outputs": [],
   "source": [
    "def get_new_dict(new_dict, value, key, time):\n",
    "    if isinstance(value, list):\n",
    "        for p_id in value:\n",
    "            if p_id in new_dict:\n",
    "                new_dict[p_id].append((key, time))\n",
    "            else:\n",
    "                new_dict[p_id] = [(key, time)]\n",
    "                \n",
    "        return new_dict\n",
    "    elif isinstance(value, dict):\n",
    "        for k in value:\n",
    "            return get_new_dict(new_dict, value[k], key + '.' + k, time)\n",
    "    else:\n",
    "        return "
   ]
  },
  {
   "cell_type": "code",
   "execution_count": 37,
   "metadata": {},
   "outputs": [],
   "source": [
    "new_dict = {}\n",
    "a = get_new_dict(new_dict, x, '', time=x[\"_id\"])"
   ]
  },
  {
   "cell_type": "code",
   "execution_count": 39,
   "metadata": {},
   "outputs": [],
   "source": [
    "a"
   ]
  },
  {
   "cell_type": "markdown",
   "metadata": {},
   "source": [
    "- 示例"
   ]
  },
  {
   "cell_type": "code",
   "execution_count": null,
   "metadata": {},
   "outputs": [],
   "source": [
    "list(project.find({\"状态变换时间0-1\": {\"$gt\": datetime.datetime(2019, 9, 1)}, \n",
    "                   '状态': {'$in': ['众筹成功', '项目成功']}}))"
   ]
  },
  {
   "cell_type": "code",
   "execution_count": null,
   "metadata": {},
   "outputs": [],
   "source": [
    "p_df.head()"
   ]
  },
  {
   "cell_type": "code",
   "execution_count": null,
   "metadata": {},
   "outputs": [],
   "source": [
    "front_df.iloc[0]"
   ]
  },
  {
   "cell_type": "code",
   "execution_count": null,
   "metadata": {},
   "outputs": [],
   "source": [
    "try:\n",
    "    item = project.find_one({\"_id\": '121291'})  # 项目历史信息\n",
    "    p_df = to_df(item)  # 转换扩散数据\n",
    "    t_start, t_end = p_df.index[0], p_df.index[-1]  # 项目扩散数据最早与最晚时间点\n",
    "    f_page = front_page.find({\"监测时间\": {\"$gte\":t_start, \"$lte\":t_end}},\n",
    "                             sort=[('监测时间', 1)])  # 取出这个时间段的主页观察数据\n",
    "    t_dict = {}  # 初始时刻无数据\n",
    "    for a in f_page:\n",
    "        t_dict = get_demo_data(a, t_dict, item[\"_id\"])  # 迭代查看_id是否在各展区\n",
    "    \n",
    "    dataset = get_eff_data(t_dict)\n",
    "    col_names = list(dataset)\n",
    "    col_names.remove(\"监测时间\")\n",
    "    front_df = pd.DataFrame(dataset, index=dataset[\"监测时间\"], columns=col_names)\n",
    "\n",
    "    # eff_col_names = []  # 剔除全为False的列\n",
    "    # sum_f_df = front_df.sum()\n",
    "    # for x in sum_f_df.index:\n",
    "    #     if sum_f_df[x] > 0:\n",
    "    #         eff_col_names.append(x)\n",
    "\n",
    "    # eff_front_df = front_df[eff_col_names]\n",
    "    # clean_eff_front_df = eff_front_df[eff_front_df.sum(axis=1) > 0]  # 剔除全为False的时间点\n",
    "except Exception as e:\n",
    "    print(e)"
   ]
  },
  {
   "cell_type": "code",
   "execution_count": null,
   "metadata": {},
   "outputs": [],
   "source": [
    "clean_eff_front_df"
   ]
  },
  {
   "cell_type": "code",
   "execution_count": null,
   "metadata": {},
   "outputs": [],
   "source": [
    "a_dict = {}  # 初始化\n",
    "for i, idx in enumerate(clean_eff_front_df.index):\n",
    "    if i == 0:\n",
    "        for col in eff_col_names:\n",
    "            if clean_eff_front_df.loc[idx, col]:\n",
    "                a_dict[col] = [6]\n",
    "            else:\n",
    "                a_dict[col] = [0]\n",
    "    else:\n",
    "        for col in eff_col_names:\n",
    "            if clean_eff_front_df.loc[idx, col]:\n",
    "                if a_dict[col][-1] == 0:\n",
    "                    a_dict[col] = a_dict[col] + [6]\n",
    "                else:\n",
    "                    a_dict[col] = a_dict.get(col, []) + [round((clean_eff_front_df.index[i] - \\\n",
    "                                                      clean_eff_front_df.index[i-1]).\n",
    "                                                     to_pytimedelta().total_seconds()\\\n",
    "                                                     /3600, 0)]\n",
    "            else:\n",
    "                a_dict[col] = a_dict.get(col, []) + [0]\n",
    "\n",
    "a_dict_2 = {col: np.cumsum(a_dict[col]) for col in a_dict}\n",
    "clean_df = pd.DataFrame(a_dict_2, index=clean_eff_front_df.index)"
   ]
  },
  {
   "cell_type": "code",
   "execution_count": null,
   "metadata": {},
   "outputs": [],
   "source": [
    "clean_df"
   ]
  },
  {
   "cell_type": "code",
   "execution_count": null,
   "metadata": {},
   "outputs": [],
   "source": [
    "b_dict = {}\n",
    "for index in p_df.index:\n",
    "    d = np.sum(index > clean_df.index)  # 当前项目扩散时间与主页呈现时间的比较\n",
    "    for col in eff_col_names:\n",
    "        if not d:\n",
    "            b_dict[col] = b_dict.get(col, []) + [0]\n",
    "        else:\n",
    "            b_dict[col] = b_dict.get(col, []) + [clean_df.iloc[d-1][col]]\n",
    "                        \n",
    "f_df = pd.DataFrame(b_dict, index=p_df.index)         "
   ]
  },
  {
   "cell_type": "code",
   "execution_count": null,
   "metadata": {},
   "outputs": [],
   "source": [
    "m_df = pd.concat([p_df, f_df], axis=1)\n",
    "interv_list = [t - m_df.index[0] if i > 0 else pd.Timedelta(0, unit=\"hour\") for i, t in enumerate(m_df.index)]      \n",
    "t_list = list(map(lambda x : round(x.to_pytimedelta().total_seconds()/3600, 1), \n",
    "                  interv_list))  # 转换为相对众筹开始时间的绝对时长(小时)\n",
    "\n",
    "m_df.index = t_list"
   ]
  },
  {
   "cell_type": "code",
   "execution_count": null,
   "metadata": {},
   "outputs": [],
   "source": [
    "m_df"
   ]
  },
  {
   "cell_type": "code",
   "execution_count": null,
   "metadata": {},
   "outputs": [],
   "source": [
    "import matplotlib\n",
    "myfont = matplotlib.font_manager.FontProperties(fname='/System/Library/Fonts/STHeiti Light.ttc')\n",
    "mpl.rcParams['axes.unicode_minus'] = False"
   ]
  },
  {
   "cell_type": "code",
   "execution_count": null,
   "metadata": {},
   "outputs": [],
   "source": [
    "%matplotlib inline\n",
    "fig = plt.figure(figsize=(12, 20))\n",
    "for i, col in enumerate(m_df.columns, start=1):\n",
    "    ax = fig.add_subplot(5, 2, i)\n",
    "    ax.plot(m_df.index, m_df[col], label=col)\n",
    "    ax.set_xlabel('时间', fontproperties=myfont, fontsize=12)\n",
    "    ax.legend(prop=myfont)\n",
    "\n",
    "fig.tight_layout()"
   ]
  },
  {
   "cell_type": "markdown",
   "metadata": {},
   "source": [
    "## Bass\n",
    "\n",
    "### 扩散分为两个阶段:\n",
    "- 信息扩散\n",
    "- 采纳行为扩散"
   ]
  },
  {
   "cell_type": "code",
   "execution_count": 11,
   "metadata": {},
   "outputs": [],
   "source": [
    "class estim_bass:\n",
    "    def __init__(self, data):\n",
    "        self.s = increment(data.支持者数.values)\n",
    "        self.p_s = increment(data.完成百分比.values)\n",
    "        self.t_list = data.index\n",
    "        self.s_len= len(self.s)\n",
    "        self.bounds = [(-0.5, 0.5), (-1, 1), (np.sum(self.s), 10 * np.sum(self.s))]\n",
    "        self.ini_values = [0.05, 0.1,  1.5 * np.sum(self.s)]\n",
    "    \n",
    "    def non_cumm(self, x):\n",
    "        return [(x[i] - x[i-1]) if i >= 1 else x[0] for i in range(len(x))]\n",
    "    \n",
    "    def bass(self, params):  # 如果要使用其它模型，可以重新定义\n",
    "        p, q, m = params\n",
    "        a = np.array([1 - np.exp(-(p + q) * t) for t in self.t_list])\n",
    "        b = np.array([1 + q / p * np.exp(-(p + q) * t) for t in self.t_list])\n",
    "        diffu_cont = m * a / b\n",
    "        adopt_cont = self.non_cumm(diffu_cont)\n",
    "        return pd.Series(adopt_cont, index=self.t_list)\n",
    "    \n",
    "    def mse(self, params):  # 定义适应度函数（mse）\n",
    "        a = self.bass(params)\n",
    "        sse = np.sum(np.square(self.s - a))\n",
    "        return np.sqrt(sse) / self.s_len  # 均方误\n",
    "\n",
    "    def r2(self, params):  # 求R2\n",
    "        f_act = self.bass(params)\n",
    "        tse = np.sum(np.square(self.s - f_act))\n",
    "        mean_y = np.mean(self.s)\n",
    "        ssl = np.sum(np.square(self.s - mean_y))\n",
    "        R_2 = (ssl - tse) / ssl\n",
    "        return R_2\n",
    "    \n",
    "    def solve(self):\n",
    "        try:\n",
    "            sol = minimize(self.mse, self.ini_values, bounds=self.bounds, method='SLSQP')\n",
    "            return {'mse': sol.fun, 'r2': self.r2(sol.x), 'p': sol.x[0], 'q': sol.x[1], 'm': int(sol.x[2])}\n",
    "        except Exception as E:\n",
    "            print(\"寻优失败\")\n",
    "            print(E)"
   ]
  },
  {
   "cell_type": "code",
   "execution_count": 12,
   "metadata": {},
   "outputs": [],
   "source": [
    "class BassEstimate:\n",
    "    t_n = 800  # 抽样量\n",
    "\n",
    "    def __init__(self, s, para_range=None, orig_points=[]):  # 初始化实例参数\n",
    "        self.s, self.s_len = np.array(s), len(s)\n",
    "        self.orig_points = orig_points[:]  # 初始化边界点\n",
    "        if not para_range:\n",
    "            self.para_range = [[1e-6, 0.1], [1e-4, 0.8], [sum(s), 8 * sum(s)]]\n",
    "        else:\n",
    "            self.para_range = para_range[:]  # 参数范围\n",
    "        self.p_range = self.para_range[:]  # 用于产生边界节点的参数范围\n",
    "\n",
    "    def gener_orig(self):  # 递归产生边界点\n",
    "        if self.p_range:  # 空表返回None\n",
    "            return None\n",
    "        else:\n",
    "            pa = self.p_range.pop()\n",
    "            if self.orig_points:\n",
    "                self.orig_points = [[pa[0]], [pa[1]]]  # 初始化, orig_points为空的情形\n",
    "            else:\n",
    "                self.orig_points = [[pa[0]] + x for x in self.orig_points] + [\n",
    "                    [pa[1]] + x for x in self.orig_points\n",
    "                ]  # 二分裂\n",
    "\n",
    "            return self.gener_orig()\n",
    "\n",
    "    def sample(self, c_range):  # 抽样参数点\n",
    "        p_list = []\n",
    "        for pa in c_range:\n",
    "            if isinstance(pa[0], float):\n",
    "                x = (pa[1] - pa[0]) * np.random.rand(self.t_n) + pa[0]\n",
    "            else:\n",
    "                x = np.random.randint(low=pa[0], high=pa[1] + 1, size=self.t_n)\n",
    "            p_list.append(x)\n",
    "\n",
    "        p_list = np.array(p_list).T\n",
    "        return p_list.tolist()\n",
    "\n",
    "    def f(self, params):  # 如果要使用其它模型，可以重新定义\n",
    "        p, q, m = params\n",
    "        t_list = np.arange(1, self.s_len + 1)\n",
    "        a = 1 - np.exp(-(p + q) * t_list)\n",
    "        b = 1 + q / p * np.exp(-(p + q) * t_list)\n",
    "        diffu_cont = m * a / b\n",
    "        adopt_cont = np.array(\n",
    "            [diffu_cont[i] if i == 0 else diffu_cont[i] - diffu_cont[i - 1] for i in range(self.s_len)]\n",
    "        )\n",
    "        return adopt_cont\n",
    "\n",
    "    def mse(self, params):  # 定义适应度函数（mse）\n",
    "        a = self.f(params)\n",
    "        sse = np.sum(np.square(self.s - a))\n",
    "        return np.sqrt(sse) / self.s_len  # 均方误\n",
    "\n",
    "    def r2(self, params):  # 求R2\n",
    "        f_act = self.f(params)\n",
    "        tse = np.sum(np.square(self.s - f_act))\n",
    "        mean_y = np.mean(self.s)\n",
    "        ssl = np.sum(np.square(self.s - mean_y))\n",
    "        R_2 = (ssl - tse) / ssl\n",
    "        return R_2\n",
    "\n",
    "    def optima_search(self, c_n=100, max_runs=100, threshold=10e-5):\n",
    "        self.gener_orig()  # 产生边界节点\n",
    "        c_range = self.para_range[:]\n",
    "        samp = self.sample(c_range)\n",
    "        solution = sorted([self.mse(x)] + x for x in samp + self.orig_points)[:c_n]\n",
    "\n",
    "        for i in range(max_runs):  # 最大循环次数\n",
    "            params_min = np.min(np.array(solution), 0)  # 最小值\n",
    "            params_max = np.max(np.array(solution), 0)  # 最大值\n",
    "            c_range = [(params_min[j + 1], params_max[j + 1]) for j in range(len(c_range))]  # 重新定界\n",
    "            samp = self.sample(c_range)\n",
    "            solution = sorted([[self.mse(x)] + x for x in samp] + solution)[:c_n]\n",
    "            r = sorted([x[0] for x in solution])\n",
    "            v = (r[-1] - r[0]) / r[0]\n",
    "            if v < threshold:\n",
    "                break\n",
    "        else:\n",
    "            print(\"Exceed the maximal iteration: %d\" % max_runs)\n",
    "\n",
    "        return solution[0]  # [mse, p, q, m]"
   ]
  },
  {
   "cell_type": "markdown",
   "metadata": {},
   "source": [
    "### 对单条众筹成功项目的数据处理"
   ]
  },
  {
   "cell_type": "code",
   "execution_count": 13,
   "metadata": {},
   "outputs": [],
   "source": [
    "res_list = []\n",
    "for i, item in enumerate(s_project.find({\"状态\": '项目成功'})):\n",
    "    try:\n",
    "        data = prepare_data(item)\n",
    "        s1 = increment(data.支持者数.values)\n",
    "        s2 = increment(data.完成百分比.values)\n",
    "        t_list = data.index\n",
    "        break\n",
    "    except Exception as e:\n",
    "        print(i, e)"
   ]
  },
  {
   "cell_type": "code",
   "execution_count": 27,
   "metadata": {},
   "outputs": [],
   "source": [
    "t_list1 = [int(t_list[i]/24) + 1 for i in range(len(t_list)) ]"
   ]
  },
  {
   "cell_type": "code",
   "execution_count": 28,
   "metadata": {
    "collapsed": true,
    "jupyter": {
     "outputs_hidden": true
    },
    "tags": []
   },
   "outputs": [
    {
     "data": {
      "text/plain": [
       "[1,\n",
       " 2,\n",
       " 3,\n",
       " 4,\n",
       " 5,\n",
       " 6,\n",
       " 7,\n",
       " 8,\n",
       " 9,\n",
       " 10,\n",
       " 11,\n",
       " 12,\n",
       " 13,\n",
       " 15,\n",
       " 16,\n",
       " 17,\n",
       " 18,\n",
       " 19,\n",
       " 22,\n",
       " 23,\n",
       " 26,\n",
       " 28,\n",
       " 29,\n",
       " 30,\n",
       " 31,\n",
       " 32,\n",
       " 33,\n",
       " 35,\n",
       " 36,\n",
       " 37,\n",
       " 38,\n",
       " 38,\n",
       " 40,\n",
       " 41,\n",
       " 42,\n",
       " 43,\n",
       " 44]"
      ]
     },
     "execution_count": 28,
     "metadata": {},
     "output_type": "execute_result"
    }
   ],
   "source": [
    "t_list1"
   ]
  },
  {
   "cell_type": "code",
   "execution_count": 29,
   "metadata": {},
   "outputs": [
    {
     "data": {
      "text/plain": [
       "[<matplotlib.lines.Line2D at 0x7f20535e12b0>]"
      ]
     },
     "execution_count": 29,
     "metadata": {},
     "output_type": "execute_result"
    },
    {
     "data": {
      "image/png": "[encoded data removed]",
      "text/plain": [
       "<Figure size 864x864 with 1 Axes>"
      ]
     },
     "metadata": {
      "needs_background": "light"
     },
     "output_type": "display_data"
    }
   ],
   "source": [
    "fig = plt.figure(figsize=(12, 12))\n",
    "ax = fig.add_subplot(1, 1, 1)\n",
    "ax.plot(t_list1, s1, 'ro-', alpha=0.5)"
   ]
  },
  {
   "cell_type": "code",
   "execution_count": null,
   "metadata": {},
   "outputs": [],
   "source": []
  },
  {
   "cell_type": "code",
   "execution_count": 40,
   "metadata": {},
   "outputs": [
    {
     "name": "stderr",
     "output_type": "stream",
     "text": [
      "<ipython-input-20-2807ba37aacd>:15: RuntimeWarning: overflow encountered in exp\n",
      "  a = np.array([1 - np.exp(-(p + q) * t) for t in self.t_list])\n",
      "<ipython-input-20-2807ba37aacd>:16: RuntimeWarning: overflow encountered in exp\n",
      "  b = np.array([1 + q / p * np.exp(-(p + q) * t) for t in self.t_list])\n",
      "<ipython-input-20-2807ba37aacd>:17: RuntimeWarning: invalid value encountered in true_divide\n",
      "  diffu_cont = m * a / b\n",
      "<ipython-input-20-2807ba37aacd>:17: RuntimeWarning: overflow encountered in multiply\n",
      "  diffu_cont = m * a / b\n",
      "<ipython-input-20-2807ba37aacd>:16: RuntimeWarning: overflow encountered in double_scalars\n",
      "  b = np.array([1 + q / p * np.exp(-(p + q) * t) for t in self.t_list])\n",
      "<ipython-input-20-2807ba37aacd>:11: RuntimeWarning: invalid value encountered in double_scalars\n",
      "  return [(x[i] - x[i-1]) if i >= 1 else x[0] for i in range(len(x))]\n"
     ]
    },
    {
     "name": "stdout",
     "output_type": "stream",
     "text": [
      "4120 '状态变换时间1-2'\n"
     ]
    }
   ],
   "source": [
    "res_list = []\n",
    "for i, item in enumerate(s_project.find({\"状态\": '项目成功'})):\n",
    "    try:\n",
    "        data = prepare_data(item)\n",
    "        s1 = increment(data.支持者数.values)\n",
    "        s2 = increment(data.完成百分比.values)\n",
    "        t_list = data.index\n",
    "        \n",
    "#         eb = estim_bass(data)\n",
    "#         a = eb.solve()\n",
    "        be = BassEstimate(s1)\n",
    "        res = be.optima_search()\n",
    "        r2 = be.r2(res[:])\n",
    "        if r2 > 0.7:\n",
    "            res_list.append([i, a, s1, t_list])\n",
    "    except Exception as e:\n",
    "        print(i, e)"
   ]
  },
  {
   "cell_type": "code",
   "execution_count": 41,
   "metadata": {},
   "outputs": [
    {
     "data": {
      "text/plain": [
       "762"
      ]
     },
     "execution_count": 41,
     "metadata": {},
     "output_type": "execute_result"
    }
   ],
   "source": [
    "len(res_list)"
   ]
  },
  {
   "cell_type": "code",
   "execution_count": 74,
   "metadata": {},
   "outputs": [
    {
     "data": {
      "image/png": "[encoded data removed]",
      "text/plain": [
       "<Figure size 864x864 with 9 Axes>"
      ]
     },
     "metadata": {
      "needs_background": "light"
     },
     "output_type": "display_data"
    }
   ],
   "source": [
    "i = 200\n",
    "fig = plt.figure(figsize=(12, 12))\n",
    "for j in range(9):\n",
    "    ax = fig.add_subplot(3, 3, j+1)\n",
    "    d = res_list[i+j]\n",
    "    ax.plot(d[-1], d[-2], 'ro-', alpha=0.5)\n"
   ]
  },
  {
   "cell_type": "code",
   "execution_count": 39,
   "metadata": {},
   "outputs": [
    {
     "data": {
      "text/plain": [
       "[<matplotlib.lines.Line2D at 0x7f649d4269d0>]"
      ]
     },
     "execution_count": 39,
     "metadata": {},
     "output_type": "execute_result"
    },
    {
     "data": {
      "image/png": "[encoded data removed]",
      "text/plain": [
       "<Figure size 432x288 with 1 Axes>"
      ]
     },
     "metadata": {
      "needs_background": "light"
     },
     "output_type": "display_data"
    }
   ],
   "source": [
    "plt.plot(eb.t_list, eb.s)"
   ]
  },
  {
   "cell_type": "code",
   "execution_count": 31,
   "metadata": {},
   "outputs": [
    {
     "name": "stdout",
     "output_type": "stream",
     "text": [
      "69, 0.8449, 0.0001, 0.0310, 1490\n"
     ]
    }
   ],
   "source": [
    "for i, a in res_list:\n",
    "    if a['r2'] > 0.8 and a['q'] > 0:\n",
    "        print(f\"{i}, {a['r2']:.4f}, {a['p']:.4f}, {a['q']:.4f}, {a['m']:.0f}\")"
   ]
  },
  {
   "cell_type": "code",
   "execution_count": 29,
   "metadata": {},
   "outputs": [
    {
     "name": "stdout",
     "output_type": "stream",
     "text": [
      "{'mse': 0.35669210234538923, 'r2': -1.0254532124995857, 'p': 0.01549213398863368, 'q': -0.9317589657513844, 'm': 59}\n"
     ]
    },
    {
     "name": "stderr",
     "output_type": "stream",
     "text": [
      "<ipython-input-20-2807ba37aacd>:15: RuntimeWarning: overflow encountered in exp\n",
      "  a = np.array([1 - np.exp(-(p + q) * t) for t in self.t_list])\n",
      "<ipython-input-20-2807ba37aacd>:16: RuntimeWarning: overflow encountered in exp\n",
      "  b = np.array([1 + q / p * np.exp(-(p + q) * t) for t in self.t_list])\n",
      "<ipython-input-20-2807ba37aacd>:17: RuntimeWarning: invalid value encountered in true_divide\n",
      "  diffu_cont = m * a / b\n"
     ]
    },
    {
     "data": {
      "text/plain": [
       "[<matplotlib.lines.Line2D at 0x7f649c238370>]"
      ]
     },
     "execution_count": 29,
     "metadata": {},
     "output_type": "execute_result"
    },
    {
     "data": {
      "image/png": "[encoded data removed]",
      "text/plain": [
       "<Figure size 432x288 with 1 Axes>"
      ]
     },
     "metadata": {
      "needs_background": "light"
     },
     "output_type": "display_data"
    }
   ],
   "source": [
    "succ_projs = s_project.find({\"状态\": \"项目成功\"})\n",
    "item = succ_projs[1977]\n",
    "\n",
    "data = prepare_data(item)\n",
    "s1 = increment(data.支持者数.values)\n",
    "s2 = increment(data.完成百分比.values)\n",
    "t_list = data.index\n",
    "\n",
    "eb = estim_bass(data)\n",
    "a = eb.solve()\n",
    "estimates = [a['p'], a['q'], a['m']]\n",
    "print(a)\n",
    "plt.scatter(t_list, s2, color=\"grey\", alpha=0.3)\n",
    "plt.plot(t_list, s2, lw=0.5, color=\"grey\", linestyle=\"--\")\n",
    "plt.plot(t_list, eb.bass(estimates), 'r-', lw=2)"
   ]
  },
  {
   "cell_type": "code",
   "execution_count": null,
   "metadata": {},
   "outputs": [],
   "source": [
    "eb.t_list = np.arange(1, 25)\n",
    "x = eb.bass([0.005, 0.2, 200])\n",
    "plt.plot(eb.t_list, x, 'ro--')"
   ]
  },
  {
   "cell_type": "code",
   "execution_count": null,
   "metadata": {},
   "outputs": [],
   "source": [
    "len(x)"
   ]
  },
  {
   "cell_type": "code",
   "execution_count": null,
   "metadata": {},
   "outputs": [],
   "source": [
    "def describe_plot(item):\n",
    "    start_time = item['状态变换时间1-2']\n",
    "    end_time = item['状态变换时间2-3']\n",
    "\n",
    "    print(f\"项目编号: {item['_id']}\\n项目名称: {item['项目名称']}\\n所属类别: {item['所属类别']}\\n公司名称: {item['公司名称']}\")\n",
    "    print(f\"\\n众筹期限: {item['众筹期限']}天\\n项目状态: {item['状态']}\")\n",
    "    print()\n",
    "    print(\"发起人页面:\", f\"http://z.jd.com/project/details/{item['_id']}.html\") \n",
    "    print(\"项目页面:\", f\"http://z.jd.com{item['发起人链接']}\")\n",
    "    print()\n",
    "    print('预热中:', item['状态变换时间0-1'].strftime('%Y{y}%m{m}%d{d} %H:%M:%S').format(y='年',m='月',d='日'), sep='\\t') \n",
    "    print('预热中->众筹中:', start_time.strftime('%Y{y}%m{m}%d{d} %H:%M:%S').format(y='年',m='月',d='日'), sep='\\t')\n",
    "    print('众筹中->众筹成功:', end_time.strftime('%Y{y}%m{m}%d{d} %H:%M:%S').format(y='年',m='月',d='日'), sep='\\t')\n",
    "    print('众筹中->项目成功:', item['状态变换时间3-4'].strftime('%Y{y}%m{m}%d{d} %H:%M:%S').format(y='年',m='月',d='日'), sep='\\t')\n",
    "\n",
    "    data = to_df(item)\n",
    "    day_data = transfer_to_day(data)\n",
    "    t_fund = day_data['筹集金额'][-1]\n",
    "    print()\n",
    "    print(\"众筹前的关注者数增长:\")\n",
    "    print(day_data[['关注数','点赞数']].loc[:start_time])\n",
    "\n",
    "    fig = plt.figure(figsize=(12, 9))\n",
    "    myfont = mpl.font_manager.FontProperties(fname=\"/Library/Fonts/Songti.ttc\")\n",
    "    mpl.rcParams['axes.unicode_minus'] = False\n",
    "    for i, col in enumerate(col_names, start=1):\n",
    "        ax = fig.add_subplot(3, 2, i)\n",
    "        ax.plot(day_data.index, increment(day_data[col]), 'r-', lw=0.5)\n",
    "        ax.scatter(day_data.index.values, increment(day_data[col].values), color='grey', alpha=0.5)\n",
    "        ax.set_ylabel(col, fontproperties=myfont, fontsize=16)\n",
    "        ax.set_xlim([day_data.index.values[0], day_data.index.values[-1]])\n",
    "        ax.axvline(start_time, color='green', linestyle='--', linewidth=0.5)\n",
    "        ax.axvline(end_time, color='red', linestyle='--', linewidth=0.5)\n",
    "        for tick in ax.get_xticklabels():\n",
    "            tick.set_rotation(30)\n",
    "\n",
    "        if i == 4:\n",
    "            ax.axhline(100, color='blue', linestyle='--', linewidth=0.5)\n",
    "\n",
    "        if i == 5:\n",
    "            ax.axhline(t_fund, color='blue', linestyle='--', linewidth=0.5)\n",
    "            ax.text(day_data.index.values[0], t_fund*0.8, f\"{t_fund}元\", fontproperties=myfont, fontsize=13, color='green')\n",
    "\n",
    "    fig.tight_layout()\n",
    "    return day_data"
   ]
  },
  {
   "cell_type": "code",
   "execution_count": null,
   "metadata": {},
   "outputs": [],
   "source": [
    "item = succ_projs[174]\n",
    "day_data = describe_plot(item)"
   ]
  },
  {
   "cell_type": "markdown",
   "metadata": {},
   "source": [
    "- 累积扩散图"
   ]
  },
  {
   "cell_type": "code",
   "execution_count": null,
   "metadata": {},
   "outputs": [],
   "source": [
    "fig = plt.figure(figsize=(12, 9))\n",
    "myfont = mpl.font_manager.FontProperties(fname=\"/Library/Fonts/Songti.ttc\")\n",
    "mpl.rcParams['axes.unicode_minus'] = False\n",
    "for i, col in enumerate(col_names, start=1):\n",
    "    ax = fig.add_subplot(3, 2, i)\n",
    "    ax.plot(day_data.index, day_data[col], 'r-')\n",
    "    ax.scatter(day_data.index.values, day_data[col].values, color='grey', alpha=0.5)\n",
    "    ax.set_ylabel(col, fontproperties=myfont, fontsize=16)\n",
    "    ax.set_xlim([day_data.index.values[0], day_data.index.values[-1]])\n",
    "    ax.axvline(start_time, color='green', linestyle='--', linewidth=0.5)\n",
    "    ax.axvline(end_time, color='red', linestyle='--', linewidth=0.5)\n",
    "    for tick in ax.get_xticklabels():\n",
    "        tick.set_rotation(45)\n",
    "    \n",
    "    if i == 4:\n",
    "        ax.axhline(100, color='blue', linestyle='--', linewidth=0.5)\n",
    "    \n",
    "    if i == 5:\n",
    "        ax.axhline(t_fund, color='blue', linestyle='--', linewidth=0.5)\n",
    "        ax.text(day_data.index.values[0], t_fund*0.8, f\"{t_fund}元\", fontproperties=myfont, fontsize=13, color='blue')\n",
    "        \n",
    "fig.tight_layout()"
   ]
  },
  {
   "cell_type": "markdown",
   "metadata": {},
   "source": [
    "- 评论数据处理：分别选取出众筹开始前后的评论"
   ]
  },
  {
   "cell_type": "code",
   "execution_count": null,
   "metadata": {},
   "outputs": [],
   "source": [
    "review = x['评论']['评论详细']\n",
    "list_review = sorted(review.items())\n",
    "\n",
    "strpTime = datetime.datetime.strptime  # 日期字符串转换为datetime对象\n",
    "before_items = [(strpTime(item[1]['创建时间'], \"%Y-%m-%d %H:%M:%S\"), item[1]['评论内容']) for item in list_review \n",
    "                if strpTime(item[1]['创建时间'], \"%Y-%m-%d %H:%M:%S\") <= start_time]\n",
    "after_items = [(strpTime(item[1]['创建时间'], \"%Y-%m-%d %H:%M:%S\"), item[1]['评论内容']) for item in list_review \n",
    "               if strpTime(item[1]['创建时间'], \"%Y-%m-%d %H:%M:%S\") > start_time]\n",
    "\n",
    "print(f'众筹开始前评论数量: {len(before_items)}\\n众筹开始后评论数量: {len(after_items)}')"
   ]
  },
  {
   "cell_type": "code",
   "execution_count": null,
   "metadata": {},
   "outputs": [],
   "source": [
    "for dt, item in after_items:\n",
    "    print(dt.date(), item)"
   ]
  },
  {
   "cell_type": "markdown",
   "metadata": {},
   "source": [
    "### 分析众筹成功项目"
   ]
  },
  {
   "cell_type": "code",
   "execution_count": null,
   "metadata": {},
   "outputs": [],
   "source": [
    "succ_project = project.find({'状态': '项目成功'})"
   ]
  },
  {
   "cell_type": "code",
   "execution_count": null,
   "metadata": {},
   "outputs": [],
   "source": [
    "print('预热中:', succ_project[1]['状态变换时间0-1'].strftime('%Y年%m月%d日 %H:%M:%S'), sep='\\t') \n",
    "print('预热中->众筹中:', succ_project[1]['状态变换时间1-2'].strftime('%Y年%m月%d日 %H:%M:%S'), sep='\\t')\n",
    "print('众筹中->众筹成功:', succ_project[1]['状态变换时间2-3'].strftime('%Y年%m月%d日 %H:%M:%S'), sep='\\t')\n",
    "print('众筹中->项目成功:', succ_project[1]['状态变换时间3-4'].strftime('%Y年%m月%d日 %H:%M:%S'), sep='\\t')"
   ]
  },
  {
   "cell_type": "markdown",
   "metadata": {
    "slideshow": {
     "slide_type": "-"
    }
   },
   "source": [
    "- 项目成功时间\n",
    "> 查看从众筹开始到众筹成功的时间分布。"
   ]
  },
  {
   "cell_type": "code",
   "execution_count": null,
   "metadata": {},
   "outputs": [],
   "source": [
    "def get_status():\n",
    "    \n",
    "    return"
   ]
  },
  {
   "cell_type": "code",
   "execution_count": null,
   "metadata": {},
   "outputs": [],
   "source": [
    "x = project.find_one({}).keys()"
   ]
  },
  {
   "cell_type": "code",
   "execution_count": null,
   "metadata": {},
   "outputs": [],
   "source": [
    "for d in sorted(list(x)):\n",
    "    print(d)"
   ]
  },
  {
   "cell_type": "code",
   "execution_count": null,
   "metadata": {},
   "outputs": [],
   "source": [
    "project.find_one({'状态': \"项目成功\"}, projection={\"项目动态信息\":0, \"各档基础信息\":0, \"各档动态信息\":0, \"评论\":0})"
   ]
  },
  {
   "cell_type": "code",
   "execution_count": null,
   "metadata": {},
   "outputs": [],
   "source": [
    "def to_df(item):\n",
    "    dyn_info = item['项目动态信息']\n",
    "    t_fund = item['目标金额']\n",
    "    start_t = item['状态变换时间1-2']  # 众筹开始时间\n",
    "    end_t = item['状态变换时间2-3']  # 众筹成功时间\n",
    "\n",
    "    # 去除重复\n",
    "    a1 = dyn_info[0]\n",
    "    records = {'更新时间':[], '支持者数':[], '关注数':[], '点赞数':[], '完成百分比':[], '筹集金额':[]}\n",
    "    for i, a2 in enumerate(dyn_info):\n",
    "        if a2[\"更新时间\"] != a1['更新时间']:\n",
    "            records['更新时间'].append(a2['更新时间'])\n",
    "            records['支持者数'].append(a2['支持者数'])\n",
    "            records['关注数'].append(a2['关注数'])\n",
    "            records['完成百分比'].append(a2['完成百分比'])\n",
    "            records['筹集金额'].append(a2['筹集金额'])\n",
    "            records['点赞数'].append(a2['点赞数'])\n",
    "            a1 = a2\n",
    "\n",
    "    # 绘图\n",
    "    col_names = ['关注数', '支持者数', '点赞数', '完成百分比', '筹集金额']\n",
    "    df = pd.DataFrame(records, index=records['更新时间'], columns=col_names)\n",
    "    return df"
   ]
  },
  {
   "cell_type": "code",
   "execution_count": null,
   "metadata": {
    "scrolled": true
   },
   "outputs": [],
   "source": [
    "def getTimeRange(df)\n",
    "    x = df[df.index > start_t]\n",
    "    y = x[x.完成百分比.values > 100]\n",
    "    d = x[:y.index[0]]\n",
    "    return d"
   ]
  },
  {
   "cell_type": "code",
   "execution_count": null,
   "metadata": {},
   "outputs": [],
   "source": [
    "from functools import partial\n",
    "\n",
    "def f(x, y, z):\n",
    "    return x + y + z\n",
    "\n",
    "g = partial(f, z=10)\n",
    "g(1,2)"
   ]
  },
  {
   "cell_type": "code",
   "execution_count": null,
   "metadata": {},
   "outputs": [],
   "source": [
    "g(x=1,y=2, z=3)"
   ]
  },
  {
   "cell_type": "code",
   "execution_count": null,
   "metadata": {},
   "outputs": [],
   "source": [
    "g"
   ]
  },
  {
   "cell_type": "code",
   "execution_count": null,
   "metadata": {},
   "outputs": [],
   "source": []
  }
 ],
 "metadata": {
  "kernelspec": {
   "display_name": "Python 3",
   "language": "python",
   "name": "python3"
  },
  "language_info": {
   "codemirror_mode": {
    "name": "ipython",
    "version": 3
   },
   "file_extension": ".py",
   "mimetype": "text/x-python",
   "name": "python",
   "nbconvert_exporter": "python",
   "pygments_lexer": "ipython3",
   "version": "3.8.1"
  }
 },
 "nbformat": 4,
 "nbformat_minor": 4
}
